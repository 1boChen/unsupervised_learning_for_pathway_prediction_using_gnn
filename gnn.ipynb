{
 "cells": [
  {
   "cell_type": "code",
   "execution_count": 1,
   "metadata": {},
   "outputs": [],
   "source": [
    "import os\n",
    "os.environ['CUDA_LAUNCH_BLOCKING'] = \"1\""
   ]
  },
  {
   "cell_type": "code",
   "execution_count": 2,
   "metadata": {},
   "outputs": [
    {
     "name": "stdout",
     "output_type": "stream",
     "text": [
      "Number of nodes: 4816\n",
      "Number of edges: 101782\n"
     ]
    }
   ],
   "source": [
    "import networkx as nx\n",
    "import csv\n",
    "\n",
    "def build_multidigraph_from_csv(csv_file):\n",
    "    G = nx.MultiDiGraph()\n",
    "\n",
    "    with open(csv_file, 'r') as file:\n",
    "        reader = csv.DictReader(file)\n",
    "        for row in reader:\n",
    "            # Add nodes (if not already added)\n",
    "            G.add_node(row['starter_ID'], name=row['starter_ID'])\n",
    "            G.add_node(row['receiver_ID'], name=row['receiver_ID'])\n",
    "\n",
    "            # Add directed edges with additional attributes\n",
    "            # Each edge is unique and can represent a different type of interaction\n",
    "            G.add_edge(\n",
    "                row['starter_ID'], \n",
    "                row['receiver_ID'], \n",
    "                interaction_type=row['subtype_name'],\n",
    "                relation_type=row['relation_type'],\n",
    "                pathway_sources=row['pathway_source'],\n",
    "                credibility=row['credibility']\n",
    "            )\n",
    "\n",
    "    return G\n",
    "\n",
    "# Path to the CSV file\n",
    "csv_file_path = 'relations_train_final.csv'  # Update this to the path of your relations_train.csv file\n",
    "\n",
    "# Build the multidigraph\n",
    "MDG = build_multidigraph_from_csv(csv_file_path)\n",
    "\n",
    "# Print basic information about the multidigraph\n",
    "print(f\"Number of nodes: {MDG.number_of_nodes()}\")\n",
    "print(f\"Number of edges: {MDG.number_of_edges()}\")\n",
    "\n",
    "# The multidigraph `MDG` is now constructed with nodes and multiple types of directed edges from the relations_train.csv\n",
    "# You can now use `MDG` for further analysis or as input to clustering algorithms.\n",
    "\n"
   ]
  },
  {
   "cell_type": "code",
   "execution_count": 3,
   "metadata": {},
   "outputs": [],
   "source": [
    "import torch\n",
    "import torch.nn.functional as F\n",
    "from torch_geometric.nn import GCNConv\n",
    "from torch_geometric.data import Data\n",
    "from torch_geometric.utils import from_networkx\n",
    "\n",
    "class GCN(torch.nn.Module):\n",
    "    def __init__(self, num_nodes, embedding_dim, num_classes, num_hidden_units=32):\n",
    "        super(GCN, self).__init__()\n",
    "        self.node_emb = torch.nn.Embedding(num_nodes, embedding_dim)  # Trainable embeddings\n",
    "        self.conv1 = GCNConv(embedding_dim, num_hidden_units)  # Adjusted to use num_hidden_units\n",
    "        self.conv2 = GCNConv(num_hidden_units, num_classes)  # Input from the hidden layer\n",
    "\n",
    "    def forward(self, data):\n",
    "        x = self.node_emb(data.node_index)  # Node features\n",
    "        edge_index = data.edge_index  # Edge indices\n",
    "\n",
    "        x = F.relu(self.conv1(x, edge_index))\n",
    "        x = F.dropout(x, p=0.5, training=self.training)\n",
    "        x = self.conv2(x, edge_index)\n",
    "\n",
    "        return F.log_softmax(x, dim=1)\n",
    "\n",
    "# Assuming MDG is your MultiDiGraph\n",
    "train_data = from_networkx(MDG)\n",
    "\n",
    "num_nodes = train_data.num_nodes\n",
    "embedding_dim = 32  # Choose an appropriate embedding size\n",
    "num_classes = 7   # Set the number of classes based on your edge types\n"
   ]
  },
  {
   "cell_type": "code",
   "execution_count": 4,
   "metadata": {},
   "outputs": [],
   "source": [
    "# Collect all unique interaction types from MDG\n",
    "interaction_types = set()\n",
    "for _, _, edge_data in MDG.edges(data=True):\n",
    "    interaction_types.add(edge_data['interaction_type'])\n",
    "\n",
    "# Update the mapping to include 'no interaction' class\n",
    "interaction_type_to_label = {inter_type: i for i, inter_type in enumerate(interaction_types)}\n",
    "num_classes = len(interaction_type_to_label)\n",
    "\n",
    "def setup_edge_labels_with_no_interaction(MDG, interaction_type_to_label, data):\n",
    "    num_nodes = len(MDG.nodes())\n",
    "    edge_labels = torch.zeros((num_nodes, num_nodes), dtype=torch.long)\n",
    "\n",
    "    for u, v, edge_data in MDG.edges(data=True):\n",
    "        u_index = list(MDG.nodes()).index(u)\n",
    "        v_index = list(MDG.nodes()).index(v)\n",
    "        label = interaction_type_to_label[edge_data['interaction_type']]\n",
    "        edge_labels[u_index, v_index] = label\n",
    "\n",
    "    data.edge_label = edge_labels  # Directly modify the data object"
   ]
  },
  {
   "cell_type": "code",
   "execution_count": 5,
   "metadata": {},
   "outputs": [],
   "source": [
    "import torch.optim as optim\n",
    "\n",
    "# Process validation data\n",
    "val_MDG = build_multidigraph_from_csv('cleaned_relations_val_final.csv')\n",
    "\n",
    "# Create a global node to index mapping\n",
    "all_nodes = set(MDG.nodes()).union(set(val_MDG.nodes()))\n",
    "global_node_to_index = {node: idx for idx, node in enumerate(all_nodes)}\n",
    "\n",
    "# Function to map nodes in a graph to global indices\n",
    "def map_nodes_to_global_indices(G, global_node_to_index):\n",
    "    return [global_node_to_index[node] for node in G.nodes()]\n",
    "\n",
    "val_data = from_networkx(val_MDG)\n",
    "\n",
    "train_data.node_index = torch.tensor(map_nodes_to_global_indices(MDG, global_node_to_index), dtype=torch.long)\n",
    "val_data.node_index = torch.tensor(map_nodes_to_global_indices(val_MDG, global_node_to_index), dtype=torch.long)\n",
    "setup_edge_labels_with_no_interaction(val_MDG, interaction_type_to_label, val_data)\n",
    "setup_edge_labels_with_no_interaction(MDG, interaction_type_to_label, train_data)\n",
    "\n",
    "# Assuming the GCN class is defined\n",
    "model = GCN(num_nodes, embedding_dim, num_classes)\n",
    "optimizer = optim.Adam(model.parameters(), lr=0.01)\n",
    "criterion = torch.nn.CrossEntropyLoss()"
   ]
  },
  {
   "cell_type": "code",
   "execution_count": 6,
   "metadata": {},
   "outputs": [],
   "source": [
    "import torch.optim as optim\n",
    "import torch.nn.functional as F\n",
    "from torch_geometric.loader import DataLoader\n",
    "from tqdm import tqdm\n",
    "\n",
    "# Create a dataset of edges and their labels\n",
    "edges = train_data.edge_index.t().tolist()  # List of [node_u, node_v]\n",
    "labels = [train_data.edge_label[edge[0], edge[1]].item() for edge in edges]\n",
    "\n",
    "edge_dataset = list(zip(edges, labels))\n",
    "edge_loader = DataLoader(edge_dataset, batch_size=1024, shuffle=True)  # Adjust batch_size as needed\n",
    "\n",
    "# Assuming val_data is structured similarly to train_data\n",
    "val_edges = val_data.edge_index.t().tolist()\n",
    "val_labels = [val_data.edge_label[edge[0], edge[1]].item() for edge in val_edges]\n",
    "\n",
    "val_edge_dataset = list(zip(val_edges, val_labels))\n",
    "val_edge_loader = DataLoader(val_edge_dataset, batch_size=1024, shuffle=False)  # You can adjust the batch size\n",
    "\n",
    "from sklearn.metrics import f1_score, classification_report\n",
    "\n",
    "inverse_interaction_type_to_label = {v: k for k, v in interaction_type_to_label.items()}\n",
    "\n",
    "def validate():\n",
    "    model.eval()\n",
    "    total_loss = 0\n",
    "    total_cross_entropy_loss = 0  # Initialize cross-entropy loss\n",
    "    all_predictions = []\n",
    "    all_true_labels = []\n",
    "\n",
    "    with torch.no_grad():\n",
    "        for batch in tqdm(val_edge_loader, desc='Validating'):\n",
    "            edge_tensors, label_batch = batch\n",
    "            node_u_list, node_v_list = edge_tensors[0].to(device), edge_tensors[1].to(device)\n",
    "            label_batch = label_batch.to(device)\n",
    "\n",
    "            output = model(val_data.to(device))\n",
    "            edge_predictions = output[node_u_list].argmax(dim=1)  # Predicted classes\n",
    "\n",
    "            # Calculate and accumulate cross-entropy loss\n",
    "            cross_entropy_loss = criterion(output[node_u_list], label_batch)\n",
    "            total_cross_entropy_loss += cross_entropy_loss.item()\n",
    "\n",
    "            # Store predictions and true labels\n",
    "            preds = edge_predictions.cpu().numpy()\n",
    "            true_labels = label_batch.cpu().numpy()\n",
    "            all_predictions.extend(preds)\n",
    "            all_true_labels.extend(true_labels)\n",
    "\n",
    "    # Calculate average cross-entropy loss over all batches\n",
    "    avg_cross_entropy_loss = total_cross_entropy_loss / len(val_edge_loader)\n",
    "\n",
    "    # Calculate F1 Score and classification report\n",
    "    weighted_f1 = f1_score(all_true_labels, all_predictions, average='weighted')\n",
    "    class_report = classification_report(all_true_labels, all_predictions, target_names=[inverse_interaction_type_to_label[i] for i in range(num_classes)], zero_division=0)\n",
    "\n",
    "    print(f\"Weighted F1 Score: {weighted_f1}\\nClassification Report:\\n{class_report}\")\n",
    "    print(f\"Validation Cross-Entropy Loss: {avg_cross_entropy_loss}\")\n",
    "\n",
    "    return weighted_f1\n"
   ]
  },
  {
   "cell_type": "code",
   "execution_count": 7,
   "metadata": {},
   "outputs": [
    {
     "name": "stdout",
     "output_type": "stream",
     "text": [
      "Nodes unique to validation set: set()\n"
     ]
    }
   ],
   "source": [
    "# Assuming MDG is your training MultiDiGraph and val_MDG is your validation MultiDiGraph\n",
    "\n",
    "# Step 1: Calculate Total Number of Unique Nodes\n",
    "all_nodes = set(MDG.nodes()).union(set(val_MDG.nodes()))\n",
    "num_nodes = len(all_nodes)\n",
    "\n",
    "# Step 2: Identify Nodes Present Only in the Validation Set\n",
    "train_nodes = set(MDG.nodes())\n",
    "val_nodes = set(val_MDG.nodes())\n",
    "unique_to_val = val_nodes.difference(train_nodes)\n",
    "\n",
    "# Print or store the unique nodes to validation set\n",
    "print(\"Nodes unique to validation set:\", unique_to_val)\n"
   ]
  },
  {
   "cell_type": "code",
   "execution_count": 8,
   "metadata": {},
   "outputs": [
    {
     "name": "stdout",
     "output_type": "stream",
     "text": [
      "Using device: cuda\n"
     ]
    }
   ],
   "source": [
    "# Instantiate the model\n",
    "model = GCN(num_nodes, embedding_dim, num_classes)\n",
    "optimizer = optim.Adam(model.parameters(), lr=0.00001)  # Learning rate\n",
    "criterion = torch.nn.CrossEntropyLoss()  # Loss function\n",
    "# Check if CUDA (GPU support) is available\n",
    "device = torch.device('cuda' if torch.cuda.is_available() else 'cpu')\n",
    "print(f\"Using device: {device}\")\n",
    "\n",
    "# Move your model to the chosen device\n",
    "model = model.to(device)\n",
    "\n",
    "def train():\n",
    "    model.train()\n",
    "    total_loss = 0\n",
    "\n",
    "    for batch in tqdm(edge_loader, desc='Training'):\n",
    "        edge_tensors, label_batch = batch\n",
    "        \n",
    "        node_u_list, node_v_list = edge_tensors[0].to(device), edge_tensors[1].to(device)\n",
    "        label_batch = label_batch.to(device)\n",
    "\n",
    "        optimizer.zero_grad()\n",
    "        output = model(train_data.to(device))\n",
    "\n",
    "        edge_predictions = output[node_u_list]  # Corrected indexing\n",
    "        \n",
    "        loss = criterion(edge_predictions, label_batch)\n",
    "        loss.backward()\n",
    "        optimizer.step()\n",
    "\n",
    "        total_loss += loss.item()\n",
    "\n",
    "    return total_loss / len(edge_loader)"
   ]
  },
  {
   "cell_type": "code",
   "execution_count": 9,
   "metadata": {},
   "outputs": [
    {
     "name": "stderr",
     "output_type": "stream",
     "text": [
      "Training: 100%|██████████| 100/100 [01:07<00:00,  1.48it/s]\n",
      "Validating: 100%|██████████| 18/18 [00:02<00:00,  7.85it/s]\n"
     ]
    },
    {
     "name": "stdout",
     "output_type": "stream",
     "text": [
      "Weighted F1 Score: 0.21846581191890446\n",
      "Classification Report:\n",
      "                     precision    recall  f1-score   support\n",
      "\n",
      "    phosphorylation       0.04      0.16      0.06      1024\n",
      "         expression       0.03      0.18      0.05       722\n",
      "         inhibition       0.00      0.00      0.00      1745\n",
      "binding/association       0.00      0.00      0.00       458\n",
      "         activation       0.44      0.22      0.29      7342\n",
      "           compound       0.02      0.01      0.01       694\n",
      "        no_relation       0.33      0.25      0.28      6143\n",
      "\n",
      "           accuracy                           0.19     18128\n",
      "          macro avg       0.12      0.12      0.10     18128\n",
      "       weighted avg       0.29      0.19      0.22     18128\n",
      "\n",
      "Validation Cross-Entropy Loss: 2.0051238934199014\n",
      "Epoch 1, Train Loss: 2.1183, Val F1 Score: 0.2185\n"
     ]
    },
    {
     "name": "stderr",
     "output_type": "stream",
     "text": [
      "Training: 100%|██████████| 100/100 [01:09<00:00,  1.45it/s]\n",
      "Validating: 100%|██████████| 18/18 [00:02<00:00,  7.89it/s]\n"
     ]
    },
    {
     "name": "stdout",
     "output_type": "stream",
     "text": [
      "Weighted F1 Score: 0.2272651639176088\n",
      "Classification Report:\n",
      "                     precision    recall  f1-score   support\n",
      "\n",
      "    phosphorylation       0.04      0.15      0.06      1024\n",
      "         expression       0.02      0.16      0.04       722\n",
      "         inhibition       0.00      0.00      0.00      1745\n",
      "binding/association       0.01      0.00      0.00       458\n",
      "         activation       0.45      0.23      0.30      7342\n",
      "           compound       0.02      0.01      0.01       694\n",
      "        no_relation       0.33      0.26      0.29      6143\n",
      "\n",
      "           accuracy                           0.20     18128\n",
      "          macro avg       0.12      0.12      0.10     18128\n",
      "       weighted avg       0.29      0.20      0.23     18128\n",
      "\n",
      "Validation Cross-Entropy Loss: 1.9844081070688036\n",
      "Epoch 2, Train Loss: 2.0961, Val F1 Score: 0.2273\n"
     ]
    },
    {
     "name": "stderr",
     "output_type": "stream",
     "text": [
      "Training: 100%|██████████| 100/100 [01:09<00:00,  1.43it/s]\n",
      "Validating: 100%|██████████| 18/18 [00:02<00:00,  7.20it/s]\n"
     ]
    },
    {
     "name": "stdout",
     "output_type": "stream",
     "text": [
      "Weighted F1 Score: 0.23288410577579655\n",
      "Classification Report:\n",
      "                     precision    recall  f1-score   support\n",
      "\n",
      "    phosphorylation       0.03      0.13      0.05      1024\n",
      "         expression       0.02      0.14      0.04       722\n",
      "         inhibition       0.00      0.00      0.00      1745\n",
      "binding/association       0.01      0.00      0.00       458\n",
      "         activation       0.45      0.23      0.31      7342\n",
      "           compound       0.02      0.01      0.01       694\n",
      "        no_relation       0.33      0.29      0.31      6143\n",
      "\n",
      "           accuracy                           0.21     18128\n",
      "          macro avg       0.12      0.12      0.10     18128\n",
      "       weighted avg       0.29      0.21      0.23     18128\n",
      "\n",
      "Validation Cross-Entropy Loss: 1.965691175725725\n",
      "Epoch 3, Train Loss: 2.0734, Val F1 Score: 0.2329\n"
     ]
    },
    {
     "name": "stderr",
     "output_type": "stream",
     "text": [
      "Training: 100%|██████████| 100/100 [01:09<00:00,  1.43it/s]\n",
      "Validating: 100%|██████████| 18/18 [00:02<00:00,  7.49it/s]\n"
     ]
    },
    {
     "name": "stdout",
     "output_type": "stream",
     "text": [
      "Weighted F1 Score: 0.2424634374228181\n",
      "Classification Report:\n",
      "                     precision    recall  f1-score   support\n",
      "\n",
      "    phosphorylation       0.04      0.13      0.06      1024\n",
      "         expression       0.02      0.12      0.04       722\n",
      "         inhibition       0.00      0.00      0.00      1745\n",
      "binding/association       0.01      0.00      0.00       458\n",
      "         activation       0.45      0.25      0.32      7342\n",
      "           compound       0.02      0.01      0.01       694\n",
      "        no_relation       0.32      0.31      0.32      6143\n",
      "\n",
      "           accuracy                           0.22     18128\n",
      "          macro avg       0.12      0.12      0.11     18128\n",
      "       weighted avg       0.30      0.22      0.24     18128\n",
      "\n",
      "Validation Cross-Entropy Loss: 1.9485358993212383\n",
      "Epoch 4, Train Loss: 2.0602, Val F1 Score: 0.2425\n"
     ]
    },
    {
     "name": "stderr",
     "output_type": "stream",
     "text": [
      "Training: 100%|██████████| 100/100 [01:09<00:00,  1.43it/s]\n",
      "Validating: 100%|██████████| 18/18 [00:02<00:00,  7.69it/s]\n"
     ]
    },
    {
     "name": "stdout",
     "output_type": "stream",
     "text": [
      "Weighted F1 Score: 0.24578595846066056\n",
      "Classification Report:\n",
      "                     precision    recall  f1-score   support\n",
      "\n",
      "    phosphorylation       0.04      0.13      0.06      1024\n",
      "         expression       0.02      0.12      0.04       722\n",
      "         inhibition       0.00      0.00      0.00      1745\n",
      "binding/association       0.01      0.00      0.00       458\n",
      "         activation       0.45      0.26      0.33      7342\n",
      "           compound       0.01      0.01      0.01       694\n",
      "        no_relation       0.32      0.32      0.32      6143\n",
      "\n",
      "           accuracy                           0.22     18128\n",
      "          macro avg       0.12      0.12      0.11     18128\n",
      "       weighted avg       0.29      0.22      0.25     18128\n",
      "\n",
      "Validation Cross-Entropy Loss: 1.9331791798273723\n",
      "Epoch 5, Train Loss: 2.0384, Val F1 Score: 0.2458\n"
     ]
    },
    {
     "name": "stderr",
     "output_type": "stream",
     "text": [
      "Training: 100%|██████████| 100/100 [01:10<00:00,  1.42it/s]\n",
      "Validating: 100%|██████████| 18/18 [00:02<00:00,  8.17it/s]\n"
     ]
    },
    {
     "name": "stdout",
     "output_type": "stream",
     "text": [
      "Weighted F1 Score: 0.24940848920193692\n",
      "Classification Report:\n",
      "                     precision    recall  f1-score   support\n",
      "\n",
      "    phosphorylation       0.02      0.08      0.03      1024\n",
      "         expression       0.02      0.08      0.03       722\n",
      "         inhibition       0.00      0.00      0.00      1745\n",
      "binding/association       0.01      0.00      0.00       458\n",
      "         activation       0.45      0.27      0.33      7342\n",
      "           compound       0.01      0.01      0.01       694\n",
      "        no_relation       0.32      0.33      0.33      6143\n",
      "\n",
      "           accuracy                           0.23     18128\n",
      "          macro avg       0.12      0.11      0.11     18128\n",
      "       weighted avg       0.29      0.23      0.25     18128\n",
      "\n",
      "Validation Cross-Entropy Loss: 1.9192270901468065\n",
      "Epoch 6, Train Loss: 2.0198, Val F1 Score: 0.2494\n"
     ]
    },
    {
     "name": "stderr",
     "output_type": "stream",
     "text": [
      "Training: 100%|██████████| 100/100 [01:09<00:00,  1.44it/s]\n",
      "Validating: 100%|██████████| 18/18 [00:02<00:00,  8.01it/s]\n"
     ]
    },
    {
     "name": "stdout",
     "output_type": "stream",
     "text": [
      "Weighted F1 Score: 0.2567547494814008\n",
      "Classification Report:\n",
      "                     precision    recall  f1-score   support\n",
      "\n",
      "    phosphorylation       0.02      0.08      0.04      1024\n",
      "         expression       0.02      0.07      0.03       722\n",
      "         inhibition       0.00      0.00      0.00      1745\n",
      "binding/association       0.00      0.00      0.00       458\n",
      "         activation       0.45      0.28      0.34      7342\n",
      "           compound       0.01      0.01      0.01       694\n",
      "        no_relation       0.32      0.35      0.34      6143\n",
      "\n",
      "           accuracy                           0.24     18128\n",
      "          macro avg       0.12      0.11      0.11     18128\n",
      "       weighted avg       0.29      0.24      0.26     18128\n",
      "\n",
      "Validation Cross-Entropy Loss: 1.9067263868119981\n",
      "Epoch 7, Train Loss: 2.0070, Val F1 Score: 0.2568\n"
     ]
    },
    {
     "name": "stderr",
     "output_type": "stream",
     "text": [
      "Training: 100%|██████████| 100/100 [01:09<00:00,  1.45it/s]\n",
      "Validating: 100%|██████████| 18/18 [00:02<00:00,  8.04it/s]\n"
     ]
    },
    {
     "name": "stdout",
     "output_type": "stream",
     "text": [
      "Weighted F1 Score: 0.26385782318364903\n",
      "Classification Report:\n",
      "                     precision    recall  f1-score   support\n",
      "\n",
      "    phosphorylation       0.02      0.07      0.04      1024\n",
      "         expression       0.01      0.05      0.02       722\n",
      "         inhibition       0.00      0.00      0.00      1745\n",
      "binding/association       0.00      0.00      0.00       458\n",
      "         activation       0.45      0.30      0.36      7342\n",
      "           compound       0.01      0.01      0.01       694\n",
      "        no_relation       0.32      0.36      0.34      6143\n",
      "\n",
      "           accuracy                           0.25     18128\n",
      "          macro avg       0.12      0.11      0.11     18128\n",
      "       weighted avg       0.29      0.25      0.26     18128\n",
      "\n",
      "Validation Cross-Entropy Loss: 1.894775966803233\n",
      "Epoch 8, Train Loss: 1.9949, Val F1 Score: 0.2639\n"
     ]
    },
    {
     "name": "stderr",
     "output_type": "stream",
     "text": [
      "Training: 100%|██████████| 100/100 [01:09<00:00,  1.44it/s]\n",
      "Validating: 100%|██████████| 18/18 [00:02<00:00,  7.89it/s]\n"
     ]
    },
    {
     "name": "stdout",
     "output_type": "stream",
     "text": [
      "Weighted F1 Score: 0.2665296762961334\n",
      "Classification Report:\n",
      "                     precision    recall  f1-score   support\n",
      "\n",
      "    phosphorylation       0.02      0.07      0.04      1024\n",
      "         expression       0.01      0.05      0.02       722\n",
      "         inhibition       0.00      0.00      0.00      1745\n",
      "binding/association       0.00      0.00      0.00       458\n",
      "         activation       0.45      0.30      0.36      7342\n",
      "           compound       0.01      0.01      0.01       694\n",
      "        no_relation       0.33      0.37      0.35      6143\n",
      "\n",
      "           accuracy                           0.25     18128\n",
      "          macro avg       0.12      0.11      0.11     18128\n",
      "       weighted avg       0.29      0.25      0.27     18128\n",
      "\n",
      "Validation Cross-Entropy Loss: 1.8835795256826613\n",
      "Epoch 9, Train Loss: 1.9817, Val F1 Score: 0.2665\n"
     ]
    },
    {
     "name": "stderr",
     "output_type": "stream",
     "text": [
      "Training: 100%|██████████| 100/100 [01:09<00:00,  1.45it/s]\n",
      "Validating: 100%|██████████| 18/18 [00:02<00:00,  8.00it/s]\n"
     ]
    },
    {
     "name": "stdout",
     "output_type": "stream",
     "text": [
      "Weighted F1 Score: 0.27207953732398427\n",
      "Classification Report:\n",
      "                     precision    recall  f1-score   support\n",
      "\n",
      "    phosphorylation       0.02      0.07      0.04      1024\n",
      "         expression       0.02      0.05      0.02       722\n",
      "         inhibition       0.00      0.00      0.00      1745\n",
      "binding/association       0.00      0.00      0.00       458\n",
      "         activation       0.44      0.32      0.37      7342\n",
      "           compound       0.01      0.01      0.01       694\n",
      "        no_relation       0.33      0.39      0.35      6143\n",
      "\n",
      "           accuracy                           0.27     18128\n",
      "          macro avg       0.12      0.12      0.11     18128\n",
      "       weighted avg       0.29      0.27      0.27     18128\n",
      "\n",
      "Validation Cross-Entropy Loss: 1.8739212552706401\n",
      "Epoch 10, Train Loss: 1.9647, Val F1 Score: 0.2721\n"
     ]
    },
    {
     "name": "stderr",
     "output_type": "stream",
     "text": [
      "Training: 100%|██████████| 100/100 [01:10<00:00,  1.43it/s]\n",
      "Validating: 100%|██████████| 18/18 [00:02<00:00,  7.50it/s]\n"
     ]
    },
    {
     "name": "stdout",
     "output_type": "stream",
     "text": [
      "Weighted F1 Score: 0.2792166139852747\n",
      "Classification Report:\n",
      "                     precision    recall  f1-score   support\n",
      "\n",
      "    phosphorylation       0.02      0.07      0.04      1024\n",
      "         expression       0.02      0.05      0.03       722\n",
      "         inhibition       0.16      0.00      0.01      1745\n",
      "binding/association       0.00      0.00      0.00       458\n",
      "         activation       0.44      0.33      0.38      7342\n",
      "           compound       0.01      0.01      0.01       694\n",
      "        no_relation       0.33      0.40      0.36      6143\n",
      "\n",
      "           accuracy                           0.27     18128\n",
      "          macro avg       0.14      0.12      0.12     18128\n",
      "       weighted avg       0.31      0.27      0.28     18128\n",
      "\n",
      "Validation Cross-Entropy Loss: 1.8651789294348822\n",
      "Epoch 11, Train Loss: 1.9497, Val F1 Score: 0.2792\n"
     ]
    },
    {
     "name": "stderr",
     "output_type": "stream",
     "text": [
      "Training: 100%|██████████| 100/100 [01:10<00:00,  1.42it/s]\n",
      "Validating: 100%|██████████| 18/18 [00:02<00:00,  7.86it/s]\n"
     ]
    },
    {
     "name": "stdout",
     "output_type": "stream",
     "text": [
      "Weighted F1 Score: 0.27970756523660845\n",
      "Classification Report:\n",
      "                     precision    recall  f1-score   support\n",
      "\n",
      "    phosphorylation       0.03      0.07      0.04      1024\n",
      "         expression       0.02      0.05      0.03       722\n",
      "         inhibition       0.16      0.00      0.01      1745\n",
      "binding/association       0.00      0.00      0.00       458\n",
      "         activation       0.44      0.33      0.38      7342\n",
      "           compound       0.01      0.01      0.01       694\n",
      "        no_relation       0.33      0.40      0.36      6143\n",
      "\n",
      "           accuracy                           0.28     18128\n",
      "          macro avg       0.14      0.12      0.12     18128\n",
      "       weighted avg       0.31      0.28      0.28     18128\n",
      "\n",
      "Validation Cross-Entropy Loss: 1.856609218650394\n",
      "Epoch 12, Train Loss: 1.9431, Val F1 Score: 0.2797\n"
     ]
    },
    {
     "name": "stderr",
     "output_type": "stream",
     "text": [
      "Training: 100%|██████████| 100/100 [01:09<00:00,  1.43it/s]\n",
      "Validating: 100%|██████████| 18/18 [00:02<00:00,  7.81it/s]\n"
     ]
    },
    {
     "name": "stdout",
     "output_type": "stream",
     "text": [
      "Weighted F1 Score: 0.28872304742462973\n",
      "Classification Report:\n",
      "                     precision    recall  f1-score   support\n",
      "\n",
      "    phosphorylation       0.03      0.06      0.04      1024\n",
      "         expression       0.02      0.05      0.03       722\n",
      "         inhibition       0.16      0.00      0.01      1745\n",
      "binding/association       0.00      0.00      0.00       458\n",
      "         activation       0.45      0.36      0.40      7342\n",
      "           compound       0.01      0.01      0.01       694\n",
      "        no_relation       0.33      0.41      0.36      6143\n",
      "\n",
      "           accuracy                           0.29     18128\n",
      "          macro avg       0.14      0.13      0.12     18128\n",
      "       weighted avg       0.31      0.29      0.29     18128\n",
      "\n",
      "Validation Cross-Entropy Loss: 1.8487562735875447\n",
      "Epoch 13, Train Loss: 1.9315, Val F1 Score: 0.2887\n"
     ]
    },
    {
     "name": "stderr",
     "output_type": "stream",
     "text": [
      "Training: 100%|██████████| 100/100 [01:10<00:00,  1.42it/s]\n",
      "Validating: 100%|██████████| 18/18 [00:02<00:00,  7.91it/s]\n"
     ]
    },
    {
     "name": "stdout",
     "output_type": "stream",
     "text": [
      "Weighted F1 Score: 0.2901688478362063\n",
      "Classification Report:\n",
      "                     precision    recall  f1-score   support\n",
      "\n",
      "    phosphorylation       0.03      0.06      0.04      1024\n",
      "         expression       0.03      0.05      0.03       722\n",
      "         inhibition       0.16      0.00      0.01      1745\n",
      "binding/association       0.00      0.00      0.00       458\n",
      "         activation       0.45      0.36      0.40      7342\n",
      "           compound       0.01      0.01      0.01       694\n",
      "        no_relation       0.33      0.41      0.36      6143\n",
      "\n",
      "           accuracy                           0.29     18128\n",
      "          macro avg       0.14      0.13      0.12     18128\n",
      "       weighted avg       0.31      0.29      0.29     18128\n",
      "\n",
      "Validation Cross-Entropy Loss: 1.841200742456648\n",
      "Epoch 14, Train Loss: 1.9194, Val F1 Score: 0.2902\n"
     ]
    },
    {
     "name": "stderr",
     "output_type": "stream",
     "text": [
      "Training: 100%|██████████| 100/100 [01:10<00:00,  1.42it/s]\n",
      "Validating: 100%|██████████| 18/18 [00:02<00:00,  7.44it/s]\n"
     ]
    },
    {
     "name": "stdout",
     "output_type": "stream",
     "text": [
      "Weighted F1 Score: 0.29181868510493403\n",
      "Classification Report:\n",
      "                     precision    recall  f1-score   support\n",
      "\n",
      "    phosphorylation       0.01      0.01      0.01      1024\n",
      "         expression       0.03      0.05      0.04       722\n",
      "         inhibition       0.16      0.00      0.01      1745\n",
      "binding/association       0.00      0.00      0.00       458\n",
      "         activation       0.45      0.37      0.40      7342\n",
      "           compound       0.01      0.01      0.01       694\n",
      "        no_relation       0.33      0.43      0.37      6143\n",
      "\n",
      "           accuracy                           0.30     18128\n",
      "          macro avg       0.14      0.12      0.12     18128\n",
      "       weighted avg       0.31      0.30      0.29     18128\n",
      "\n",
      "Validation Cross-Entropy Loss: 1.8346072435379028\n",
      "Epoch 15, Train Loss: 1.9116, Val F1 Score: 0.2918\n"
     ]
    },
    {
     "name": "stderr",
     "output_type": "stream",
     "text": [
      "Training: 100%|██████████| 100/100 [01:09<00:00,  1.43it/s]\n",
      "Validating: 100%|██████████| 18/18 [00:02<00:00,  7.70it/s]\n"
     ]
    },
    {
     "name": "stdout",
     "output_type": "stream",
     "text": [
      "Weighted F1 Score: 0.2943656722751294\n",
      "Classification Report:\n",
      "                     precision    recall  f1-score   support\n",
      "\n",
      "    phosphorylation       0.01      0.01      0.01      1024\n",
      "         expression       0.03      0.05      0.04       722\n",
      "         inhibition       0.16      0.00      0.01      1745\n",
      "binding/association       0.00      0.00      0.00       458\n",
      "         activation       0.45      0.37      0.41      7342\n",
      "           compound       0.01      0.01      0.01       694\n",
      "        no_relation       0.33      0.43      0.37      6143\n",
      "\n",
      "           accuracy                           0.30     18128\n",
      "          macro avg       0.14      0.12      0.12     18128\n",
      "       weighted avg       0.31      0.30      0.29     18128\n",
      "\n",
      "Validation Cross-Entropy Loss: 1.8282941116227045\n",
      "Epoch 16, Train Loss: 1.9085, Val F1 Score: 0.2944\n"
     ]
    },
    {
     "name": "stderr",
     "output_type": "stream",
     "text": [
      "Training: 100%|██████████| 100/100 [01:14<00:00,  1.33it/s]\n",
      "Validating: 100%|██████████| 18/18 [00:02<00:00,  7.25it/s]\n"
     ]
    },
    {
     "name": "stdout",
     "output_type": "stream",
     "text": [
      "Weighted F1 Score: 0.2945907771401718\n",
      "Classification Report:\n",
      "                     precision    recall  f1-score   support\n",
      "\n",
      "    phosphorylation       0.01      0.01      0.01      1024\n",
      "         expression       0.03      0.05      0.03       722\n",
      "         inhibition       0.16      0.00      0.01      1745\n",
      "binding/association       0.00      0.00      0.00       458\n",
      "         activation       0.45      0.37      0.41      7342\n",
      "           compound       0.01      0.01      0.01       694\n",
      "        no_relation       0.33      0.44      0.38      6143\n",
      "\n",
      "           accuracy                           0.30     18128\n",
      "          macro avg       0.14      0.13      0.12     18128\n",
      "       weighted avg       0.31      0.30      0.29     18128\n",
      "\n",
      "Validation Cross-Entropy Loss: 1.8229142957263522\n",
      "Epoch 17, Train Loss: 1.8944, Val F1 Score: 0.2946\n"
     ]
    },
    {
     "name": "stderr",
     "output_type": "stream",
     "text": [
      "Training: 100%|██████████| 100/100 [01:11<00:00,  1.40it/s]\n",
      "Validating: 100%|██████████| 18/18 [00:02<00:00,  7.84it/s]\n"
     ]
    },
    {
     "name": "stdout",
     "output_type": "stream",
     "text": [
      "Weighted F1 Score: 0.2964548629365832\n",
      "Classification Report:\n",
      "                     precision    recall  f1-score   support\n",
      "\n",
      "    phosphorylation       0.01      0.01      0.01      1024\n",
      "         expression       0.03      0.05      0.04       722\n",
      "         inhibition       0.16      0.00      0.01      1745\n",
      "binding/association       0.00      0.00      0.00       458\n",
      "         activation       0.44      0.38      0.41      7342\n",
      "           compound       0.01      0.01      0.01       694\n",
      "        no_relation       0.33      0.44      0.38      6143\n",
      "\n",
      "           accuracy                           0.31     18128\n",
      "          macro avg       0.14      0.13      0.12     18128\n",
      "       weighted avg       0.31      0.31      0.30     18128\n",
      "\n",
      "Validation Cross-Entropy Loss: 1.8172407017813788\n",
      "Epoch 18, Train Loss: 1.8872, Val F1 Score: 0.2965\n"
     ]
    },
    {
     "name": "stderr",
     "output_type": "stream",
     "text": [
      "Training: 100%|██████████| 100/100 [01:11<00:00,  1.40it/s]\n",
      "Validating: 100%|██████████| 18/18 [00:02<00:00,  7.53it/s]\n"
     ]
    },
    {
     "name": "stdout",
     "output_type": "stream",
     "text": [
      "Weighted F1 Score: 0.2980608566104908\n",
      "Classification Report:\n",
      "                     precision    recall  f1-score   support\n",
      "\n",
      "    phosphorylation       0.01      0.01      0.01      1024\n",
      "         expression       0.03      0.05      0.04       722\n",
      "         inhibition       0.16      0.00      0.01      1745\n",
      "binding/association       0.00      0.00      0.00       458\n",
      "         activation       0.45      0.38      0.41      7342\n",
      "           compound       0.01      0.01      0.01       694\n",
      "        no_relation       0.33      0.45      0.38      6143\n",
      "\n",
      "           accuracy                           0.31     18128\n",
      "          macro avg       0.14      0.13      0.12     18128\n",
      "       weighted avg       0.31      0.31      0.30     18128\n",
      "\n",
      "Validation Cross-Entropy Loss: 1.8124632504251268\n",
      "Epoch 19, Train Loss: 1.8787, Val F1 Score: 0.2981\n"
     ]
    },
    {
     "name": "stderr",
     "output_type": "stream",
     "text": [
      "Training: 100%|██████████| 100/100 [01:10<00:00,  1.41it/s]\n",
      "Validating: 100%|██████████| 18/18 [00:02<00:00,  7.29it/s]\n"
     ]
    },
    {
     "name": "stdout",
     "output_type": "stream",
     "text": [
      "Weighted F1 Score: 0.3005629753507912\n",
      "Classification Report:\n",
      "                     precision    recall  f1-score   support\n",
      "\n",
      "    phosphorylation       0.01      0.01      0.01      1024\n",
      "         expression       0.03      0.05      0.04       722\n",
      "         inhibition       0.16      0.00      0.01      1745\n",
      "binding/association       0.00      0.00      0.00       458\n",
      "         activation       0.45      0.38      0.41      7342\n",
      "           compound       0.01      0.01      0.01       694\n",
      "        no_relation       0.33      0.45      0.38      6143\n",
      "\n",
      "           accuracy                           0.31     18128\n",
      "          macro avg       0.14      0.13      0.12     18128\n",
      "       weighted avg       0.31      0.31      0.30     18128\n",
      "\n",
      "Validation Cross-Entropy Loss: 1.8076517780621846\n",
      "Epoch 20, Train Loss: 1.8712, Val F1 Score: 0.3006\n"
     ]
    },
    {
     "name": "stderr",
     "output_type": "stream",
     "text": [
      "Training: 100%|██████████| 100/100 [01:10<00:00,  1.43it/s]\n",
      "Validating: 100%|██████████| 18/18 [00:02<00:00,  7.72it/s]\n"
     ]
    },
    {
     "name": "stdout",
     "output_type": "stream",
     "text": [
      "Weighted F1 Score: 0.30127338585142344\n",
      "Classification Report:\n",
      "                     precision    recall  f1-score   support\n",
      "\n",
      "    phosphorylation       0.01      0.01      0.01      1024\n",
      "         expression       0.04      0.05      0.04       722\n",
      "         inhibition       0.16      0.00      0.01      1745\n",
      "binding/association       0.00      0.00      0.00       458\n",
      "         activation       0.45      0.38      0.41      7342\n",
      "           compound       0.01      0.01      0.01       694\n",
      "        no_relation       0.33      0.46      0.39      6143\n",
      "\n",
      "           accuracy                           0.31     18128\n",
      "          macro avg       0.14      0.13      0.12     18128\n",
      "       weighted avg       0.31      0.31      0.30     18128\n",
      "\n",
      "Validation Cross-Entropy Loss: 1.8033802310625713\n",
      "Epoch 21, Train Loss: 1.8630, Val F1 Score: 0.3013\n"
     ]
    },
    {
     "name": "stderr",
     "output_type": "stream",
     "text": [
      "Training: 100%|██████████| 100/100 [01:10<00:00,  1.42it/s]\n",
      "Validating: 100%|██████████| 18/18 [00:02<00:00,  8.05it/s]\n"
     ]
    },
    {
     "name": "stdout",
     "output_type": "stream",
     "text": [
      "Weighted F1 Score: 0.3039998774754823\n",
      "Classification Report:\n",
      "                     precision    recall  f1-score   support\n",
      "\n",
      "    phosphorylation       0.01      0.01      0.01      1024\n",
      "         expression       0.04      0.04      0.04       722\n",
      "         inhibition       0.18      0.01      0.01      1745\n",
      "binding/association       0.00      0.00      0.00       458\n",
      "         activation       0.45      0.39      0.42      7342\n",
      "           compound       0.01      0.01      0.01       694\n",
      "        no_relation       0.33      0.46      0.39      6143\n",
      "\n",
      "           accuracy                           0.32     18128\n",
      "          macro avg       0.14      0.13      0.12     18128\n",
      "       weighted avg       0.31      0.32      0.30     18128\n",
      "\n",
      "Validation Cross-Entropy Loss: 1.7987385325961642\n",
      "Epoch 22, Train Loss: 1.8616, Val F1 Score: 0.3040\n"
     ]
    },
    {
     "name": "stderr",
     "output_type": "stream",
     "text": [
      "Training: 100%|██████████| 100/100 [01:09<00:00,  1.44it/s]\n",
      "Validating: 100%|██████████| 18/18 [00:02<00:00,  7.54it/s]\n"
     ]
    },
    {
     "name": "stdout",
     "output_type": "stream",
     "text": [
      "Weighted F1 Score: 0.3005001149756366\n",
      "Classification Report:\n",
      "                     precision    recall  f1-score   support\n",
      "\n",
      "    phosphorylation       0.01      0.01      0.01      1024\n",
      "         expression       0.00      0.00      0.00       722\n",
      "         inhibition       0.18      0.01      0.01      1745\n",
      "binding/association       0.00      0.00      0.00       458\n",
      "         activation       0.44      0.39      0.41      7342\n",
      "           compound       0.01      0.01      0.01       694\n",
      "        no_relation       0.33      0.47      0.39      6143\n",
      "\n",
      "           accuracy                           0.32     18128\n",
      "          macro avg       0.14      0.13      0.12     18128\n",
      "       weighted avg       0.31      0.32      0.30     18128\n",
      "\n",
      "Validation Cross-Entropy Loss: 1.7949145038922627\n",
      "Epoch 23, Train Loss: 1.8546, Val F1 Score: 0.3005\n"
     ]
    },
    {
     "name": "stderr",
     "output_type": "stream",
     "text": [
      "Training: 100%|██████████| 100/100 [01:09<00:00,  1.44it/s]\n",
      "Validating: 100%|██████████| 18/18 [00:02<00:00,  8.09it/s]\n"
     ]
    },
    {
     "name": "stdout",
     "output_type": "stream",
     "text": [
      "Weighted F1 Score: 0.3012939825123381\n",
      "Classification Report:\n",
      "                     precision    recall  f1-score   support\n",
      "\n",
      "    phosphorylation       0.01      0.01      0.01      1024\n",
      "         expression       0.00      0.00      0.00       722\n",
      "         inhibition       0.18      0.01      0.01      1745\n",
      "binding/association       0.00      0.00      0.00       458\n",
      "         activation       0.45      0.39      0.41      7342\n",
      "           compound       0.01      0.01      0.01       694\n",
      "        no_relation       0.33      0.48      0.39      6143\n",
      "\n",
      "           accuracy                           0.32     18128\n",
      "          macro avg       0.14      0.13      0.12     18128\n",
      "       weighted avg       0.31      0.32      0.30     18128\n",
      "\n",
      "Validation Cross-Entropy Loss: 1.7912102739016216\n",
      "Epoch 24, Train Loss: 1.8459, Val F1 Score: 0.3013\n"
     ]
    },
    {
     "name": "stderr",
     "output_type": "stream",
     "text": [
      "Training: 100%|██████████| 100/100 [01:10<00:00,  1.41it/s]\n",
      "Validating: 100%|██████████| 18/18 [00:02<00:00,  7.53it/s]\n"
     ]
    },
    {
     "name": "stdout",
     "output_type": "stream",
     "text": [
      "Weighted F1 Score: 0.30201996817458343\n",
      "Classification Report:\n",
      "                     precision    recall  f1-score   support\n",
      "\n",
      "    phosphorylation       0.01      0.01      0.01      1024\n",
      "         expression       0.00      0.00      0.00       722\n",
      "         inhibition       0.18      0.01      0.01      1745\n",
      "binding/association       0.00      0.00      0.00       458\n",
      "         activation       0.45      0.39      0.41      7342\n",
      "           compound       0.01      0.01      0.01       694\n",
      "        no_relation       0.33      0.48      0.39      6143\n",
      "\n",
      "           accuracy                           0.32     18128\n",
      "          macro avg       0.14      0.13      0.12     18128\n",
      "       weighted avg       0.31      0.32      0.30     18128\n",
      "\n",
      "Validation Cross-Entropy Loss: 1.787789781888326\n",
      "Epoch 25, Train Loss: 1.8411, Val F1 Score: 0.3020\n"
     ]
    },
    {
     "name": "stderr",
     "output_type": "stream",
     "text": [
      "Training: 100%|██████████| 100/100 [01:11<00:00,  1.40it/s]\n",
      "Validating: 100%|██████████| 18/18 [00:02<00:00,  7.76it/s]\n"
     ]
    },
    {
     "name": "stdout",
     "output_type": "stream",
     "text": [
      "Weighted F1 Score: 0.30278486518045533\n",
      "Classification Report:\n",
      "                     precision    recall  f1-score   support\n",
      "\n",
      "    phosphorylation       0.01      0.01      0.01      1024\n",
      "         expression       0.00      0.00      0.00       722\n",
      "         inhibition       0.18      0.01      0.01      1745\n",
      "binding/association       0.00      0.00      0.00       458\n",
      "         activation       0.44      0.39      0.42      7342\n",
      "           compound       0.01      0.01      0.01       694\n",
      "        no_relation       0.33      0.48      0.39      6143\n",
      "\n",
      "           accuracy                           0.32     18128\n",
      "          macro avg       0.14      0.13      0.12     18128\n",
      "       weighted avg       0.31      0.32      0.30     18128\n",
      "\n",
      "Validation Cross-Entropy Loss: 1.7844510740704007\n",
      "Epoch 26, Train Loss: 1.8361, Val F1 Score: 0.3028\n"
     ]
    },
    {
     "name": "stderr",
     "output_type": "stream",
     "text": [
      "Training: 100%|██████████| 100/100 [01:10<00:00,  1.42it/s]\n",
      "Validating: 100%|██████████| 18/18 [00:02<00:00,  7.54it/s]\n"
     ]
    },
    {
     "name": "stdout",
     "output_type": "stream",
     "text": [
      "Weighted F1 Score: 0.3029349457984156\n",
      "Classification Report:\n",
      "                     precision    recall  f1-score   support\n",
      "\n",
      "    phosphorylation       0.01      0.01      0.01      1024\n",
      "         expression       0.00      0.00      0.00       722\n",
      "         inhibition       0.18      0.01      0.01      1745\n",
      "binding/association       0.00      0.00      0.00       458\n",
      "         activation       0.44      0.39      0.41      7342\n",
      "           compound       0.01      0.01      0.01       694\n",
      "        no_relation       0.33      0.49      0.39      6143\n",
      "\n",
      "           accuracy                           0.32     18128\n",
      "          macro avg       0.14      0.13      0.12     18128\n",
      "       weighted avg       0.31      0.32      0.30     18128\n",
      "\n",
      "Validation Cross-Entropy Loss: 1.7813793751928542\n",
      "Epoch 27, Train Loss: 1.8301, Val F1 Score: 0.3029\n"
     ]
    },
    {
     "name": "stderr",
     "output_type": "stream",
     "text": [
      "Training: 100%|██████████| 100/100 [01:09<00:00,  1.43it/s]\n",
      "Validating: 100%|██████████| 18/18 [00:02<00:00,  8.01it/s]\n"
     ]
    },
    {
     "name": "stdout",
     "output_type": "stream",
     "text": [
      "Weighted F1 Score: 0.30297768153786375\n",
      "Classification Report:\n",
      "                     precision    recall  f1-score   support\n",
      "\n",
      "    phosphorylation       0.01      0.01      0.01      1024\n",
      "         expression       0.00      0.00      0.00       722\n",
      "         inhibition       0.18      0.01      0.01      1745\n",
      "binding/association       0.00      0.00      0.00       458\n",
      "         activation       0.44      0.39      0.41      7342\n",
      "           compound       0.01      0.01      0.01       694\n",
      "        no_relation       0.33      0.49      0.39      6143\n",
      "\n",
      "           accuracy                           0.32     18128\n",
      "          macro avg       0.14      0.13      0.12     18128\n",
      "       weighted avg       0.31      0.32      0.30     18128\n",
      "\n",
      "Validation Cross-Entropy Loss: 1.7784239053726196\n",
      "Epoch 28, Train Loss: 1.8207, Val F1 Score: 0.3030\n"
     ]
    },
    {
     "name": "stderr",
     "output_type": "stream",
     "text": [
      "Training: 100%|██████████| 100/100 [01:09<00:00,  1.45it/s]\n",
      "Validating: 100%|██████████| 18/18 [00:02<00:00,  7.31it/s]\n"
     ]
    },
    {
     "name": "stdout",
     "output_type": "stream",
     "text": [
      "Weighted F1 Score: 0.30303630454713\n",
      "Classification Report:\n",
      "                     precision    recall  f1-score   support\n",
      "\n",
      "    phosphorylation       0.01      0.01      0.01      1024\n",
      "         expression       0.00      0.00      0.00       722\n",
      "         inhibition       0.18      0.01      0.01      1745\n",
      "binding/association       0.00      0.00      0.00       458\n",
      "         activation       0.44      0.39      0.41      7342\n",
      "           compound       0.01      0.01      0.01       694\n",
      "        no_relation       0.33      0.49      0.39      6143\n",
      "\n",
      "           accuracy                           0.32     18128\n",
      "          macro avg       0.14      0.13      0.12     18128\n",
      "       weighted avg       0.31      0.32      0.30     18128\n",
      "\n",
      "Validation Cross-Entropy Loss: 1.777037587430742\n",
      "Epoch 29, Train Loss: 1.8188, Val F1 Score: 0.3030\n"
     ]
    },
    {
     "name": "stderr",
     "output_type": "stream",
     "text": [
      "Training: 100%|██████████| 100/100 [01:10<00:00,  1.41it/s]\n",
      "Validating: 100%|██████████| 18/18 [00:02<00:00,  7.56it/s]\n"
     ]
    },
    {
     "name": "stdout",
     "output_type": "stream",
     "text": [
      "Weighted F1 Score: 0.30308326832979127\n",
      "Classification Report:\n",
      "                     precision    recall  f1-score   support\n",
      "\n",
      "    phosphorylation       0.01      0.01      0.01      1024\n",
      "         expression       0.00      0.00      0.00       722\n",
      "         inhibition       0.18      0.01      0.01      1745\n",
      "binding/association       0.00      0.00      0.00       458\n",
      "         activation       0.44      0.39      0.41      7342\n",
      "           compound       0.01      0.01      0.01       694\n",
      "        no_relation       0.33      0.49      0.39      6143\n",
      "\n",
      "           accuracy                           0.32     18128\n",
      "          macro avg       0.14      0.13      0.12     18128\n",
      "       weighted avg       0.31      0.32      0.30     18128\n",
      "\n",
      "Validation Cross-Entropy Loss: 1.7755552728970845\n",
      "Epoch 30, Train Loss: 1.8171, Val F1 Score: 0.3031\n"
     ]
    },
    {
     "name": "stderr",
     "output_type": "stream",
     "text": [
      "Training: 100%|██████████| 100/100 [01:10<00:00,  1.41it/s]\n",
      "Validating: 100%|██████████| 18/18 [00:02<00:00,  7.62it/s]\n"
     ]
    },
    {
     "name": "stdout",
     "output_type": "stream",
     "text": [
      "Weighted F1 Score: 0.3034901456131852\n",
      "Classification Report:\n",
      "                     precision    recall  f1-score   support\n",
      "\n",
      "    phosphorylation       0.01      0.01      0.01      1024\n",
      "         expression       0.00      0.00      0.00       722\n",
      "         inhibition       0.18      0.01      0.01      1745\n",
      "binding/association       0.00      0.00      0.00       458\n",
      "         activation       0.44      0.39      0.41      7342\n",
      "           compound       0.01      0.01      0.01       694\n",
      "        no_relation       0.33      0.49      0.39      6143\n",
      "\n",
      "           accuracy                           0.33     18128\n",
      "          macro avg       0.14      0.13      0.12     18128\n",
      "       weighted avg       0.31      0.33      0.30     18128\n",
      "\n",
      "Validation Cross-Entropy Loss: 1.7741278873549566\n",
      "Epoch 31, Train Loss: 1.8144, Val F1 Score: 0.3035\n"
     ]
    },
    {
     "name": "stderr",
     "output_type": "stream",
     "text": [
      "Training: 100%|██████████| 100/100 [01:10<00:00,  1.41it/s]\n",
      "Validating: 100%|██████████| 18/18 [00:02<00:00,  7.53it/s]\n"
     ]
    },
    {
     "name": "stdout",
     "output_type": "stream",
     "text": [
      "Weighted F1 Score: 0.30433514696108577\n",
      "Classification Report:\n",
      "                     precision    recall  f1-score   support\n",
      "\n",
      "    phosphorylation       0.01      0.01      0.01      1024\n",
      "         expression       0.00      0.00      0.00       722\n",
      "         inhibition       0.18      0.01      0.01      1745\n",
      "binding/association       0.00      0.00      0.00       458\n",
      "         activation       0.44      0.39      0.42      7342\n",
      "           compound       0.01      0.01      0.01       694\n",
      "        no_relation       0.33      0.49      0.39      6143\n",
      "\n",
      "           accuracy                           0.33     18128\n",
      "          macro avg       0.14      0.13      0.12     18128\n",
      "       weighted avg       0.31      0.33      0.30     18128\n",
      "\n",
      "Validation Cross-Entropy Loss: 1.77273608578576\n",
      "Epoch 32, Train Loss: 1.8118, Val F1 Score: 0.3043\n"
     ]
    },
    {
     "name": "stderr",
     "output_type": "stream",
     "text": [
      "Training: 100%|██████████| 100/100 [01:11<00:00,  1.40it/s]\n",
      "Validating: 100%|██████████| 18/18 [00:02<00:00,  7.59it/s]\n"
     ]
    },
    {
     "name": "stdout",
     "output_type": "stream",
     "text": [
      "Weighted F1 Score: 0.30473203637769325\n",
      "Classification Report:\n",
      "                     precision    recall  f1-score   support\n",
      "\n",
      "    phosphorylation       0.02      0.01      0.01      1024\n",
      "         expression       0.00      0.00      0.00       722\n",
      "         inhibition       0.18      0.01      0.01      1745\n",
      "binding/association       0.00      0.00      0.00       458\n",
      "         activation       0.44      0.39      0.42      7342\n",
      "           compound       0.01      0.01      0.01       694\n",
      "        no_relation       0.33      0.49      0.39      6143\n",
      "\n",
      "           accuracy                           0.33     18128\n",
      "          macro avg       0.14      0.13      0.12     18128\n",
      "       weighted avg       0.31      0.33      0.30     18128\n",
      "\n",
      "Validation Cross-Entropy Loss: 1.7714465856552124\n",
      "Epoch 33, Train Loss: 1.8084, Val F1 Score: 0.3047\n"
     ]
    },
    {
     "name": "stderr",
     "output_type": "stream",
     "text": [
      "Training: 100%|██████████| 100/100 [01:09<00:00,  1.44it/s]\n",
      "Validating: 100%|██████████| 18/18 [00:02<00:00,  7.94it/s]\n"
     ]
    },
    {
     "name": "stdout",
     "output_type": "stream",
     "text": [
      "Weighted F1 Score: 0.30674400986340866\n",
      "Classification Report:\n",
      "                     precision    recall  f1-score   support\n",
      "\n",
      "    phosphorylation       0.02      0.01      0.01      1024\n",
      "         expression       0.00      0.00      0.00       722\n",
      "         inhibition       0.18      0.01      0.01      1745\n",
      "binding/association       0.00      0.00      0.00       458\n",
      "         activation       0.45      0.40      0.42      7342\n",
      "           compound       0.01      0.01      0.01       694\n",
      "        no_relation       0.33      0.50      0.40      6143\n",
      "\n",
      "           accuracy                           0.33     18128\n",
      "          macro avg       0.14      0.13      0.12     18128\n",
      "       weighted avg       0.31      0.33      0.31     18128\n",
      "\n",
      "Validation Cross-Entropy Loss: 1.7701832519637213\n",
      "Epoch 34, Train Loss: 1.8072, Val F1 Score: 0.3067\n"
     ]
    },
    {
     "name": "stderr",
     "output_type": "stream",
     "text": [
      "Training: 100%|██████████| 100/100 [01:10<00:00,  1.42it/s]\n",
      "Validating: 100%|██████████| 18/18 [00:02<00:00,  7.48it/s]\n"
     ]
    },
    {
     "name": "stdout",
     "output_type": "stream",
     "text": [
      "Weighted F1 Score: 0.3067147806433741\n",
      "Classification Report:\n",
      "                     precision    recall  f1-score   support\n",
      "\n",
      "    phosphorylation       0.02      0.01      0.01      1024\n",
      "         expression       0.00      0.00      0.00       722\n",
      "         inhibition       0.18      0.01      0.01      1745\n",
      "binding/association       0.00      0.00      0.00       458\n",
      "         activation       0.45      0.40      0.42      7342\n",
      "           compound       0.01      0.01      0.01       694\n",
      "        no_relation       0.33      0.50      0.40      6143\n",
      "\n",
      "           accuracy                           0.33     18128\n",
      "          macro avg       0.14      0.13      0.12     18128\n",
      "       weighted avg       0.31      0.33      0.31     18128\n",
      "\n",
      "Validation Cross-Entropy Loss: 1.7689013679822285\n",
      "Epoch 35, Train Loss: 1.8038, Val F1 Score: 0.3067\n"
     ]
    },
    {
     "name": "stderr",
     "output_type": "stream",
     "text": [
      "Training: 100%|██████████| 100/100 [01:10<00:00,  1.41it/s]\n",
      "Validating: 100%|██████████| 18/18 [00:02<00:00,  7.58it/s]\n"
     ]
    },
    {
     "name": "stdout",
     "output_type": "stream",
     "text": [
      "Weighted F1 Score: 0.30690680249551733\n",
      "Classification Report:\n",
      "                     precision    recall  f1-score   support\n",
      "\n",
      "    phosphorylation       0.02      0.01      0.01      1024\n",
      "         expression       0.00      0.00      0.00       722\n",
      "         inhibition       0.18      0.01      0.01      1745\n",
      "binding/association       0.00      0.00      0.00       458\n",
      "         activation       0.45      0.40      0.42      7342\n",
      "           compound       0.01      0.01      0.01       694\n",
      "        no_relation       0.33      0.50      0.40      6143\n",
      "\n",
      "           accuracy                           0.33     18128\n",
      "          macro avg       0.14      0.13      0.12     18128\n",
      "       weighted avg       0.31      0.33      0.31     18128\n",
      "\n",
      "Validation Cross-Entropy Loss: 1.7677004403538175\n",
      "Epoch 36, Train Loss: 1.8038, Val F1 Score: 0.3069\n"
     ]
    },
    {
     "name": "stderr",
     "output_type": "stream",
     "text": [
      "Training: 100%|██████████| 100/100 [01:09<00:00,  1.43it/s]\n",
      "Validating: 100%|██████████| 18/18 [00:02<00:00,  7.46it/s]\n"
     ]
    },
    {
     "name": "stdout",
     "output_type": "stream",
     "text": [
      "Weighted F1 Score: 0.3071152526609606\n",
      "Classification Report:\n",
      "                     precision    recall  f1-score   support\n",
      "\n",
      "    phosphorylation       0.02      0.01      0.01      1024\n",
      "         expression       0.00      0.00      0.00       722\n",
      "         inhibition       0.18      0.01      0.01      1745\n",
      "binding/association       0.00      0.00      0.00       458\n",
      "         activation       0.45      0.40      0.42      7342\n",
      "           compound       0.01      0.01      0.01       694\n",
      "        no_relation       0.33      0.49      0.39      6143\n",
      "\n",
      "           accuracy                           0.33     18128\n",
      "          macro avg       0.14      0.13      0.12     18128\n",
      "       weighted avg       0.31      0.33      0.31     18128\n",
      "\n",
      "Validation Cross-Entropy Loss: 1.7662984331448872\n",
      "Epoch 37, Train Loss: 1.8020, Val F1 Score: 0.3071\n"
     ]
    },
    {
     "name": "stderr",
     "output_type": "stream",
     "text": [
      "Training: 100%|██████████| 100/100 [01:09<00:00,  1.43it/s]\n",
      "Validating: 100%|██████████| 18/18 [00:02<00:00,  7.46it/s]\n"
     ]
    },
    {
     "name": "stdout",
     "output_type": "stream",
     "text": [
      "Weighted F1 Score: 0.3071677593902193\n",
      "Classification Report:\n",
      "                     precision    recall  f1-score   support\n",
      "\n",
      "    phosphorylation       0.02      0.01      0.01      1024\n",
      "         expression       0.00      0.00      0.00       722\n",
      "         inhibition       0.18      0.01      0.01      1745\n",
      "binding/association       0.00      0.00      0.00       458\n",
      "         activation       0.45      0.40      0.42      7342\n",
      "           compound       0.01      0.01      0.01       694\n",
      "        no_relation       0.33      0.49      0.39      6143\n",
      "\n",
      "           accuracy                           0.33     18128\n",
      "          macro avg       0.14      0.13      0.12     18128\n",
      "       weighted avg       0.31      0.33      0.31     18128\n",
      "\n",
      "Validation Cross-Entropy Loss: 1.764869663450453\n",
      "Epoch 38, Train Loss: 1.8021, Val F1 Score: 0.3072\n"
     ]
    },
    {
     "name": "stderr",
     "output_type": "stream",
     "text": [
      "Training: 100%|██████████| 100/100 [01:10<00:00,  1.42it/s]\n",
      "Validating: 100%|██████████| 18/18 [00:02<00:00,  8.07it/s]\n"
     ]
    },
    {
     "name": "stdout",
     "output_type": "stream",
     "text": [
      "Weighted F1 Score: 0.3071432292484593\n",
      "Classification Report:\n",
      "                     precision    recall  f1-score   support\n",
      "\n",
      "    phosphorylation       0.02      0.01      0.01      1024\n",
      "         expression       0.00      0.00      0.00       722\n",
      "         inhibition       0.18      0.01      0.01      1745\n",
      "binding/association       0.00      0.00      0.00       458\n",
      "         activation       0.45      0.40      0.42      7342\n",
      "           compound       0.01      0.01      0.01       694\n",
      "        no_relation       0.33      0.49      0.39      6143\n",
      "\n",
      "           accuracy                           0.33     18128\n",
      "          macro avg       0.14      0.13      0.12     18128\n",
      "       weighted avg       0.31      0.33      0.31     18128\n",
      "\n",
      "Validation Cross-Entropy Loss: 1.7637207839224074\n",
      "Epoch 39, Train Loss: 1.7990, Val F1 Score: 0.3071\n"
     ]
    },
    {
     "name": "stderr",
     "output_type": "stream",
     "text": [
      "Training: 100%|██████████| 100/100 [01:09<00:00,  1.43it/s]\n",
      "Validating: 100%|██████████| 18/18 [00:02<00:00,  8.16it/s]\n"
     ]
    },
    {
     "name": "stdout",
     "output_type": "stream",
     "text": [
      "Weighted F1 Score: 0.3064838688429118\n",
      "Classification Report:\n",
      "                     precision    recall  f1-score   support\n",
      "\n",
      "    phosphorylation       0.02      0.01      0.01      1024\n",
      "         expression       0.00      0.00      0.00       722\n",
      "         inhibition       0.18      0.01      0.01      1745\n",
      "binding/association       0.00      0.00      0.00       458\n",
      "         activation       0.45      0.40      0.42      7342\n",
      "           compound       0.01      0.01      0.01       694\n",
      "        no_relation       0.33      0.49      0.39      6143\n",
      "\n",
      "           accuracy                           0.33     18128\n",
      "          macro avg       0.14      0.13      0.12     18128\n",
      "       weighted avg       0.31      0.33      0.31     18128\n",
      "\n",
      "Validation Cross-Entropy Loss: 1.7623446451293097\n",
      "Epoch 40, Train Loss: 1.7957, Val F1 Score: 0.3065\n"
     ]
    },
    {
     "name": "stderr",
     "output_type": "stream",
     "text": [
      "Training: 100%|██████████| 100/100 [01:09<00:00,  1.44it/s]\n",
      "Validating: 100%|██████████| 18/18 [00:02<00:00,  8.22it/s]\n"
     ]
    },
    {
     "name": "stdout",
     "output_type": "stream",
     "text": [
      "Weighted F1 Score: 0.30693419001001776\n",
      "Classification Report:\n",
      "                     precision    recall  f1-score   support\n",
      "\n",
      "    phosphorylation       0.02      0.01      0.01      1024\n",
      "         expression       0.00      0.00      0.00       722\n",
      "         inhibition       0.18      0.01      0.01      1745\n",
      "binding/association       0.00      0.00      0.00       458\n",
      "         activation       0.45      0.40      0.42      7342\n",
      "           compound       0.01      0.01      0.01       694\n",
      "        no_relation       0.33      0.49      0.39      6143\n",
      "\n",
      "           accuracy                           0.33     18128\n",
      "          macro avg       0.14      0.13      0.12     18128\n",
      "       weighted avg       0.31      0.33      0.31     18128\n",
      "\n",
      "Validation Cross-Entropy Loss: 1.7613653077019586\n",
      "Epoch 41, Train Loss: 1.7944, Val F1 Score: 0.3069\n"
     ]
    },
    {
     "name": "stderr",
     "output_type": "stream",
     "text": [
      "Training: 100%|██████████| 100/100 [01:09<00:00,  1.44it/s]\n",
      "Validating: 100%|██████████| 18/18 [00:02<00:00,  7.65it/s]\n"
     ]
    },
    {
     "name": "stdout",
     "output_type": "stream",
     "text": [
      "Weighted F1 Score: 0.30693419001001776\n",
      "Classification Report:\n",
      "                     precision    recall  f1-score   support\n",
      "\n",
      "    phosphorylation       0.02      0.01      0.01      1024\n",
      "         expression       0.00      0.00      0.00       722\n",
      "         inhibition       0.18      0.01      0.01      1745\n",
      "binding/association       0.00      0.00      0.00       458\n",
      "         activation       0.45      0.40      0.42      7342\n",
      "           compound       0.01      0.01      0.01       694\n",
      "        no_relation       0.33      0.49      0.39      6143\n",
      "\n",
      "           accuracy                           0.33     18128\n",
      "          macro avg       0.14      0.13      0.12     18128\n",
      "       weighted avg       0.31      0.33      0.31     18128\n",
      "\n",
      "Validation Cross-Entropy Loss: 1.7602419919437833\n",
      "Epoch 42, Train Loss: 1.7917, Val F1 Score: 0.3069\n"
     ]
    },
    {
     "name": "stderr",
     "output_type": "stream",
     "text": [
      "Training: 100%|██████████| 100/100 [01:12<00:00,  1.38it/s]\n",
      "Validating: 100%|██████████| 18/18 [00:02<00:00,  7.42it/s]\n"
     ]
    },
    {
     "name": "stdout",
     "output_type": "stream",
     "text": [
      "Weighted F1 Score: 0.3075091492076639\n",
      "Classification Report:\n",
      "                     precision    recall  f1-score   support\n",
      "\n",
      "    phosphorylation       0.02      0.01      0.01      1024\n",
      "         expression       0.00      0.00      0.00       722\n",
      "         inhibition       0.18      0.01      0.01      1745\n",
      "binding/association       0.00      0.00      0.00       458\n",
      "         activation       0.45      0.40      0.42      7342\n",
      "           compound       0.01      0.01      0.01       694\n",
      "        no_relation       0.33      0.50      0.39      6143\n",
      "\n",
      "           accuracy                           0.33     18128\n",
      "          macro avg       0.14      0.13      0.12     18128\n",
      "       weighted avg       0.31      0.33      0.31     18128\n",
      "\n",
      "Validation Cross-Entropy Loss: 1.7590944634543524\n",
      "Epoch 43, Train Loss: 1.7882, Val F1 Score: 0.3075\n"
     ]
    },
    {
     "name": "stderr",
     "output_type": "stream",
     "text": [
      "Training: 100%|██████████| 100/100 [01:15<00:00,  1.32it/s]\n",
      "Validating: 100%|██████████| 18/18 [00:02<00:00,  6.74it/s]\n"
     ]
    },
    {
     "name": "stdout",
     "output_type": "stream",
     "text": [
      "Weighted F1 Score: 0.30765967745722517\n",
      "Classification Report:\n",
      "                     precision    recall  f1-score   support\n",
      "\n",
      "    phosphorylation       0.02      0.01      0.01      1024\n",
      "         expression       0.00      0.00      0.00       722\n",
      "         inhibition       0.18      0.01      0.01      1745\n",
      "binding/association       0.00      0.00      0.00       458\n",
      "         activation       0.45      0.40      0.42      7342\n",
      "           compound       0.01      0.01      0.01       694\n",
      "        no_relation       0.33      0.50      0.40      6143\n",
      "\n",
      "           accuracy                           0.33     18128\n",
      "          macro avg       0.14      0.13      0.12     18128\n",
      "       weighted avg       0.31      0.33      0.31     18128\n",
      "\n",
      "Validation Cross-Entropy Loss: 1.7579503787888422\n",
      "Epoch 44, Train Loss: 1.7895, Val F1 Score: 0.3077\n"
     ]
    },
    {
     "name": "stderr",
     "output_type": "stream",
     "text": [
      "Training: 100%|██████████| 100/100 [01:13<00:00,  1.36it/s]\n",
      "Validating: 100%|██████████| 18/18 [00:02<00:00,  7.94it/s]\n"
     ]
    },
    {
     "name": "stdout",
     "output_type": "stream",
     "text": [
      "Weighted F1 Score: 0.30777038585304534\n",
      "Classification Report:\n",
      "                     precision    recall  f1-score   support\n",
      "\n",
      "    phosphorylation       0.02      0.01      0.01      1024\n",
      "         expression       0.00      0.00      0.00       722\n",
      "         inhibition       0.18      0.01      0.01      1745\n",
      "binding/association       0.00      0.00      0.00       458\n",
      "         activation       0.45      0.40      0.42      7342\n",
      "           compound       0.01      0.01      0.01       694\n",
      "        no_relation       0.33      0.50      0.40      6143\n",
      "\n",
      "           accuracy                           0.33     18128\n",
      "          macro avg       0.14      0.13      0.12     18128\n",
      "       weighted avg       0.31      0.33      0.31     18128\n",
      "\n",
      "Validation Cross-Entropy Loss: 1.7570016980171204\n",
      "Epoch 45, Train Loss: 1.7825, Val F1 Score: 0.3078\n"
     ]
    },
    {
     "name": "stderr",
     "output_type": "stream",
     "text": [
      "Training: 100%|██████████| 100/100 [01:13<00:00,  1.37it/s]\n",
      "Validating: 100%|██████████| 18/18 [00:02<00:00,  7.93it/s]\n"
     ]
    },
    {
     "name": "stdout",
     "output_type": "stream",
     "text": [
      "Weighted F1 Score: 0.30790709600749255\n",
      "Classification Report:\n",
      "                     precision    recall  f1-score   support\n",
      "\n",
      "    phosphorylation       0.02      0.01      0.01      1024\n",
      "         expression       0.00      0.00      0.00       722\n",
      "         inhibition       0.18      0.01      0.01      1745\n",
      "binding/association       0.00      0.00      0.00       458\n",
      "         activation       0.45      0.40      0.42      7342\n",
      "           compound       0.01      0.01      0.01       694\n",
      "        no_relation       0.33      0.50      0.40      6143\n",
      "\n",
      "           accuracy                           0.33     18128\n",
      "          macro avg       0.14      0.13      0.12     18128\n",
      "       weighted avg       0.31      0.33      0.31     18128\n",
      "\n",
      "Validation Cross-Entropy Loss: 1.7560982836617365\n",
      "Epoch 46, Train Loss: 1.7837, Val F1 Score: 0.3079\n"
     ]
    },
    {
     "name": "stderr",
     "output_type": "stream",
     "text": [
      "Training: 100%|██████████| 100/100 [01:13<00:00,  1.37it/s]\n",
      "Validating: 100%|██████████| 18/18 [00:02<00:00,  7.21it/s]\n"
     ]
    },
    {
     "name": "stdout",
     "output_type": "stream",
     "text": [
      "Weighted F1 Score: 0.30810808637626624\n",
      "Classification Report:\n",
      "                     precision    recall  f1-score   support\n",
      "\n",
      "    phosphorylation       0.02      0.01      0.01      1024\n",
      "         expression       0.00      0.00      0.00       722\n",
      "         inhibition       0.18      0.01      0.01      1745\n",
      "binding/association       0.00      0.00      0.00       458\n",
      "         activation       0.45      0.40      0.42      7342\n",
      "           compound       0.01      0.01      0.01       694\n",
      "        no_relation       0.33      0.50      0.40      6143\n",
      "\n",
      "           accuracy                           0.33     18128\n",
      "          macro avg       0.14      0.13      0.12     18128\n",
      "       weighted avg       0.31      0.33      0.31     18128\n",
      "\n",
      "Validation Cross-Entropy Loss: 1.7550570236312018\n",
      "Epoch 47, Train Loss: 1.7821, Val F1 Score: 0.3081\n"
     ]
    },
    {
     "name": "stderr",
     "output_type": "stream",
     "text": [
      "Training: 100%|██████████| 100/100 [01:12<00:00,  1.38it/s]\n",
      "Validating: 100%|██████████| 18/18 [00:02<00:00,  7.64it/s]\n"
     ]
    },
    {
     "name": "stdout",
     "output_type": "stream",
     "text": [
      "Weighted F1 Score: 0.30789383265339876\n",
      "Classification Report:\n",
      "                     precision    recall  f1-score   support\n",
      "\n",
      "    phosphorylation       0.02      0.01      0.01      1024\n",
      "         expression       0.00      0.00      0.00       722\n",
      "         inhibition       0.18      0.01      0.01      1745\n",
      "binding/association       0.00      0.00      0.00       458\n",
      "         activation       0.45      0.40      0.42      7342\n",
      "           compound       0.01      0.01      0.01       694\n",
      "        no_relation       0.33      0.50      0.40      6143\n",
      "\n",
      "           accuracy                           0.33     18128\n",
      "          macro avg       0.14      0.13      0.12     18128\n",
      "       weighted avg       0.31      0.33      0.31     18128\n",
      "\n",
      "Validation Cross-Entropy Loss: 1.75404159228007\n",
      "Epoch 48, Train Loss: 1.7772, Val F1 Score: 0.3079\n"
     ]
    },
    {
     "name": "stderr",
     "output_type": "stream",
     "text": [
      "Training: 100%|██████████| 100/100 [01:12<00:00,  1.38it/s]\n",
      "Validating: 100%|██████████| 18/18 [00:02<00:00,  8.05it/s]\n"
     ]
    },
    {
     "name": "stdout",
     "output_type": "stream",
     "text": [
      "Weighted F1 Score: 0.30541991526889667\n",
      "Classification Report:\n",
      "                     precision    recall  f1-score   support\n",
      "\n",
      "    phosphorylation       0.02      0.01      0.02      1024\n",
      "         expression       0.00      0.00      0.00       722\n",
      "         inhibition       0.18      0.01      0.01      1745\n",
      "binding/association       0.00      0.00      0.00       458\n",
      "         activation       0.45      0.38      0.41      7342\n",
      "           compound       0.01      0.01      0.01       694\n",
      "        no_relation       0.33      0.52      0.40      6143\n",
      "\n",
      "           accuracy                           0.33     18128\n",
      "          macro avg       0.14      0.13      0.12     18128\n",
      "       weighted avg       0.31      0.33      0.31     18128\n",
      "\n",
      "Validation Cross-Entropy Loss: 1.753139853477478\n",
      "Epoch 49, Train Loss: 1.7766, Val F1 Score: 0.3054\n"
     ]
    },
    {
     "name": "stderr",
     "output_type": "stream",
     "text": [
      "Training: 100%|██████████| 100/100 [01:14<00:00,  1.34it/s]\n",
      "Validating: 100%|██████████| 18/18 [00:02<00:00,  7.58it/s]\n"
     ]
    },
    {
     "name": "stdout",
     "output_type": "stream",
     "text": [
      "Weighted F1 Score: 0.30566337157808676\n",
      "Classification Report:\n",
      "                     precision    recall  f1-score   support\n",
      "\n",
      "    phosphorylation       0.02      0.01      0.01      1024\n",
      "         expression       0.00      0.00      0.00       722\n",
      "         inhibition       0.18      0.01      0.01      1745\n",
      "binding/association       0.00      0.00      0.00       458\n",
      "         activation       0.45      0.38      0.41      7342\n",
      "           compound       0.01      0.01      0.01       694\n",
      "        no_relation       0.33      0.53      0.40      6143\n",
      "\n",
      "           accuracy                           0.33     18128\n",
      "          macro avg       0.14      0.13      0.12     18128\n",
      "       weighted avg       0.31      0.33      0.31     18128\n",
      "\n",
      "Validation Cross-Entropy Loss: 1.7523495819833543\n",
      "Epoch 50, Train Loss: 1.7731, Val F1 Score: 0.3057\n"
     ]
    },
    {
     "name": "stderr",
     "output_type": "stream",
     "text": [
      "Training: 100%|██████████| 100/100 [01:10<00:00,  1.41it/s]\n",
      "Validating: 100%|██████████| 18/18 [00:02<00:00,  7.83it/s]\n"
     ]
    },
    {
     "name": "stdout",
     "output_type": "stream",
     "text": [
      "Weighted F1 Score: 0.3057983862645673\n",
      "Classification Report:\n",
      "                     precision    recall  f1-score   support\n",
      "\n",
      "    phosphorylation       0.02      0.01      0.01      1024\n",
      "         expression       0.00      0.00      0.00       722\n",
      "         inhibition       0.18      0.01      0.01      1745\n",
      "binding/association       0.00      0.00      0.00       458\n",
      "         activation       0.45      0.38      0.41      7342\n",
      "           compound       0.01      0.01      0.01       694\n",
      "        no_relation       0.33      0.53      0.40      6143\n",
      "\n",
      "           accuracy                           0.33     18128\n",
      "          macro avg       0.14      0.13      0.12     18128\n",
      "       weighted avg       0.31      0.33      0.31     18128\n",
      "\n",
      "Validation Cross-Entropy Loss: 1.7513094080819025\n",
      "Epoch 51, Train Loss: 1.7701, Val F1 Score: 0.3058\n"
     ]
    },
    {
     "name": "stderr",
     "output_type": "stream",
     "text": [
      "Training: 100%|██████████| 100/100 [01:12<00:00,  1.38it/s]\n",
      "Validating: 100%|██████████| 18/18 [00:02<00:00,  7.64it/s]\n"
     ]
    },
    {
     "name": "stdout",
     "output_type": "stream",
     "text": [
      "Weighted F1 Score: 0.30627473460809207\n",
      "Classification Report:\n",
      "                     precision    recall  f1-score   support\n",
      "\n",
      "    phosphorylation       0.02      0.01      0.01      1024\n",
      "         expression       0.00      0.00      0.00       722\n",
      "         inhibition       0.18      0.01      0.01      1745\n",
      "binding/association       0.00      0.00      0.00       458\n",
      "         activation       0.45      0.38      0.41      7342\n",
      "           compound       0.01      0.01      0.01       694\n",
      "        no_relation       0.33      0.53      0.41      6143\n",
      "\n",
      "           accuracy                           0.34     18128\n",
      "          macro avg       0.14      0.13      0.12     18128\n",
      "       weighted avg       0.31      0.34      0.31     18128\n",
      "\n",
      "Validation Cross-Entropy Loss: 1.7506508628527324\n",
      "Epoch 52, Train Loss: 1.7713, Val F1 Score: 0.3063\n"
     ]
    },
    {
     "name": "stderr",
     "output_type": "stream",
     "text": [
      "Training: 100%|██████████| 100/100 [01:11<00:00,  1.39it/s]\n",
      "Validating: 100%|██████████| 18/18 [00:02<00:00,  7.72it/s]\n"
     ]
    },
    {
     "name": "stdout",
     "output_type": "stream",
     "text": [
      "Weighted F1 Score: 0.3061326180538393\n",
      "Classification Report:\n",
      "                     precision    recall  f1-score   support\n",
      "\n",
      "    phosphorylation       0.02      0.01      0.01      1024\n",
      "         expression       0.00      0.00      0.00       722\n",
      "         inhibition       0.18      0.01      0.01      1745\n",
      "binding/association       0.00      0.00      0.00       458\n",
      "         activation       0.45      0.38      0.41      7342\n",
      "           compound       0.01      0.01      0.01       694\n",
      "        no_relation       0.33      0.53      0.41      6143\n",
      "\n",
      "           accuracy                           0.34     18128\n",
      "          macro avg       0.14      0.13      0.12     18128\n",
      "       weighted avg       0.31      0.34      0.31     18128\n",
      "\n",
      "Validation Cross-Entropy Loss: 1.7495804958873324\n",
      "Epoch 53, Train Loss: 1.7703, Val F1 Score: 0.3061\n"
     ]
    },
    {
     "name": "stderr",
     "output_type": "stream",
     "text": [
      "Training: 100%|██████████| 100/100 [01:11<00:00,  1.40it/s]\n",
      "Validating: 100%|██████████| 18/18 [00:02<00:00,  7.92it/s]\n"
     ]
    },
    {
     "name": "stdout",
     "output_type": "stream",
     "text": [
      "Weighted F1 Score: 0.3066857728163659\n",
      "Classification Report:\n",
      "                     precision    recall  f1-score   support\n",
      "\n",
      "    phosphorylation       0.02      0.01      0.01      1024\n",
      "         expression       0.00      0.00      0.00       722\n",
      "         inhibition       0.18      0.01      0.01      1745\n",
      "binding/association       0.00      0.00      0.00       458\n",
      "         activation       0.45      0.38      0.41      7342\n",
      "           compound       0.01      0.01      0.01       694\n",
      "        no_relation       0.33      0.53      0.41      6143\n",
      "\n",
      "           accuracy                           0.34     18128\n",
      "          macro avg       0.14      0.13      0.12     18128\n",
      "       weighted avg       0.31      0.34      0.31     18128\n",
      "\n",
      "Validation Cross-Entropy Loss: 1.7492994401190016\n",
      "Epoch 54, Train Loss: 1.7643, Val F1 Score: 0.3067\n"
     ]
    },
    {
     "name": "stderr",
     "output_type": "stream",
     "text": [
      "Training: 100%|██████████| 100/100 [01:12<00:00,  1.38it/s]\n",
      "Validating: 100%|██████████| 18/18 [00:02<00:00,  7.71it/s]\n"
     ]
    },
    {
     "name": "stdout",
     "output_type": "stream",
     "text": [
      "Weighted F1 Score: 0.3057384895676361\n",
      "Classification Report:\n",
      "                     precision    recall  f1-score   support\n",
      "\n",
      "    phosphorylation       0.00      0.00      0.00      1024\n",
      "         expression       0.00      0.00      0.00       722\n",
      "         inhibition       0.18      0.01      0.01      1745\n",
      "binding/association       0.00      0.00      0.00       458\n",
      "         activation       0.45      0.38      0.41      7342\n",
      "           compound       0.01      0.01      0.01       694\n",
      "        no_relation       0.33      0.53      0.41      6143\n",
      "\n",
      "           accuracy                           0.34     18128\n",
      "          macro avg       0.14      0.13      0.12     18128\n",
      "       weighted avg       0.31      0.34      0.31     18128\n",
      "\n",
      "Validation Cross-Entropy Loss: 1.7488169074058533\n",
      "Epoch 55, Train Loss: 1.7664, Val F1 Score: 0.3057\n"
     ]
    },
    {
     "name": "stderr",
     "output_type": "stream",
     "text": [
      "Training: 100%|██████████| 100/100 [01:11<00:00,  1.39it/s]\n",
      "Validating: 100%|██████████| 18/18 [00:02<00:00,  8.10it/s]\n"
     ]
    },
    {
     "name": "stdout",
     "output_type": "stream",
     "text": [
      "Weighted F1 Score: 0.30811308365558077\n",
      "Classification Report:\n",
      "                     precision    recall  f1-score   support\n",
      "\n",
      "    phosphorylation       0.00      0.00      0.00      1024\n",
      "         expression       0.00      0.00      0.00       722\n",
      "         inhibition       0.18      0.01      0.01      1745\n",
      "binding/association       0.00      0.00      0.00       458\n",
      "         activation       0.45      0.39      0.42      7342\n",
      "           compound       0.01      0.01      0.01       694\n",
      "        no_relation       0.33      0.53      0.41      6143\n",
      "\n",
      "           accuracy                           0.34     18128\n",
      "          macro avg       0.14      0.13      0.12     18128\n",
      "       weighted avg       0.31      0.34      0.31     18128\n",
      "\n",
      "Validation Cross-Entropy Loss: 1.7483483023113675\n",
      "Epoch 56, Train Loss: 1.7667, Val F1 Score: 0.3081\n"
     ]
    },
    {
     "name": "stderr",
     "output_type": "stream",
     "text": [
      "Training: 100%|██████████| 100/100 [01:12<00:00,  1.37it/s]\n",
      "Validating: 100%|██████████| 18/18 [00:02<00:00,  7.81it/s]\n"
     ]
    },
    {
     "name": "stdout",
     "output_type": "stream",
     "text": [
      "Weighted F1 Score: 0.3080475938832695\n",
      "Classification Report:\n",
      "                     precision    recall  f1-score   support\n",
      "\n",
      "    phosphorylation       0.00      0.00      0.00      1024\n",
      "         expression       0.00      0.00      0.00       722\n",
      "         inhibition       0.18      0.01      0.01      1745\n",
      "binding/association       0.00      0.00      0.00       458\n",
      "         activation       0.45      0.39      0.42      7342\n",
      "           compound       0.01      0.01      0.01       694\n",
      "        no_relation       0.33      0.53      0.41      6143\n",
      "\n",
      "           accuracy                           0.34     18128\n",
      "          macro avg       0.14      0.13      0.12     18128\n",
      "       weighted avg       0.31      0.34      0.31     18128\n",
      "\n",
      "Validation Cross-Entropy Loss: 1.7478733592563205\n",
      "Epoch 57, Train Loss: 1.7709, Val F1 Score: 0.3080\n"
     ]
    },
    {
     "name": "stderr",
     "output_type": "stream",
     "text": [
      "Training: 100%|██████████| 100/100 [01:13<00:00,  1.37it/s]\n",
      "Validating: 100%|██████████| 18/18 [00:02<00:00,  7.48it/s]\n"
     ]
    },
    {
     "name": "stdout",
     "output_type": "stream",
     "text": [
      "Weighted F1 Score: 0.3080606502246773\n",
      "Classification Report:\n",
      "                     precision    recall  f1-score   support\n",
      "\n",
      "    phosphorylation       0.01      0.00      0.00      1024\n",
      "         expression       0.00      0.00      0.00       722\n",
      "         inhibition       0.18      0.01      0.01      1745\n",
      "binding/association       0.00      0.00      0.00       458\n",
      "         activation       0.45      0.39      0.42      7342\n",
      "           compound       0.01      0.01      0.01       694\n",
      "        no_relation       0.33      0.53      0.41      6143\n",
      "\n",
      "           accuracy                           0.34     18128\n",
      "          macro avg       0.14      0.13      0.12     18128\n",
      "       weighted avg       0.31      0.34      0.31     18128\n",
      "\n",
      "Validation Cross-Entropy Loss: 1.7473733292685614\n",
      "Epoch 58, Train Loss: 1.7684, Val F1 Score: 0.3081\n"
     ]
    },
    {
     "name": "stderr",
     "output_type": "stream",
     "text": [
      "Training: 100%|██████████| 100/100 [01:14<00:00,  1.35it/s]\n",
      "Validating: 100%|██████████| 18/18 [00:02<00:00,  7.07it/s]\n"
     ]
    },
    {
     "name": "stdout",
     "output_type": "stream",
     "text": [
      "Weighted F1 Score: 0.3086101863285589\n",
      "Classification Report:\n",
      "                     precision    recall  f1-score   support\n",
      "\n",
      "    phosphorylation       0.01      0.00      0.00      1024\n",
      "         expression       0.00      0.00      0.00       722\n",
      "         inhibition       0.18      0.01      0.01      1745\n",
      "binding/association       0.00      0.00      0.00       458\n",
      "         activation       0.45      0.39      0.42      7342\n",
      "           compound       0.01      0.01      0.01       694\n",
      "        no_relation       0.33      0.53      0.41      6143\n",
      "\n",
      "           accuracy                           0.34     18128\n",
      "          macro avg       0.14      0.13      0.12     18128\n",
      "       weighted avg       0.31      0.34      0.31     18128\n",
      "\n",
      "Validation Cross-Entropy Loss: 1.7470055222511292\n",
      "Epoch 59, Train Loss: 1.7632, Val F1 Score: 0.3086\n"
     ]
    },
    {
     "name": "stderr",
     "output_type": "stream",
     "text": [
      "Training: 100%|██████████| 100/100 [01:11<00:00,  1.40it/s]\n",
      "Validating: 100%|██████████| 18/18 [00:02<00:00,  7.91it/s]\n"
     ]
    },
    {
     "name": "stdout",
     "output_type": "stream",
     "text": [
      "Weighted F1 Score: 0.3083995561510799\n",
      "Classification Report:\n",
      "                     precision    recall  f1-score   support\n",
      "\n",
      "    phosphorylation       0.01      0.00      0.00      1024\n",
      "         expression       0.00      0.00      0.00       722\n",
      "         inhibition       0.18      0.01      0.01      1745\n",
      "binding/association       0.00      0.00      0.00       458\n",
      "         activation       0.45      0.39      0.42      7342\n",
      "           compound       0.01      0.01      0.01       694\n",
      "        no_relation       0.33      0.53      0.41      6143\n",
      "\n",
      "           accuracy                           0.34     18128\n",
      "          macro avg       0.14      0.13      0.12     18128\n",
      "       weighted avg       0.31      0.34      0.31     18128\n",
      "\n",
      "Validation Cross-Entropy Loss: 1.74649269051022\n",
      "Epoch 60, Train Loss: 1.7643, Val F1 Score: 0.3084\n"
     ]
    },
    {
     "name": "stderr",
     "output_type": "stream",
     "text": [
      "Training: 100%|██████████| 100/100 [01:12<00:00,  1.38it/s]\n",
      "Validating: 100%|██████████| 18/18 [00:02<00:00,  7.31it/s]\n"
     ]
    },
    {
     "name": "stdout",
     "output_type": "stream",
     "text": [
      "Weighted F1 Score: 0.3104470939735849\n",
      "Classification Report:\n",
      "                     precision    recall  f1-score   support\n",
      "\n",
      "    phosphorylation       0.01      0.00      0.00      1024\n",
      "         expression       0.00      0.00      0.00       722\n",
      "         inhibition       0.18      0.01      0.01      1745\n",
      "binding/association       0.00      0.00      0.00       458\n",
      "         activation       0.46      0.39      0.42      7342\n",
      "           compound       0.01      0.02      0.01       694\n",
      "        no_relation       0.33      0.53      0.41      6143\n",
      "\n",
      "           accuracy                           0.34     18128\n",
      "          macro avg       0.14      0.14      0.12     18128\n",
      "       weighted avg       0.31      0.34      0.31     18128\n",
      "\n",
      "Validation Cross-Entropy Loss: 1.7459994090927973\n",
      "Epoch 61, Train Loss: 1.7625, Val F1 Score: 0.3104\n"
     ]
    },
    {
     "name": "stderr",
     "output_type": "stream",
     "text": [
      "Training: 100%|██████████| 100/100 [01:14<00:00,  1.34it/s]\n",
      "Validating: 100%|██████████| 18/18 [00:02<00:00,  7.47it/s]\n"
     ]
    },
    {
     "name": "stdout",
     "output_type": "stream",
     "text": [
      "Weighted F1 Score: 0.3104022066913833\n",
      "Classification Report:\n",
      "                     precision    recall  f1-score   support\n",
      "\n",
      "    phosphorylation       0.01      0.00      0.00      1024\n",
      "         expression       0.00      0.00      0.00       722\n",
      "         inhibition       0.18      0.01      0.01      1745\n",
      "binding/association       0.00      0.00      0.00       458\n",
      "         activation       0.45      0.39      0.42      7342\n",
      "           compound       0.01      0.02      0.01       694\n",
      "        no_relation       0.33      0.53      0.41      6143\n",
      "\n",
      "           accuracy                           0.34     18128\n",
      "          macro avg       0.14      0.14      0.12     18128\n",
      "       weighted avg       0.31      0.34      0.31     18128\n",
      "\n",
      "Validation Cross-Entropy Loss: 1.7453933027055528\n",
      "Epoch 62, Train Loss: 1.7623, Val F1 Score: 0.3104\n"
     ]
    },
    {
     "name": "stderr",
     "output_type": "stream",
     "text": [
      "Training: 100%|██████████| 100/100 [01:14<00:00,  1.35it/s]\n",
      "Validating: 100%|██████████| 18/18 [00:02<00:00,  7.54it/s]\n"
     ]
    },
    {
     "name": "stdout",
     "output_type": "stream",
     "text": [
      "Weighted F1 Score: 0.3108697777499675\n",
      "Classification Report:\n",
      "                     precision    recall  f1-score   support\n",
      "\n",
      "    phosphorylation       0.01      0.00      0.00      1024\n",
      "         expression       0.00      0.00      0.00       722\n",
      "         inhibition       0.18      0.01      0.01      1745\n",
      "binding/association       0.00      0.00      0.00       458\n",
      "         activation       0.45      0.39      0.42      7342\n",
      "           compound       0.01      0.02      0.01       694\n",
      "        no_relation       0.33      0.54      0.41      6143\n",
      "\n",
      "           accuracy                           0.34     18128\n",
      "          macro avg       0.14      0.14      0.12     18128\n",
      "       weighted avg       0.31      0.34      0.31     18128\n",
      "\n",
      "Validation Cross-Entropy Loss: 1.7448622518115573\n",
      "Epoch 63, Train Loss: 1.7620, Val F1 Score: 0.3109\n"
     ]
    },
    {
     "name": "stderr",
     "output_type": "stream",
     "text": [
      "Training: 100%|██████████| 100/100 [01:12<00:00,  1.37it/s]\n",
      "Validating: 100%|██████████| 18/18 [00:02<00:00,  7.26it/s]\n"
     ]
    },
    {
     "name": "stdout",
     "output_type": "stream",
     "text": [
      "Weighted F1 Score: 0.3110407527903892\n",
      "Classification Report:\n",
      "                     precision    recall  f1-score   support\n",
      "\n",
      "    phosphorylation       0.01      0.00      0.00      1024\n",
      "         expression       0.00      0.00      0.00       722\n",
      "         inhibition       0.18      0.01      0.01      1745\n",
      "binding/association       0.00      0.00      0.00       458\n",
      "         activation       0.45      0.39      0.42      7342\n",
      "           compound       0.01      0.02      0.01       694\n",
      "        no_relation       0.33      0.54      0.41      6143\n",
      "\n",
      "           accuracy                           0.34     18128\n",
      "          macro avg       0.14      0.14      0.12     18128\n",
      "       weighted avg       0.31      0.34      0.31     18128\n",
      "\n",
      "Validation Cross-Entropy Loss: 1.7442562050289578\n",
      "Epoch 64, Train Loss: 1.7596, Val F1 Score: 0.3110\n"
     ]
    },
    {
     "name": "stderr",
     "output_type": "stream",
     "text": [
      "Training: 100%|██████████| 100/100 [01:13<00:00,  1.36it/s]\n",
      "Validating: 100%|██████████| 18/18 [00:02<00:00,  8.00it/s]\n"
     ]
    },
    {
     "name": "stdout",
     "output_type": "stream",
     "text": [
      "Weighted F1 Score: 0.3111014407318182\n",
      "Classification Report:\n",
      "                     precision    recall  f1-score   support\n",
      "\n",
      "    phosphorylation       0.01      0.00      0.00      1024\n",
      "         expression       0.00      0.00      0.00       722\n",
      "         inhibition       0.18      0.01      0.01      1745\n",
      "binding/association       0.00      0.00      0.00       458\n",
      "         activation       0.46      0.39      0.42      7342\n",
      "           compound       0.01      0.02      0.01       694\n",
      "        no_relation       0.33      0.54      0.41      6143\n",
      "\n",
      "           accuracy                           0.34     18128\n",
      "          macro avg       0.14      0.14      0.12     18128\n",
      "       weighted avg       0.31      0.34      0.31     18128\n",
      "\n",
      "Validation Cross-Entropy Loss: 1.7439435124397278\n",
      "Epoch 65, Train Loss: 1.7569, Val F1 Score: 0.3111\n"
     ]
    },
    {
     "name": "stderr",
     "output_type": "stream",
     "text": [
      "Training: 100%|██████████| 100/100 [01:10<00:00,  1.43it/s]\n",
      "Validating: 100%|██████████| 18/18 [00:02<00:00,  7.79it/s]\n"
     ]
    },
    {
     "name": "stdout",
     "output_type": "stream",
     "text": [
      "Weighted F1 Score: 0.3115285682040876\n",
      "Classification Report:\n",
      "                     precision    recall  f1-score   support\n",
      "\n",
      "    phosphorylation       0.01      0.00      0.00      1024\n",
      "         expression       0.00      0.00      0.00       722\n",
      "         inhibition       0.18      0.01      0.01      1745\n",
      "binding/association       0.00      0.00      0.00       458\n",
      "         activation       0.46      0.39      0.42      7342\n",
      "           compound       0.01      0.02      0.01       694\n",
      "        no_relation       0.33      0.54      0.41      6143\n",
      "\n",
      "           accuracy                           0.34     18128\n",
      "          macro avg       0.14      0.14      0.12     18128\n",
      "       weighted avg       0.31      0.34      0.31     18128\n",
      "\n",
      "Validation Cross-Entropy Loss: 1.7437066634496052\n",
      "Epoch 66, Train Loss: 1.7588, Val F1 Score: 0.3115\n"
     ]
    },
    {
     "name": "stderr",
     "output_type": "stream",
     "text": [
      "Training: 100%|██████████| 100/100 [01:08<00:00,  1.45it/s]\n",
      "Validating: 100%|██████████| 18/18 [00:02<00:00,  7.47it/s]\n"
     ]
    },
    {
     "name": "stdout",
     "output_type": "stream",
     "text": [
      "Weighted F1 Score: 0.3115285682040876\n",
      "Classification Report:\n",
      "                     precision    recall  f1-score   support\n",
      "\n",
      "    phosphorylation       0.01      0.00      0.00      1024\n",
      "         expression       0.00      0.00      0.00       722\n",
      "         inhibition       0.18      0.01      0.01      1745\n",
      "binding/association       0.00      0.00      0.00       458\n",
      "         activation       0.46      0.39      0.42      7342\n",
      "           compound       0.01      0.02      0.01       694\n",
      "        no_relation       0.33      0.54      0.41      6143\n",
      "\n",
      "           accuracy                           0.34     18128\n",
      "          macro avg       0.14      0.14      0.12     18128\n",
      "       weighted avg       0.31      0.34      0.31     18128\n",
      "\n",
      "Validation Cross-Entropy Loss: 1.7432511316405401\n",
      "Epoch 67, Train Loss: 1.7569, Val F1 Score: 0.3115\n"
     ]
    },
    {
     "name": "stderr",
     "output_type": "stream",
     "text": [
      "Training: 100%|██████████| 100/100 [01:09<00:00,  1.45it/s]\n",
      "Validating: 100%|██████████| 18/18 [00:02<00:00,  7.70it/s]\n"
     ]
    },
    {
     "name": "stdout",
     "output_type": "stream",
     "text": [
      "Weighted F1 Score: 0.3116954203108167\n",
      "Classification Report:\n",
      "                     precision    recall  f1-score   support\n",
      "\n",
      "    phosphorylation       0.01      0.00      0.00      1024\n",
      "         expression       0.00      0.00      0.00       722\n",
      "         inhibition       0.18      0.01      0.01      1745\n",
      "binding/association       0.00      0.00      0.00       458\n",
      "         activation       0.46      0.39      0.42      7342\n",
      "           compound       0.01      0.02      0.01       694\n",
      "        no_relation       0.33      0.54      0.41      6143\n",
      "\n",
      "           accuracy                           0.34     18128\n",
      "          macro avg       0.14      0.14      0.12     18128\n",
      "       weighted avg       0.31      0.34      0.31     18128\n",
      "\n",
      "Validation Cross-Entropy Loss: 1.7427480220794678\n",
      "Epoch 68, Train Loss: 1.7576, Val F1 Score: 0.3117\n"
     ]
    },
    {
     "name": "stderr",
     "output_type": "stream",
     "text": [
      "Training: 100%|██████████| 100/100 [01:09<00:00,  1.45it/s]\n",
      "Validating: 100%|██████████| 18/18 [00:02<00:00,  7.15it/s]\n"
     ]
    },
    {
     "name": "stdout",
     "output_type": "stream",
     "text": [
      "Weighted F1 Score: 0.3116954203108167\n",
      "Classification Report:\n",
      "                     precision    recall  f1-score   support\n",
      "\n",
      "    phosphorylation       0.01      0.00      0.00      1024\n",
      "         expression       0.00      0.00      0.00       722\n",
      "         inhibition       0.18      0.01      0.01      1745\n",
      "binding/association       0.00      0.00      0.00       458\n",
      "         activation       0.46      0.39      0.42      7342\n",
      "           compound       0.01      0.02      0.01       694\n",
      "        no_relation       0.33      0.54      0.41      6143\n",
      "\n",
      "           accuracy                           0.34     18128\n",
      "          macro avg       0.14      0.14      0.12     18128\n",
      "       weighted avg       0.31      0.34      0.31     18128\n",
      "\n",
      "Validation Cross-Entropy Loss: 1.742287231816186\n",
      "Epoch 69, Train Loss: 1.7575, Val F1 Score: 0.3117\n"
     ]
    },
    {
     "name": "stderr",
     "output_type": "stream",
     "text": [
      "Training: 100%|██████████| 100/100 [01:09<00:00,  1.44it/s]\n",
      "Validating: 100%|██████████| 18/18 [00:02<00:00,  8.10it/s]\n"
     ]
    },
    {
     "name": "stdout",
     "output_type": "stream",
     "text": [
      "Weighted F1 Score: 0.31000311710441175\n",
      "Classification Report:\n",
      "                     precision    recall  f1-score   support\n",
      "\n",
      "    phosphorylation       0.01      0.00      0.00      1024\n",
      "         expression       0.00      0.00      0.00       722\n",
      "         inhibition       0.18      0.01      0.01      1745\n",
      "binding/association       0.00      0.00      0.00       458\n",
      "         activation       0.45      0.39      0.42      7342\n",
      "           compound       0.01      0.02      0.01       694\n",
      "        no_relation       0.33      0.54      0.41      6143\n",
      "\n",
      "           accuracy                           0.34     18128\n",
      "          macro avg       0.14      0.14      0.12     18128\n",
      "       weighted avg       0.31      0.34      0.31     18128\n",
      "\n",
      "Validation Cross-Entropy Loss: 1.7417994009123907\n",
      "Epoch 70, Train Loss: 1.7536, Val F1 Score: 0.3100\n"
     ]
    },
    {
     "name": "stderr",
     "output_type": "stream",
     "text": [
      "Training: 100%|██████████| 100/100 [01:08<00:00,  1.46it/s]\n",
      "Validating: 100%|██████████| 18/18 [00:02<00:00,  7.13it/s]\n"
     ]
    },
    {
     "name": "stdout",
     "output_type": "stream",
     "text": [
      "Weighted F1 Score: 0.309663734099299\n",
      "Classification Report:\n",
      "                     precision    recall  f1-score   support\n",
      "\n",
      "    phosphorylation       0.01      0.00      0.00      1024\n",
      "         expression       0.00      0.00      0.00       722\n",
      "         inhibition       0.18      0.01      0.01      1745\n",
      "binding/association       0.00      0.00      0.00       458\n",
      "         activation       0.45      0.39      0.42      7342\n",
      "           compound       0.01      0.02      0.01       694\n",
      "        no_relation       0.33      0.54      0.41      6143\n",
      "\n",
      "           accuracy                           0.34     18128\n",
      "          macro avg       0.14      0.14      0.12     18128\n",
      "       weighted avg       0.31      0.34      0.31     18128\n",
      "\n",
      "Validation Cross-Entropy Loss: 1.7413775854640536\n",
      "Epoch 71, Train Loss: 1.7573, Val F1 Score: 0.3097\n"
     ]
    },
    {
     "name": "stderr",
     "output_type": "stream",
     "text": [
      "Training: 100%|██████████| 100/100 [01:09<00:00,  1.44it/s]\n",
      "Validating: 100%|██████████| 18/18 [00:02<00:00,  8.08it/s]\n"
     ]
    },
    {
     "name": "stdout",
     "output_type": "stream",
     "text": [
      "Weighted F1 Score: 0.309663734099299\n",
      "Classification Report:\n",
      "                     precision    recall  f1-score   support\n",
      "\n",
      "    phosphorylation       0.01      0.00      0.00      1024\n",
      "         expression       0.00      0.00      0.00       722\n",
      "         inhibition       0.18      0.01      0.01      1745\n",
      "binding/association       0.00      0.00      0.00       458\n",
      "         activation       0.45      0.39      0.42      7342\n",
      "           compound       0.01      0.02      0.01       694\n",
      "        no_relation       0.33      0.54      0.41      6143\n",
      "\n",
      "           accuracy                           0.34     18128\n",
      "          macro avg       0.14      0.14      0.12     18128\n",
      "       weighted avg       0.31      0.34      0.31     18128\n",
      "\n",
      "Validation Cross-Entropy Loss: 1.740993360678355\n",
      "Epoch 72, Train Loss: 1.7511, Val F1 Score: 0.3097\n"
     ]
    },
    {
     "name": "stderr",
     "output_type": "stream",
     "text": [
      "Training: 100%|██████████| 100/100 [01:09<00:00,  1.44it/s]\n",
      "Validating: 100%|██████████| 18/18 [00:02<00:00,  7.19it/s]\n"
     ]
    },
    {
     "name": "stdout",
     "output_type": "stream",
     "text": [
      "Weighted F1 Score: 0.309663734099299\n",
      "Classification Report:\n",
      "                     precision    recall  f1-score   support\n",
      "\n",
      "    phosphorylation       0.01      0.00      0.00      1024\n",
      "         expression       0.00      0.00      0.00       722\n",
      "         inhibition       0.18      0.01      0.01      1745\n",
      "binding/association       0.00      0.00      0.00       458\n",
      "         activation       0.45      0.39      0.42      7342\n",
      "           compound       0.01      0.02      0.01       694\n",
      "        no_relation       0.33      0.54      0.41      6143\n",
      "\n",
      "           accuracy                           0.34     18128\n",
      "          macro avg       0.14      0.14      0.12     18128\n",
      "       weighted avg       0.31      0.34      0.31     18128\n",
      "\n",
      "Validation Cross-Entropy Loss: 1.740381161371867\n",
      "Epoch 73, Train Loss: 1.7517, Val F1 Score: 0.3097\n"
     ]
    },
    {
     "name": "stderr",
     "output_type": "stream",
     "text": [
      "Training: 100%|██████████| 100/100 [01:08<00:00,  1.45it/s]\n",
      "Validating: 100%|██████████| 18/18 [00:02<00:00,  8.11it/s]\n"
     ]
    },
    {
     "name": "stdout",
     "output_type": "stream",
     "text": [
      "Weighted F1 Score: 0.3093431976084981\n",
      "Classification Report:\n",
      "                     precision    recall  f1-score   support\n",
      "\n",
      "    phosphorylation       0.01      0.00      0.00      1024\n",
      "         expression       0.00      0.00      0.00       722\n",
      "         inhibition       0.18      0.01      0.01      1745\n",
      "binding/association       0.00      0.00      0.00       458\n",
      "         activation       0.45      0.39      0.42      7342\n",
      "           compound       0.01      0.02      0.01       694\n",
      "        no_relation       0.33      0.54      0.41      6143\n",
      "\n",
      "           accuracy                           0.34     18128\n",
      "          macro avg       0.14      0.14      0.12     18128\n",
      "       weighted avg       0.31      0.34      0.31     18128\n",
      "\n",
      "Validation Cross-Entropy Loss: 1.7398380239804585\n",
      "Epoch 74, Train Loss: 1.7516, Val F1 Score: 0.3093\n"
     ]
    },
    {
     "name": "stderr",
     "output_type": "stream",
     "text": [
      "Training: 100%|██████████| 100/100 [01:09<00:00,  1.44it/s]\n",
      "Validating: 100%|██████████| 18/18 [00:02<00:00,  7.50it/s]\n"
     ]
    },
    {
     "name": "stdout",
     "output_type": "stream",
     "text": [
      "Weighted F1 Score: 0.309663734099299\n",
      "Classification Report:\n",
      "                     precision    recall  f1-score   support\n",
      "\n",
      "    phosphorylation       0.01      0.00      0.00      1024\n",
      "         expression       0.00      0.00      0.00       722\n",
      "         inhibition       0.18      0.01      0.01      1745\n",
      "binding/association       0.00      0.00      0.00       458\n",
      "         activation       0.45      0.39      0.42      7342\n",
      "           compound       0.01      0.02      0.01       694\n",
      "        no_relation       0.33      0.54      0.41      6143\n",
      "\n",
      "           accuracy                           0.34     18128\n",
      "          macro avg       0.14      0.14      0.12     18128\n",
      "       weighted avg       0.31      0.34      0.31     18128\n",
      "\n",
      "Validation Cross-Entropy Loss: 1.7396970258818731\n",
      "Epoch 75, Train Loss: 1.7478, Val F1 Score: 0.3097\n"
     ]
    },
    {
     "name": "stderr",
     "output_type": "stream",
     "text": [
      "Training: 100%|██████████| 100/100 [01:08<00:00,  1.46it/s]\n",
      "Validating: 100%|██████████| 18/18 [00:02<00:00,  7.71it/s]\n"
     ]
    },
    {
     "name": "stdout",
     "output_type": "stream",
     "text": [
      "Weighted F1 Score: 0.309663734099299\n",
      "Classification Report:\n",
      "                     precision    recall  f1-score   support\n",
      "\n",
      "    phosphorylation       0.01      0.00      0.00      1024\n",
      "         expression       0.00      0.00      0.00       722\n",
      "         inhibition       0.18      0.01      0.01      1745\n",
      "binding/association       0.00      0.00      0.00       458\n",
      "         activation       0.45      0.39      0.42      7342\n",
      "           compound       0.01      0.02      0.01       694\n",
      "        no_relation       0.33      0.54      0.41      6143\n",
      "\n",
      "           accuracy                           0.34     18128\n",
      "          macro avg       0.14      0.14      0.12     18128\n",
      "       weighted avg       0.31      0.34      0.31     18128\n",
      "\n",
      "Validation Cross-Entropy Loss: 1.7395326561397977\n",
      "Epoch 76, Train Loss: 1.7491, Val F1 Score: 0.3097\n"
     ]
    },
    {
     "name": "stderr",
     "output_type": "stream",
     "text": [
      "Training: 100%|██████████| 100/100 [01:10<00:00,  1.43it/s]\n",
      "Validating: 100%|██████████| 18/18 [00:02<00:00,  8.22it/s]\n"
     ]
    },
    {
     "name": "stdout",
     "output_type": "stream",
     "text": [
      "Weighted F1 Score: 0.309663734099299\n",
      "Classification Report:\n",
      "                     precision    recall  f1-score   support\n",
      "\n",
      "    phosphorylation       0.01      0.00      0.00      1024\n",
      "         expression       0.00      0.00      0.00       722\n",
      "         inhibition       0.18      0.01      0.01      1745\n",
      "binding/association       0.00      0.00      0.00       458\n",
      "         activation       0.45      0.39      0.42      7342\n",
      "           compound       0.01      0.02      0.01       694\n",
      "        no_relation       0.33      0.54      0.41      6143\n",
      "\n",
      "           accuracy                           0.34     18128\n",
      "          macro avg       0.14      0.14      0.12     18128\n",
      "       weighted avg       0.31      0.34      0.31     18128\n",
      "\n",
      "Validation Cross-Entropy Loss: 1.739369683795505\n",
      "Epoch 77, Train Loss: 1.7487, Val F1 Score: 0.3097\n"
     ]
    },
    {
     "name": "stderr",
     "output_type": "stream",
     "text": [
      "Training: 100%|██████████| 100/100 [01:08<00:00,  1.45it/s]\n",
      "Validating: 100%|██████████| 18/18 [00:02<00:00,  8.33it/s]"
     ]
    },
    {
     "name": "stdout",
     "output_type": "stream",
     "text": [
      "Weighted F1 Score: 0.309663734099299\n",
      "Classification Report:\n",
      "                     precision    recall  f1-score   support\n",
      "\n",
      "    phosphorylation       0.01      0.00      0.00      1024\n",
      "         expression       0.00      0.00      0.00       722\n",
      "         inhibition       0.18      0.01      0.01      1745\n",
      "binding/association       0.00      0.00      0.00       458\n",
      "         activation       0.45      0.39      0.42      7342\n",
      "           compound       0.01      0.02      0.01       694\n",
      "        no_relation       0.33      0.54      0.41      6143\n",
      "\n",
      "           accuracy                           0.34     18128\n",
      "          macro avg       0.14      0.14      0.12     18128\n",
      "       weighted avg       0.31      0.34      0.31     18128\n",
      "\n",
      "Validation Cross-Entropy Loss: 1.739157756169637\n",
      "Epoch 78, Train Loss: 1.7495, Val F1 Score: 0.3097\n",
      "Early stopping triggered\n",
      "Best model saved.\n"
     ]
    },
    {
     "name": "stderr",
     "output_type": "stream",
     "text": [
      "\n"
     ]
    }
   ],
   "source": [
    "# Early stopping parameters\n",
    "patience = 10  # Number of epochs to wait for improvement before stopping\n",
    "best_val_loss = float('inf')\n",
    "epochs_no_improve = 0\n",
    "\n",
    "# Set up the learning rate scheduler\n",
    "scheduler = optim.lr_scheduler.ReduceLROnPlateau(optimizer, mode='max', factor=0.5, patience=5)\n",
    "\n",
    "best_f1_score = 0\n",
    "epochs_no_improve = 0\n",
    "best_model_state = None\n",
    "\n",
    "for epoch in range(1000):\n",
    "    train_loss = train()  # Your training function\n",
    "    val_f1_score = validate()  # Your validation function returning F1 score\n",
    "\n",
    "    print(f'Epoch {epoch+1}, Train Loss: {train_loss:.4f}, Val F1 Score: {val_f1_score:.4f}')\n",
    "\n",
    "    # Step the scheduler with the F1 score\n",
    "    scheduler.step(val_f1_score)\n",
    "\n",
    "    # Check for improvement\n",
    "    if val_f1_score > best_f1_score:\n",
    "        best_f1_score = val_f1_score\n",
    "        epochs_no_improve = 0\n",
    "        best_model_state = model.state_dict()  # Update the best model state\n",
    "    else:\n",
    "        epochs_no_improve += 1\n",
    "\n",
    "    if epochs_no_improve >= patience:\n",
    "        print(\"Early stopping triggered\")\n",
    "        break\n",
    "\n",
    "# Save the best model state (outside of the loop)\n",
    "if best_model_state is not None:\n",
    "    torch.save(best_model_state, 'new_GCN_32_32_best.pth')\n",
    "    print(\"Best model saved.\")\n",
    "else:\n",
    "    print(\"No model improvement was observed.\")"
   ]
  },
  {
   "cell_type": "code",
   "execution_count": 10,
   "metadata": {},
   "outputs": [
    {
     "ename": "FileNotFoundError",
     "evalue": "[Errno 2] No such file or directory: 'model_trial_0.pth'",
     "output_type": "error",
     "traceback": [
      "\u001b[1;31m---------------------------------------------------------------------------\u001b[0m",
      "\u001b[1;31mFileNotFoundError\u001b[0m                         Traceback (most recent call last)",
      "\u001b[1;32mc:\\yc\\Study doesn't love you\\8735_unsup_learning\\GNN\\gnn.ipynb Cell 10\u001b[0m line \u001b[0;36m8\n\u001b[0;32m      <a href='vscode-notebook-cell:/c%3A/yc/Study%20doesn%27t%20love%20you/8735_unsup_learning/GNN/gnn.ipynb#X21sZmlsZQ%3D%3D?line=5'>6</a>\u001b[0m \u001b[39m# Load the best model\u001b[39;00m\n\u001b[0;32m      <a href='vscode-notebook-cell:/c%3A/yc/Study%20doesn%27t%20love%20you/8735_unsup_learning/GNN/gnn.ipynb#X21sZmlsZQ%3D%3D?line=6'>7</a>\u001b[0m model_path \u001b[39m=\u001b[39m \u001b[39m'\u001b[39m\u001b[39mmodel_trial_0.pth\u001b[39m\u001b[39m'\u001b[39m\n\u001b[1;32m----> <a href='vscode-notebook-cell:/c%3A/yc/Study%20doesn%27t%20love%20you/8735_unsup_learning/GNN/gnn.ipynb#X21sZmlsZQ%3D%3D?line=7'>8</a>\u001b[0m model\u001b[39m.\u001b[39mload_state_dict(torch\u001b[39m.\u001b[39mload(model_path))\n\u001b[0;32m      <a href='vscode-notebook-cell:/c%3A/yc/Study%20doesn%27t%20love%20you/8735_unsup_learning/GNN/gnn.ipynb#X21sZmlsZQ%3D%3D?line=8'>9</a>\u001b[0m model \u001b[39m=\u001b[39m model\u001b[39m.\u001b[39mto(device)\n\u001b[0;32m     <a href='vscode-notebook-cell:/c%3A/yc/Study%20doesn%27t%20love%20you/8735_unsup_learning/GNN/gnn.ipynb#X21sZmlsZQ%3D%3D?line=9'>10</a>\u001b[0m model\u001b[39m.\u001b[39meval()\n",
      "File \u001b[1;32mc:\\Users\\ycy6y\\.conda\\envs\\pathway_siamese_network\\Lib\\site-packages\\torch\\serialization.py:986\u001b[0m, in \u001b[0;36mload\u001b[1;34m(f, map_location, pickle_module, weights_only, mmap, **pickle_load_args)\u001b[0m\n\u001b[0;32m    983\u001b[0m \u001b[39mif\u001b[39;00m \u001b[39m'\u001b[39m\u001b[39mencoding\u001b[39m\u001b[39m'\u001b[39m \u001b[39mnot\u001b[39;00m \u001b[39min\u001b[39;00m pickle_load_args\u001b[39m.\u001b[39mkeys():\n\u001b[0;32m    984\u001b[0m     pickle_load_args[\u001b[39m'\u001b[39m\u001b[39mencoding\u001b[39m\u001b[39m'\u001b[39m] \u001b[39m=\u001b[39m \u001b[39m'\u001b[39m\u001b[39mutf-8\u001b[39m\u001b[39m'\u001b[39m\n\u001b[1;32m--> 986\u001b[0m \u001b[39mwith\u001b[39;00m _open_file_like(f, \u001b[39m'\u001b[39m\u001b[39mrb\u001b[39m\u001b[39m'\u001b[39m) \u001b[39mas\u001b[39;00m opened_file:\n\u001b[0;32m    987\u001b[0m     \u001b[39mif\u001b[39;00m _is_zipfile(opened_file):\n\u001b[0;32m    988\u001b[0m         \u001b[39m# The zipfile reader is going to advance the current file position.\u001b[39;00m\n\u001b[0;32m    989\u001b[0m         \u001b[39m# If we want to actually tail call to torch.jit.load, we need to\u001b[39;00m\n\u001b[0;32m    990\u001b[0m         \u001b[39m# reset back to the original position.\u001b[39;00m\n\u001b[0;32m    991\u001b[0m         orig_position \u001b[39m=\u001b[39m opened_file\u001b[39m.\u001b[39mtell()\n",
      "File \u001b[1;32mc:\\Users\\ycy6y\\.conda\\envs\\pathway_siamese_network\\Lib\\site-packages\\torch\\serialization.py:435\u001b[0m, in \u001b[0;36m_open_file_like\u001b[1;34m(name_or_buffer, mode)\u001b[0m\n\u001b[0;32m    433\u001b[0m \u001b[39mdef\u001b[39;00m \u001b[39m_open_file_like\u001b[39m(name_or_buffer, mode):\n\u001b[0;32m    434\u001b[0m     \u001b[39mif\u001b[39;00m _is_path(name_or_buffer):\n\u001b[1;32m--> 435\u001b[0m         \u001b[39mreturn\u001b[39;00m _open_file(name_or_buffer, mode)\n\u001b[0;32m    436\u001b[0m     \u001b[39melse\u001b[39;00m:\n\u001b[0;32m    437\u001b[0m         \u001b[39mif\u001b[39;00m \u001b[39m'\u001b[39m\u001b[39mw\u001b[39m\u001b[39m'\u001b[39m \u001b[39min\u001b[39;00m mode:\n",
      "File \u001b[1;32mc:\\Users\\ycy6y\\.conda\\envs\\pathway_siamese_network\\Lib\\site-packages\\torch\\serialization.py:416\u001b[0m, in \u001b[0;36m_open_file.__init__\u001b[1;34m(self, name, mode)\u001b[0m\n\u001b[0;32m    415\u001b[0m \u001b[39mdef\u001b[39;00m \u001b[39m__init__\u001b[39m(\u001b[39mself\u001b[39m, name, mode):\n\u001b[1;32m--> 416\u001b[0m     \u001b[39msuper\u001b[39m()\u001b[39m.\u001b[39m\u001b[39m__init__\u001b[39m(\u001b[39mopen\u001b[39m(name, mode))\n",
      "\u001b[1;31mFileNotFoundError\u001b[0m: [Errno 2] No such file or directory: 'model_trial_0.pth'"
     ]
    }
   ],
   "source": [
    "import pandas as pd\n",
    "import torch\n",
    "from torch_geometric.data import Data\n",
    "from torch_geometric.utils import from_networkx\n",
    "\n",
    "# Load the best model\n",
    "model_path = 'model_trial_0.pth'\n",
    "model.load_state_dict(torch.load(model_path))\n",
    "model = model.to(device)\n",
    "model.eval()\n",
    "\n",
    "# Load the validation dataset\n",
    "val_MDG = build_multidigraph_from_csv('relations_val_final.csv')\n",
    "val_data = from_networkx(val_MDG)\n",
    "val_data.node_index = torch.arange(val_data.num_nodes)\n",
    "setup_edge_labels_with_no_interaction(val_MDG, interaction_type_to_label, val_data)\n",
    "\n",
    "# DataFrame to store the results\n",
    "val_df = pd.read_csv('relations_val_final.csv')\n",
    "predictions = []\n",
    "\n",
    "# Make predictions\n",
    "with torch.no_grad():\n",
    "    for u, v in val_df[['starter_ID', 'receiver_ID']].itertuples(index=False):\n",
    "        u_index = list(val_MDG.nodes()).index(u)\n",
    "        v_index = list(val_MDG.nodes()).index(v)\n",
    "        output = model(val_data.to(device))\n",
    "        pred = output[u_index].argmax(dim=0).item()\n",
    "        predictions.append(pred)\n",
    "\n",
    "# Add predictions to the DataFrame\n",
    "val_df['prediction'] = predictions\n",
    "\n",
    "# Save the DataFrame with predictions\n",
    "val_df.to_csv('validate_result_0.csv', index=False)\n"
   ]
  }
 ],
 "metadata": {
  "kernelspec": {
   "display_name": "pathway_siamese_network",
   "language": "python",
   "name": "python3"
  },
  "language_info": {
   "codemirror_mode": {
    "name": "ipython",
    "version": 3
   },
   "file_extension": ".py",
   "mimetype": "text/x-python",
   "name": "python",
   "nbconvert_exporter": "python",
   "pygments_lexer": "ipython3",
   "version": "3.11.5"
  }
 },
 "nbformat": 4,
 "nbformat_minor": 2
}
