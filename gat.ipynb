{
 "cells": [
  {
   "cell_type": "code",
   "execution_count": 1,
   "metadata": {},
   "outputs": [],
   "source": [
    "import os\n",
    "os.environ['CUDA_LAUNCH_BLOCKING'] = \"1\""
   ]
  },
  {
   "cell_type": "code",
   "execution_count": 2,
   "metadata": {},
   "outputs": [
    {
     "name": "stdout",
     "output_type": "stream",
     "text": [
      "Number of nodes: 4816\n",
      "Number of edges: 101782\n"
     ]
    }
   ],
   "source": [
    "import networkx as nx\n",
    "import csv\n",
    "\n",
    "def build_multidigraph_from_csv(csv_file):\n",
    "    G = nx.MultiDiGraph()\n",
    "\n",
    "    with open(csv_file, 'r') as file:\n",
    "        reader = csv.DictReader(file)\n",
    "        for row in reader:\n",
    "            # Add nodes (if not already added)\n",
    "            G.add_node(row['starter_ID'], name=row['starter_ID'])\n",
    "            G.add_node(row['receiver_ID'], name=row['receiver_ID'])\n",
    "\n",
    "            # Add directed edges with additional attributes\n",
    "            # Each edge is unique and can represent a different type of interaction\n",
    "            G.add_edge(\n",
    "                row['starter_ID'], \n",
    "                row['receiver_ID'], \n",
    "                interaction_type=row['subtype_name'],\n",
    "                relation_type=row['relation_type'],\n",
    "                pathway_sources=row['pathway_source'],\n",
    "                credibility=row['credibility']\n",
    "            )\n",
    "\n",
    "    return G\n",
    "\n",
    "# Path to the CSV file\n",
    "csv_file_path = 'relations_train_final.csv'  # Update this to the path of your relations_train.csv file\n",
    "\n",
    "# Build the multidigraph\n",
    "MDG = build_multidigraph_from_csv(csv_file_path)\n",
    "\n",
    "# Print basic information about the multidigraph\n",
    "print(f\"Number of nodes: {MDG.number_of_nodes()}\")\n",
    "print(f\"Number of edges: {MDG.number_of_edges()}\")\n",
    "\n",
    "# The multidigraph `MDG` is now constructed with nodes and multiple types of directed edges from the relations_train.csv\n",
    "# You can now use `MDG` for further analysis or as input to clustering algorithms.\n",
    "\n"
   ]
  },
  {
   "cell_type": "code",
   "execution_count": 3,
   "metadata": {},
   "outputs": [],
   "source": [
    "import torch\n",
    "import torch.nn.functional as F\n",
    "from torch_geometric.nn import GCNConv\n",
    "from torch_geometric.data import Data\n",
    "from torch_geometric.utils import from_networkx\n",
    "from torch_geometric.nn import GATConv\n",
    "\n",
    "\n",
    "class GAT(torch.nn.Module):\n",
    "    def __init__(self, num_nodes, embedding_dim, num_classes, num_hidden_units=32, num_heads=5):\n",
    "        super(GAT, self).__init__()\n",
    "        self.node_emb = torch.nn.Embedding(num_nodes, embedding_dim)\n",
    "        \n",
    "        # First GAT layer\n",
    "        self.conv1 = GATConv(embedding_dim, num_hidden_units, heads=num_heads, dropout=0.6)\n",
    "        \n",
    "        # Output layer\n",
    "        self.conv2 = GATConv(num_hidden_units * num_heads, num_classes, heads=1, concat=True, dropout=0.6)\n",
    "\n",
    "    def forward(self, data):\n",
    "        x = self.node_emb(data.node_index)\n",
    "        edge_index = data.edge_index\n",
    "\n",
    "        x = F.dropout(x, p=0.6, training=self.training)\n",
    "        x = F.elu(self.conv1(x, edge_index))\n",
    "        x = F.dropout(x, p=0.6, training=self.training)\n",
    "        x = self.conv2(x, edge_index)\n",
    "\n",
    "        return F.log_softmax(x, dim=1)\n",
    "\n",
    "# Assuming MDG is your MultiDiGraph\n",
    "train_data = from_networkx(MDG)\n",
    "\n",
    "num_nodes = train_data.num_nodes\n",
    "embedding_dim = 32  # Choose an appropriate embedding size\n",
    "num_classes = 7   # Set the number of classes based on your edge types\n"
   ]
  },
  {
   "cell_type": "code",
   "execution_count": 4,
   "metadata": {},
   "outputs": [],
   "source": [
    "# Collect all unique interaction types from MDG\n",
    "interaction_types = set()\n",
    "for _, _, edge_data in MDG.edges(data=True):\n",
    "    interaction_types.add(edge_data['interaction_type'])\n",
    "\n",
    "# Update the mapping to include 'no interaction' class\n",
    "interaction_type_to_label = {inter_type: i for i, inter_type in enumerate(interaction_types)}\n",
    "num_classes = len(interaction_type_to_label)\n",
    "\n",
    "def setup_edge_labels_with_no_interaction(MDG, interaction_type_to_label, data):\n",
    "    num_nodes = len(MDG.nodes())\n",
    "    edge_labels = torch.zeros((num_nodes, num_nodes), dtype=torch.long)\n",
    "\n",
    "    for u, v, edge_data in MDG.edges(data=True):\n",
    "        u_index = list(MDG.nodes()).index(u)\n",
    "        v_index = list(MDG.nodes()).index(v)\n",
    "        label = interaction_type_to_label[edge_data['interaction_type']]\n",
    "        edge_labels[u_index, v_index] = label\n",
    "\n",
    "    data.edge_label = edge_labels  # Directly modify the data object"
   ]
  },
  {
   "cell_type": "code",
   "execution_count": 5,
   "metadata": {},
   "outputs": [],
   "source": [
    "import torch.optim as optim\n",
    "\n",
    "# Process validation data\n",
    "val_MDG = build_multidigraph_from_csv('cleaned_relations_val_final.csv')\n",
    "\n",
    "# Create a global node to index mapping\n",
    "all_nodes = set(MDG.nodes()).union(set(val_MDG.nodes()))\n",
    "global_node_to_index = {node: idx for idx, node in enumerate(all_nodes)}\n",
    "\n",
    "# Function to map nodes in a graph to global indices\n",
    "def map_nodes_to_global_indices(G, global_node_to_index):\n",
    "    return [global_node_to_index[node] for node in G.nodes()]\n",
    "\n",
    "val_data = from_networkx(val_MDG)\n",
    "\n",
    "train_data.node_index = torch.tensor(map_nodes_to_global_indices(MDG, global_node_to_index), dtype=torch.long)\n",
    "val_data.node_index = torch.tensor(map_nodes_to_global_indices(val_MDG, global_node_to_index), dtype=torch.long)\n",
    "setup_edge_labels_with_no_interaction(val_MDG, interaction_type_to_label, val_data)\n",
    "setup_edge_labels_with_no_interaction(MDG, interaction_type_to_label, train_data)\n",
    "\n",
    "# Assuming the GCN class is defined\n",
    "model = GAT(num_nodes, embedding_dim, num_classes)\n",
    "optimizer = optim.Adam(model.parameters(), lr=0.01)\n",
    "criterion = torch.nn.CrossEntropyLoss()"
   ]
  },
  {
   "cell_type": "code",
   "execution_count": null,
   "metadata": {},
   "outputs": [],
   "source": [
    "import torch.optim as optim\n",
    "import torch.nn.functional as F\n",
    "from torch_geometric.loader import DataLoader\n",
    "from tqdm import tqdm\n",
    "\n",
    "# Create a dataset of edges and their labels\n",
    "edges = train_data.edge_index.t().tolist()  # List of [node_u, node_v]\n",
    "labels = [train_data.edge_label[edge[0], edge[1]].item() for edge in edges]\n",
    "\n",
    "edge_dataset = list(zip(edges, labels))\n",
    "edge_loader = DataLoader(edge_dataset, batch_size=1024, shuffle=True)  # Adjust batch_size as needed\n",
    "\n",
    "# Assuming val_data is structured similarly to train_data\n",
    "val_edges = val_data.edge_index.t().tolist()\n",
    "val_labels = [val_data.edge_label[edge[0], edge[1]].item() for edge in val_edges]\n",
    "\n",
    "val_edge_dataset = list(zip(val_edges, val_labels))\n",
    "val_edge_loader = DataLoader(val_edge_dataset, batch_size=1024, shuffle=False)  # You can adjust the batch size\n",
    "\n",
    "from sklearn.metrics import f1_score, classification_report\n",
    "\n",
    "inverse_interaction_type_to_label = {v: k for k, v in interaction_type_to_label.items()}\n",
    "\n",
    "def validate():\n",
    "    model.eval()\n",
    "    total_loss = 0\n",
    "    total_cross_entropy_loss = 0  # Initialize cross-entropy loss\n",
    "    all_predictions = []\n",
    "    all_true_labels = []\n",
    "\n",
    "    with torch.no_grad():\n",
    "        for batch in tqdm(val_edge_loader, desc='Validating'):\n",
    "            edge_tensors, label_batch = batch\n",
    "            node_u_list, node_v_list = edge_tensors[0].to(device), edge_tensors[1].to(device)\n",
    "            label_batch = label_batch.to(device)\n",
    "\n",
    "            output = model(val_data.to(device))\n",
    "            edge_predictions = output[node_u_list].argmax(dim=1)  # Predicted classes\n",
    "\n",
    "            # Calculate and accumulate cross-entropy loss\n",
    "            cross_entropy_loss = criterion(output[node_u_list], label_batch)\n",
    "            total_cross_entropy_loss += cross_entropy_loss.item()\n",
    "\n",
    "            # Store predictions and true labels\n",
    "            preds = edge_predictions.cpu().numpy()\n",
    "            true_labels = label_batch.cpu().numpy()\n",
    "            all_predictions.extend(preds)\n",
    "            all_true_labels.extend(true_labels)\n",
    "\n",
    "    # Calculate average cross-entropy loss over all batches\n",
    "    avg_cross_entropy_loss = total_cross_entropy_loss / len(val_edge_loader)\n",
    "\n",
    "    # Calculate F1 Score and classification report\n",
    "    weighted_f1 = f1_score(all_true_labels, all_predictions, average='weighted')\n",
    "    class_report = classification_report(all_true_labels, all_predictions, target_names=[inverse_interaction_type_to_label[i] for i in range(num_classes)], zero_division=0)\n",
    "\n",
    "    print(f\"Weighted F1 Score: {weighted_f1}\\nClassification Report:\\n{class_report}\")\n",
    "    print(f\"Validation Cross-Entropy Loss: {avg_cross_entropy_loss}\")\n",
    "\n",
    "    return weighted_f1\n"
   ]
  },
  {
   "cell_type": "code",
   "execution_count": null,
   "metadata": {},
   "outputs": [
    {
     "name": "stdout",
     "output_type": "stream",
     "text": [
      "Using device: cuda\n"
     ]
    }
   ],
   "source": [
    "# Instantiate the model\n",
    "model = GAT(num_nodes, embedding_dim, num_classes)\n",
    "optimizer = optim.Adam(model.parameters(), lr=0.00001)  # Learning rate\n",
    "criterion = torch.nn.CrossEntropyLoss()  # Loss function\n",
    "# Check if CUDA (GPU support) is available\n",
    "device = torch.device('cuda' if torch.cuda.is_available() else 'cpu')\n",
    "print(f\"Using device: {device}\")\n",
    "\n",
    "# Move your model to the chosen device\n",
    "model = model.to(device)\n",
    "\n",
    "def train():\n",
    "    model.train()\n",
    "    total_loss = 0\n",
    "\n",
    "    for batch in tqdm(edge_loader, desc='Training'):\n",
    "        edge_tensors, label_batch = batch\n",
    "        \n",
    "        node_u_list, node_v_list = edge_tensors[0].to(device), edge_tensors[1].to(device)\n",
    "        label_batch = label_batch.to(device)\n",
    "\n",
    "        optimizer.zero_grad()\n",
    "        output = model(train_data.to(device))\n",
    "\n",
    "        edge_predictions = output[node_u_list]  # Corrected indexing\n",
    "        \n",
    "        loss = criterion(edge_predictions, label_batch)\n",
    "        loss.backward()\n",
    "        optimizer.step()\n",
    "\n",
    "        total_loss += loss.item()\n",
    "\n",
    "    return total_loss / len(edge_loader)"
   ]
  },
  {
   "cell_type": "code",
   "execution_count": null,
   "metadata": {},
   "outputs": [
    {
     "name": "stderr",
     "output_type": "stream",
     "text": [
      "Training: 100%|██████████| 100/100 [01:11<00:00,  1.40it/s]\n",
      "Validating: 100%|██████████| 18/18 [00:02<00:00,  7.87it/s]\n"
     ]
    },
    {
     "name": "stdout",
     "output_type": "stream",
     "text": [
      "Weighted F1 Score: 0.26878967778255936\n",
      "Classification Report:\n",
      "                     precision    recall  f1-score   support\n",
      "\n",
      "    phosphorylation       0.02      0.03      0.03      1024\n",
      "         expression       0.03      0.09      0.04       722\n",
      "        no_relation       0.35      0.21      0.26      6143\n",
      "         activation       0.43      0.41      0.42      7342\n",
      "         inhibition       0.06      0.03      0.04      1745\n",
      "binding/association       0.04      0.24      0.07       458\n",
      "           compound       0.01      0.00      0.00       694\n",
      "\n",
      "           accuracy                           0.25     18128\n",
      "          macro avg       0.13      0.15      0.12     18128\n",
      "       weighted avg       0.30      0.25      0.27     18128\n",
      "\n",
      "Validation Cross-Entropy Loss: 1.9382289316919115\n",
      "Epoch 1, Train Loss: 2.6643, Val F1 Score: 0.2688\n"
     ]
    },
    {
     "name": "stderr",
     "output_type": "stream",
     "text": [
      "Training: 100%|██████████| 100/100 [01:11<00:00,  1.40it/s]\n",
      "Validating: 100%|██████████| 18/18 [00:02<00:00,  7.98it/s]\n"
     ]
    },
    {
     "name": "stdout",
     "output_type": "stream",
     "text": [
      "Weighted F1 Score: 0.2791645981545034\n",
      "Classification Report:\n",
      "                     precision    recall  f1-score   support\n",
      "\n",
      "    phosphorylation       0.04      0.06      0.04      1024\n",
      "         expression       0.03      0.08      0.04       722\n",
      "        no_relation       0.34      0.27      0.30      6143\n",
      "         activation       0.44      0.39      0.42      7342\n",
      "         inhibition       0.06      0.03      0.04      1745\n",
      "binding/association       0.04      0.21      0.07       458\n",
      "           compound       0.01      0.00      0.00       694\n",
      "\n",
      "           accuracy                           0.26     18128\n",
      "          macro avg       0.14      0.15      0.13     18128\n",
      "       weighted avg       0.30      0.26      0.28     18128\n",
      "\n",
      "Validation Cross-Entropy Loss: 1.9337970084614224\n",
      "Epoch 2, Train Loss: 2.6213, Val F1 Score: 0.2792\n"
     ]
    },
    {
     "name": "stderr",
     "output_type": "stream",
     "text": [
      "Training: 100%|██████████| 100/100 [01:11<00:00,  1.39it/s]\n",
      "Validating: 100%|██████████| 18/18 [00:02<00:00,  7.97it/s]\n"
     ]
    },
    {
     "name": "stdout",
     "output_type": "stream",
     "text": [
      "Weighted F1 Score: 0.28489484108684276\n",
      "Classification Report:\n",
      "                     precision    recall  f1-score   support\n",
      "\n",
      "    phosphorylation       0.04      0.06      0.05      1024\n",
      "         expression       0.03      0.07      0.04       722\n",
      "        no_relation       0.34      0.33      0.33      6143\n",
      "         activation       0.44      0.37      0.40      7342\n",
      "         inhibition       0.06      0.03      0.04      1745\n",
      "binding/association       0.05      0.19      0.08       458\n",
      "           compound       0.00      0.00      0.00       694\n",
      "\n",
      "           accuracy                           0.27     18128\n",
      "          macro avg       0.14      0.15      0.13     18128\n",
      "       weighted avg       0.30      0.27      0.28     18128\n",
      "\n",
      "Validation Cross-Entropy Loss: 1.9295713901519775\n",
      "Epoch 3, Train Loss: 2.5807, Val F1 Score: 0.2849\n"
     ]
    },
    {
     "name": "stderr",
     "output_type": "stream",
     "text": [
      "Training: 100%|██████████| 100/100 [01:11<00:00,  1.39it/s]\n",
      "Validating: 100%|██████████| 18/18 [00:02<00:00,  7.84it/s]\n"
     ]
    },
    {
     "name": "stdout",
     "output_type": "stream",
     "text": [
      "Weighted F1 Score: 0.28625484842944976\n",
      "Classification Report:\n",
      "                     precision    recall  f1-score   support\n",
      "\n",
      "    phosphorylation       0.04      0.06      0.05      1024\n",
      "         expression       0.03      0.07      0.05       722\n",
      "        no_relation       0.34      0.37      0.35      6143\n",
      "         activation       0.44      0.35      0.39      7342\n",
      "         inhibition       0.05      0.02      0.03      1745\n",
      "binding/association       0.06      0.18      0.09       458\n",
      "           compound       0.00      0.00      0.00       694\n",
      "\n",
      "           accuracy                           0.28     18128\n",
      "          macro avg       0.14      0.15      0.14     18128\n",
      "       weighted avg       0.30      0.28      0.29     18128\n",
      "\n",
      "Validation Cross-Entropy Loss: 1.9251293937365215\n",
      "Epoch 4, Train Loss: 2.5432, Val F1 Score: 0.2863\n"
     ]
    },
    {
     "name": "stderr",
     "output_type": "stream",
     "text": [
      "Training: 100%|██████████| 100/100 [01:11<00:00,  1.39it/s]\n",
      "Validating: 100%|██████████| 18/18 [00:02<00:00,  7.89it/s]\n"
     ]
    },
    {
     "name": "stdout",
     "output_type": "stream",
     "text": [
      "Weighted F1 Score: 0.28650427635083126\n",
      "Classification Report:\n",
      "                     precision    recall  f1-score   support\n",
      "\n",
      "    phosphorylation       0.00      0.00      0.00      1024\n",
      "         expression       0.03      0.07      0.05       722\n",
      "        no_relation       0.33      0.42      0.37      6143\n",
      "         activation       0.45      0.32      0.38      7342\n",
      "         inhibition       0.07      0.03      0.04      1745\n",
      "binding/association       0.06      0.16      0.08       458\n",
      "           compound       0.00      0.00      0.00       694\n",
      "\n",
      "           accuracy                           0.28     18128\n",
      "          macro avg       0.13      0.14      0.13     18128\n",
      "       weighted avg       0.30      0.28      0.29     18128\n",
      "\n",
      "Validation Cross-Entropy Loss: 1.920816335413191\n",
      "Epoch 5, Train Loss: 2.5023, Val F1 Score: 0.2865\n"
     ]
    },
    {
     "name": "stderr",
     "output_type": "stream",
     "text": [
      "Training: 100%|██████████| 100/100 [01:09<00:00,  1.44it/s]\n",
      "Validating: 100%|██████████| 18/18 [00:02<00:00,  8.15it/s]\n"
     ]
    },
    {
     "name": "stdout",
     "output_type": "stream",
     "text": [
      "Weighted F1 Score: 0.2734229861529357\n",
      "Classification Report:\n",
      "                     precision    recall  f1-score   support\n",
      "\n",
      "    phosphorylation       0.00      0.00      0.00      1024\n",
      "         expression       0.04      0.07      0.05       722\n",
      "        no_relation       0.33      0.47      0.39      6143\n",
      "         activation       0.43      0.27      0.33      7342\n",
      "         inhibition       0.07      0.03      0.04      1745\n",
      "binding/association       0.06      0.16      0.09       458\n",
      "           compound       0.00      0.00      0.00       694\n",
      "\n",
      "           accuracy                           0.28     18128\n",
      "          macro avg       0.13      0.14      0.13     18128\n",
      "       weighted avg       0.29      0.28      0.27     18128\n",
      "\n",
      "Validation Cross-Entropy Loss: 1.916504250632392\n",
      "Epoch 6, Train Loss: 2.4681, Val F1 Score: 0.2734\n"
     ]
    },
    {
     "name": "stderr",
     "output_type": "stream",
     "text": [
      "Training: 100%|██████████| 100/100 [01:08<00:00,  1.45it/s]\n",
      "Validating: 100%|██████████| 18/18 [00:02<00:00,  8.26it/s]\n"
     ]
    },
    {
     "name": "stdout",
     "output_type": "stream",
     "text": [
      "Weighted F1 Score: 0.27092928760030316\n",
      "Classification Report:\n",
      "                     precision    recall  f1-score   support\n",
      "\n",
      "    phosphorylation       0.00      0.00      0.00      1024\n",
      "         expression       0.04      0.07      0.05       722\n",
      "        no_relation       0.33      0.50      0.40      6143\n",
      "         activation       0.43      0.25      0.32      7342\n",
      "         inhibition       0.07      0.03      0.04      1745\n",
      "binding/association       0.06      0.15      0.08       458\n",
      "           compound       0.00      0.00      0.00       694\n",
      "\n",
      "           accuracy                           0.28     18128\n",
      "          macro avg       0.13      0.14      0.13     18128\n",
      "       weighted avg       0.30      0.28      0.27     18128\n",
      "\n",
      "Validation Cross-Entropy Loss: 1.9122091664208307\n",
      "Epoch 7, Train Loss: 2.4312, Val F1 Score: 0.2709\n"
     ]
    },
    {
     "name": "stderr",
     "output_type": "stream",
     "text": [
      "Training: 100%|██████████| 100/100 [01:09<00:00,  1.44it/s]\n",
      "Validating: 100%|██████████| 18/18 [00:02<00:00,  8.17it/s]\n"
     ]
    },
    {
     "name": "stdout",
     "output_type": "stream",
     "text": [
      "Weighted F1 Score: 0.2690371435843901\n",
      "Classification Report:\n",
      "                     precision    recall  f1-score   support\n",
      "\n",
      "    phosphorylation       0.00      0.00      0.00      1024\n",
      "         expression       0.04      0.07      0.05       722\n",
      "        no_relation       0.33      0.51      0.40      6143\n",
      "         activation       0.43      0.24      0.31      7342\n",
      "         inhibition       0.07      0.03      0.04      1745\n",
      "binding/association       0.06      0.14      0.08       458\n",
      "           compound       0.02      0.01      0.01       694\n",
      "\n",
      "           accuracy                           0.28     18128\n",
      "          macro avg       0.14      0.14      0.13     18128\n",
      "       weighted avg       0.30      0.28      0.27     18128\n",
      "\n",
      "Validation Cross-Entropy Loss: 1.9078771207067702\n",
      "Epoch 8, Train Loss: 2.4188, Val F1 Score: 0.2690\n"
     ]
    },
    {
     "name": "stderr",
     "output_type": "stream",
     "text": [
      "Training: 100%|██████████| 100/100 [01:09<00:00,  1.44it/s]\n",
      "Validating: 100%|██████████| 18/18 [00:02<00:00,  8.12it/s]\n"
     ]
    },
    {
     "name": "stdout",
     "output_type": "stream",
     "text": [
      "Weighted F1 Score: 0.2669536408442206\n",
      "Classification Report:\n",
      "                     precision    recall  f1-score   support\n",
      "\n",
      "    phosphorylation       0.00      0.00      0.00      1024\n",
      "         expression       0.04      0.07      0.05       722\n",
      "        no_relation       0.33      0.54      0.41      6143\n",
      "         activation       0.43      0.23      0.30      7342\n",
      "         inhibition       0.06      0.02      0.03      1745\n",
      "binding/association       0.06      0.13      0.08       458\n",
      "           compound       0.02      0.01      0.01       694\n",
      "\n",
      "           accuracy                           0.28     18128\n",
      "          macro avg       0.13      0.14      0.13     18128\n",
      "       weighted avg       0.30      0.28      0.27     18128\n",
      "\n",
      "Validation Cross-Entropy Loss: 1.9037208689583673\n",
      "Epoch 9, Train Loss: 2.3964, Val F1 Score: 0.2670\n"
     ]
    },
    {
     "name": "stderr",
     "output_type": "stream",
     "text": [
      "Training: 100%|██████████| 100/100 [01:09<00:00,  1.43it/s]\n",
      "Validating: 100%|██████████| 18/18 [00:02<00:00,  8.12it/s]\n"
     ]
    },
    {
     "name": "stdout",
     "output_type": "stream",
     "text": [
      "Weighted F1 Score: 0.26567613385251265\n",
      "Classification Report:\n",
      "                     precision    recall  f1-score   support\n",
      "\n",
      "    phosphorylation       0.00      0.00      0.00      1024\n",
      "         expression       0.04      0.07      0.05       722\n",
      "        no_relation       0.33      0.56      0.42      6143\n",
      "         activation       0.43      0.22      0.29      7342\n",
      "         inhibition       0.06      0.02      0.03      1745\n",
      "binding/association       0.06      0.13      0.08       458\n",
      "           compound       0.02      0.01      0.01       694\n",
      "\n",
      "           accuracy                           0.28     18128\n",
      "          macro avg       0.14      0.14      0.13     18128\n",
      "       weighted avg       0.30      0.28      0.27     18128\n",
      "\n",
      "Validation Cross-Entropy Loss: 1.8995660940806072\n",
      "Epoch 10, Train Loss: 2.3666, Val F1 Score: 0.2657\n"
     ]
    },
    {
     "name": "stderr",
     "output_type": "stream",
     "text": [
      "Training: 100%|██████████| 100/100 [01:08<00:00,  1.45it/s]\n",
      "Validating: 100%|██████████| 18/18 [00:02<00:00,  8.23it/s]\n"
     ]
    },
    {
     "name": "stdout",
     "output_type": "stream",
     "text": [
      "Weighted F1 Score: 0.2619184525895868\n",
      "Classification Report:\n",
      "                     precision    recall  f1-score   support\n",
      "\n",
      "    phosphorylation       0.00      0.00      0.00      1024\n",
      "         expression       0.04      0.07      0.05       722\n",
      "        no_relation       0.33      0.58      0.42      6143\n",
      "         activation       0.43      0.20      0.27      7342\n",
      "         inhibition       0.06      0.02      0.03      1745\n",
      "binding/association       0.04      0.09      0.06       458\n",
      "           compound       0.02      0.01      0.01       694\n",
      "\n",
      "           accuracy                           0.29     18128\n",
      "          macro avg       0.13      0.14      0.12     18128\n",
      "       weighted avg       0.30      0.29      0.26     18128\n",
      "\n",
      "Validation Cross-Entropy Loss: 1.8955245614051819\n",
      "Epoch 11, Train Loss: 2.3207, Val F1 Score: 0.2619\n"
     ]
    },
    {
     "name": "stderr",
     "output_type": "stream",
     "text": [
      "Training: 100%|██████████| 100/100 [01:09<00:00,  1.45it/s]\n",
      "Validating: 100%|██████████| 18/18 [00:02<00:00,  8.13it/s]\n"
     ]
    },
    {
     "name": "stdout",
     "output_type": "stream",
     "text": [
      "Weighted F1 Score: 0.26189190925091216\n",
      "Classification Report:\n",
      "                     precision    recall  f1-score   support\n",
      "\n",
      "    phosphorylation       0.00      0.00      0.00      1024\n",
      "         expression       0.04      0.07      0.05       722\n",
      "        no_relation       0.33      0.59      0.43      6143\n",
      "         activation       0.43      0.20      0.27      7342\n",
      "         inhibition       0.06      0.02      0.03      1745\n",
      "binding/association       0.04      0.08      0.05       458\n",
      "           compound       0.03      0.01      0.02       694\n",
      "\n",
      "           accuracy                           0.29     18128\n",
      "          macro avg       0.13      0.14      0.12     18128\n",
      "       weighted avg       0.30      0.29      0.26     18128\n",
      "\n",
      "Validation Cross-Entropy Loss: 1.8934986922476027\n",
      "Epoch 12, Train Loss: 2.3163, Val F1 Score: 0.2619\n"
     ]
    },
    {
     "name": "stderr",
     "output_type": "stream",
     "text": [
      "Training: 100%|██████████| 100/100 [01:09<00:00,  1.44it/s]\n",
      "Validating: 100%|██████████| 18/18 [00:02<00:00,  8.16it/s]\n"
     ]
    },
    {
     "name": "stdout",
     "output_type": "stream",
     "text": [
      "Weighted F1 Score: 0.2622289037871169\n",
      "Classification Report:\n",
      "                     precision    recall  f1-score   support\n",
      "\n",
      "    phosphorylation       0.00      0.00      0.00      1024\n",
      "         expression       0.04      0.07      0.05       722\n",
      "        no_relation       0.34      0.60      0.43      6143\n",
      "         activation       0.44      0.19      0.27      7342\n",
      "         inhibition       0.07      0.02      0.03      1745\n",
      "binding/association       0.04      0.08      0.05       458\n",
      "           compound       0.02      0.01      0.02       694\n",
      "\n",
      "           accuracy                           0.29     18128\n",
      "          macro avg       0.14      0.14      0.12     18128\n",
      "       weighted avg       0.30      0.29      0.26     18128\n",
      "\n",
      "Validation Cross-Entropy Loss: 1.891468067963918\n",
      "Epoch 13, Train Loss: 2.2959, Val F1 Score: 0.2622\n"
     ]
    },
    {
     "name": "stderr",
     "output_type": "stream",
     "text": [
      "Training: 100%|██████████| 100/100 [01:09<00:00,  1.44it/s]\n",
      "Validating: 100%|██████████| 18/18 [00:02<00:00,  8.05it/s]\n"
     ]
    },
    {
     "name": "stdout",
     "output_type": "stream",
     "text": [
      "Weighted F1 Score: 0.26045182983616283\n",
      "Classification Report:\n",
      "                     precision    recall  f1-score   support\n",
      "\n",
      "    phosphorylation       0.00      0.00      0.00      1024\n",
      "         expression       0.05      0.07      0.06       722\n",
      "        no_relation       0.33      0.60      0.43      6143\n",
      "         activation       0.44      0.19      0.27      7342\n",
      "         inhibition       0.07      0.02      0.03      1745\n",
      "binding/association       0.04      0.08      0.05       458\n",
      "           compound       0.02      0.01      0.02       694\n",
      "\n",
      "           accuracy                           0.29     18128\n",
      "          macro avg       0.14      0.14      0.12     18128\n",
      "       weighted avg       0.30      0.29      0.26     18128\n",
      "\n",
      "Validation Cross-Entropy Loss: 1.889328466521369\n",
      "Epoch 14, Train Loss: 2.2990, Val F1 Score: 0.2605\n"
     ]
    },
    {
     "name": "stderr",
     "output_type": "stream",
     "text": [
      "Training: 100%|██████████| 100/100 [01:09<00:00,  1.43it/s]\n",
      "Validating: 100%|██████████| 18/18 [00:02<00:00,  8.18it/s]\n"
     ]
    },
    {
     "name": "stdout",
     "output_type": "stream",
     "text": [
      "Weighted F1 Score: 0.26034023027878717\n",
      "Classification Report:\n",
      "                     precision    recall  f1-score   support\n",
      "\n",
      "    phosphorylation       0.00      0.00      0.00      1024\n",
      "         expression       0.05      0.07      0.06       722\n",
      "        no_relation       0.33      0.61      0.43      6143\n",
      "         activation       0.44      0.19      0.26      7342\n",
      "         inhibition       0.07      0.02      0.03      1745\n",
      "binding/association       0.04      0.08      0.05       458\n",
      "           compound       0.02      0.01      0.02       694\n",
      "\n",
      "           accuracy                           0.29     18128\n",
      "          macro avg       0.14      0.14      0.12     18128\n",
      "       weighted avg       0.30      0.29      0.26     18128\n",
      "\n",
      "Validation Cross-Entropy Loss: 1.8872362309032016\n",
      "Epoch 15, Train Loss: 2.2841, Val F1 Score: 0.2603\n"
     ]
    },
    {
     "name": "stderr",
     "output_type": "stream",
     "text": [
      "Training: 100%|██████████| 100/100 [01:09<00:00,  1.45it/s]\n",
      "Validating: 100%|██████████| 18/18 [00:02<00:00,  7.68it/s]\n"
     ]
    },
    {
     "name": "stdout",
     "output_type": "stream",
     "text": [
      "Weighted F1 Score: 0.25928577883864756\n",
      "Classification Report:\n",
      "                     precision    recall  f1-score   support\n",
      "\n",
      "    phosphorylation       0.00      0.00      0.00      1024\n",
      "         expression       0.05      0.07      0.06       722\n",
      "        no_relation       0.33      0.62      0.43      6143\n",
      "         activation       0.45      0.18      0.26      7342\n",
      "         inhibition       0.07      0.02      0.03      1745\n",
      "binding/association       0.04      0.08      0.05       458\n",
      "           compound       0.05      0.03      0.04       694\n",
      "\n",
      "           accuracy                           0.29     18128\n",
      "          macro avg       0.14      0.14      0.12     18128\n",
      "       weighted avg       0.31      0.29      0.26     18128\n",
      "\n",
      "Validation Cross-Entropy Loss: 1.8851621283425226\n",
      "Epoch 16, Train Loss: 2.2668, Val F1 Score: 0.2593\n"
     ]
    },
    {
     "name": "stderr",
     "output_type": "stream",
     "text": [
      "Training: 100%|██████████| 100/100 [01:08<00:00,  1.45it/s]\n",
      "Validating: 100%|██████████| 18/18 [00:02<00:00,  8.16it/s]\n"
     ]
    },
    {
     "name": "stdout",
     "output_type": "stream",
     "text": [
      "Weighted F1 Score: 0.25605774136993076\n",
      "Classification Report:\n",
      "                     precision    recall  f1-score   support\n",
      "\n",
      "    phosphorylation       0.00      0.00      0.00      1024\n",
      "         expression       0.04      0.06      0.05       722\n",
      "        no_relation       0.33      0.63      0.44      6143\n",
      "         activation       0.45      0.17      0.25      7342\n",
      "         inhibition       0.07      0.02      0.03      1745\n",
      "binding/association       0.04      0.07      0.05       458\n",
      "           compound       0.05      0.03      0.04       694\n",
      "\n",
      "           accuracy                           0.29     18128\n",
      "          macro avg       0.14      0.14      0.12     18128\n",
      "       weighted avg       0.31      0.29      0.26     18128\n",
      "\n",
      "Validation Cross-Entropy Loss: 1.8830780916743808\n",
      "Epoch 17, Train Loss: 2.2583, Val F1 Score: 0.2561\n"
     ]
    },
    {
     "name": "stderr",
     "output_type": "stream",
     "text": [
      "Training: 100%|██████████| 100/100 [01:08<00:00,  1.45it/s]\n",
      "Validating: 100%|██████████| 18/18 [00:02<00:00,  8.17it/s]\n"
     ]
    },
    {
     "name": "stdout",
     "output_type": "stream",
     "text": [
      "Weighted F1 Score: 0.25519941621945813\n",
      "Classification Report:\n",
      "                     precision    recall  f1-score   support\n",
      "\n",
      "    phosphorylation       0.00      0.00      0.00      1024\n",
      "         expression       0.04      0.06      0.05       722\n",
      "        no_relation       0.33      0.63      0.44      6143\n",
      "         activation       0.46      0.17      0.25      7342\n",
      "         inhibition       0.07      0.02      0.03      1745\n",
      "binding/association       0.04      0.07      0.05       458\n",
      "           compound       0.05      0.03      0.04       694\n",
      "\n",
      "           accuracy                           0.29     18128\n",
      "          macro avg       0.14      0.14      0.12     18128\n",
      "       weighted avg       0.31      0.29      0.26     18128\n",
      "\n",
      "Validation Cross-Entropy Loss: 1.8820697400305006\n",
      "Epoch 18, Train Loss: 2.2585, Val F1 Score: 0.2552\n"
     ]
    },
    {
     "name": "stderr",
     "output_type": "stream",
     "text": [
      "Training: 100%|██████████| 100/100 [01:09<00:00,  1.44it/s]\n",
      "Validating: 100%|██████████| 18/18 [00:02<00:00,  8.13it/s]\n"
     ]
    },
    {
     "name": "stdout",
     "output_type": "stream",
     "text": [
      "Weighted F1 Score: 0.25143129398721853\n",
      "Classification Report:\n",
      "                     precision    recall  f1-score   support\n",
      "\n",
      "    phosphorylation       0.00      0.00      0.00      1024\n",
      "         expression       0.04      0.06      0.05       722\n",
      "        no_relation       0.33      0.64      0.44      6143\n",
      "         activation       0.45      0.16      0.23      7342\n",
      "         inhibition       0.07      0.02      0.03      1745\n",
      "binding/association       0.04      0.07      0.05       458\n",
      "           compound       0.05      0.03      0.04       694\n",
      "\n",
      "           accuracy                           0.29     18128\n",
      "          macro avg       0.14      0.14      0.12     18128\n",
      "       weighted avg       0.31      0.29      0.25     18128\n",
      "\n",
      "Validation Cross-Entropy Loss: 1.8810011082225375\n",
      "Epoch 19, Train Loss: 2.2608, Val F1 Score: 0.2514\n"
     ]
    },
    {
     "name": "stderr",
     "output_type": "stream",
     "text": [
      "Training: 100%|██████████| 100/100 [01:10<00:00,  1.42it/s]\n",
      "Validating: 100%|██████████| 18/18 [00:02<00:00,  8.12it/s]\n"
     ]
    },
    {
     "name": "stdout",
     "output_type": "stream",
     "text": [
      "Weighted F1 Score: 0.25189449712353695\n",
      "Classification Report:\n",
      "                     precision    recall  f1-score   support\n",
      "\n",
      "    phosphorylation       0.00      0.00      0.00      1024\n",
      "         expression       0.04      0.06      0.05       722\n",
      "        no_relation       0.33      0.65      0.44      6143\n",
      "         activation       0.46      0.16      0.23      7342\n",
      "         inhibition       0.07      0.02      0.03      1745\n",
      "binding/association       0.04      0.07      0.05       458\n",
      "           compound       0.05      0.03      0.04       694\n",
      "\n",
      "           accuracy                           0.29     18128\n",
      "          macro avg       0.14      0.14      0.12     18128\n",
      "       weighted avg       0.31      0.29      0.25     18128\n",
      "\n",
      "Validation Cross-Entropy Loss: 1.879976060655382\n",
      "Epoch 20, Train Loss: 2.2685, Val F1 Score: 0.2519\n"
     ]
    },
    {
     "name": "stderr",
     "output_type": "stream",
     "text": [
      "Training: 100%|██████████| 100/100 [01:09<00:00,  1.44it/s]\n",
      "Validating: 100%|██████████| 18/18 [00:02<00:00,  8.11it/s]\n"
     ]
    },
    {
     "name": "stdout",
     "output_type": "stream",
     "text": [
      "Weighted F1 Score: 0.25008786612821543\n",
      "Classification Report:\n",
      "                     precision    recall  f1-score   support\n",
      "\n",
      "    phosphorylation       0.00      0.00      0.00      1024\n",
      "         expression       0.04      0.06      0.05       722\n",
      "        no_relation       0.33      0.65      0.44      6143\n",
      "         activation       0.46      0.15      0.23      7342\n",
      "         inhibition       0.07      0.02      0.03      1745\n",
      "binding/association       0.04      0.07      0.05       458\n",
      "           compound       0.05      0.03      0.04       694\n",
      "\n",
      "           accuracy                           0.29     18128\n",
      "          macro avg       0.14      0.14      0.12     18128\n",
      "       weighted avg       0.31      0.29      0.25     18128\n",
      "\n",
      "Validation Cross-Entropy Loss: 1.8789380457666185\n",
      "Epoch 21, Train Loss: 2.2425, Val F1 Score: 0.2501\n"
     ]
    },
    {
     "name": "stderr",
     "output_type": "stream",
     "text": [
      "Training: 100%|██████████| 100/100 [01:09<00:00,  1.43it/s]\n",
      "Validating: 100%|██████████| 18/18 [00:02<00:00,  8.16it/s]\n"
     ]
    },
    {
     "name": "stdout",
     "output_type": "stream",
     "text": [
      "Weighted F1 Score: 0.2498728418112107\n",
      "Classification Report:\n",
      "                     precision    recall  f1-score   support\n",
      "\n",
      "    phosphorylation       0.00      0.00      0.00      1024\n",
      "         expression       0.04      0.06      0.05       722\n",
      "        no_relation       0.33      0.65      0.44      6143\n",
      "         activation       0.46      0.15      0.23      7342\n",
      "         inhibition       0.07      0.02      0.03      1745\n",
      "binding/association       0.04      0.07      0.05       458\n",
      "           compound       0.05      0.03      0.04       694\n",
      "\n",
      "           accuracy                           0.29     18128\n",
      "          macro avg       0.14      0.14      0.12     18128\n",
      "       weighted avg       0.31      0.29      0.25     18128\n",
      "\n",
      "Validation Cross-Entropy Loss: 1.8779156737857394\n",
      "Epoch 22, Train Loss: 2.2364, Val F1 Score: 0.2499\n"
     ]
    },
    {
     "name": "stderr",
     "output_type": "stream",
     "text": [
      "Training: 100%|██████████| 100/100 [01:09<00:00,  1.43it/s]\n",
      "Validating: 100%|██████████| 18/18 [00:02<00:00,  8.19it/s]\n"
     ]
    },
    {
     "name": "stdout",
     "output_type": "stream",
     "text": [
      "Weighted F1 Score: 0.2502737227595782\n",
      "Classification Report:\n",
      "                     precision    recall  f1-score   support\n",
      "\n",
      "    phosphorylation       0.00      0.00      0.00      1024\n",
      "         expression       0.04      0.06      0.05       722\n",
      "        no_relation       0.34      0.66      0.44      6143\n",
      "         activation       0.46      0.15      0.23      7342\n",
      "         inhibition       0.07      0.02      0.03      1745\n",
      "binding/association       0.03      0.07      0.05       458\n",
      "           compound       0.05      0.03      0.04       694\n",
      "\n",
      "           accuracy                           0.29     18128\n",
      "          macro avg       0.14      0.14      0.12     18128\n",
      "       weighted avg       0.31      0.29      0.25     18128\n",
      "\n",
      "Validation Cross-Entropy Loss: 1.8768387635548909\n",
      "Epoch 23, Train Loss: 2.2339, Val F1 Score: 0.2503\n"
     ]
    },
    {
     "name": "stderr",
     "output_type": "stream",
     "text": [
      "Training: 100%|██████████| 100/100 [01:09<00:00,  1.43it/s]\n",
      "Validating: 100%|██████████| 18/18 [00:02<00:00,  8.11it/s]\n"
     ]
    },
    {
     "name": "stdout",
     "output_type": "stream",
     "text": [
      "Weighted F1 Score: 0.24773889068240298\n",
      "Classification Report:\n",
      "                     precision    recall  f1-score   support\n",
      "\n",
      "    phosphorylation       0.00      0.00      0.00      1024\n",
      "         expression       0.04      0.06      0.05       722\n",
      "        no_relation       0.34      0.66      0.44      6143\n",
      "         activation       0.45      0.15      0.22      7342\n",
      "         inhibition       0.07      0.02      0.03      1745\n",
      "binding/association       0.04      0.07      0.05       458\n",
      "           compound       0.04      0.03      0.03       694\n",
      "\n",
      "           accuracy                           0.29     18128\n",
      "          macro avg       0.14      0.14      0.12     18128\n",
      "       weighted avg       0.31      0.29      0.25     18128\n",
      "\n",
      "Validation Cross-Entropy Loss: 1.8763162228796217\n",
      "Epoch 24, Train Loss: 2.2300, Val F1 Score: 0.2477\n"
     ]
    },
    {
     "name": "stderr",
     "output_type": "stream",
     "text": [
      "Training: 100%|██████████| 100/100 [01:09<00:00,  1.44it/s]\n",
      "Validating: 100%|██████████| 18/18 [00:02<00:00,  8.14it/s]\n"
     ]
    },
    {
     "name": "stdout",
     "output_type": "stream",
     "text": [
      "Weighted F1 Score: 0.24753604780426433\n",
      "Classification Report:\n",
      "                     precision    recall  f1-score   support\n",
      "\n",
      "    phosphorylation       0.00      0.00      0.00      1024\n",
      "         expression       0.04      0.06      0.05       722\n",
      "        no_relation       0.34      0.67      0.45      6143\n",
      "         activation       0.45      0.14      0.22      7342\n",
      "         inhibition       0.07      0.02      0.03      1745\n",
      "binding/association       0.04      0.07      0.05       458\n",
      "           compound       0.04      0.03      0.03       694\n",
      "\n",
      "           accuracy                           0.29     18128\n",
      "          macro avg       0.14      0.14      0.12     18128\n",
      "       weighted avg       0.31      0.29      0.25     18128\n",
      "\n",
      "Validation Cross-Entropy Loss: 1.875823027557797\n",
      "Epoch 25, Train Loss: 2.2319, Val F1 Score: 0.2475\n"
     ]
    },
    {
     "name": "stderr",
     "output_type": "stream",
     "text": [
      "Training: 100%|██████████| 100/100 [01:09<00:00,  1.44it/s]\n",
      "Validating: 100%|██████████| 18/18 [00:02<00:00,  8.18it/s]\n"
     ]
    },
    {
     "name": "stdout",
     "output_type": "stream",
     "text": [
      "Weighted F1 Score: 0.24263109347964001\n",
      "Classification Report:\n",
      "                     precision    recall  f1-score   support\n",
      "\n",
      "    phosphorylation       0.00      0.00      0.00      1024\n",
      "         expression       0.04      0.06      0.05       722\n",
      "        no_relation       0.33      0.68      0.45      6143\n",
      "         activation       0.46      0.13      0.21      7342\n",
      "         inhibition       0.07      0.02      0.03      1745\n",
      "binding/association       0.04      0.07      0.05       458\n",
      "           compound       0.04      0.03      0.03       694\n",
      "\n",
      "           accuracy                           0.29     18128\n",
      "          macro avg       0.14      0.14      0.12     18128\n",
      "       weighted avg       0.31      0.29      0.24     18128\n",
      "\n",
      "Validation Cross-Entropy Loss: 1.8752917647361755\n",
      "Epoch 26, Train Loss: 2.2251, Val F1 Score: 0.2426\n"
     ]
    },
    {
     "name": "stderr",
     "output_type": "stream",
     "text": [
      "Training: 100%|██████████| 100/100 [01:09<00:00,  1.43it/s]\n",
      "Validating: 100%|██████████| 18/18 [00:02<00:00,  8.05it/s]\n"
     ]
    },
    {
     "name": "stdout",
     "output_type": "stream",
     "text": [
      "Weighted F1 Score: 0.24211253023737764\n",
      "Classification Report:\n",
      "                     precision    recall  f1-score   support\n",
      "\n",
      "    phosphorylation       0.00      0.00      0.00      1024\n",
      "         expression       0.04      0.06      0.05       722\n",
      "        no_relation       0.33      0.68      0.45      6143\n",
      "         activation       0.46      0.13      0.21      7342\n",
      "         inhibition       0.07      0.02      0.03      1745\n",
      "binding/association       0.04      0.06      0.05       458\n",
      "           compound       0.04      0.03      0.03       694\n",
      "\n",
      "           accuracy                           0.29     18128\n",
      "          macro avg       0.14      0.14      0.12     18128\n",
      "       weighted avg       0.31      0.29      0.24     18128\n",
      "\n",
      "Validation Cross-Entropy Loss: 1.8747794959280226\n",
      "Epoch 27, Train Loss: 2.2053, Val F1 Score: 0.2421\n"
     ]
    },
    {
     "name": "stderr",
     "output_type": "stream",
     "text": [
      "Training: 100%|██████████| 100/100 [01:09<00:00,  1.43it/s]\n",
      "Validating: 100%|██████████| 18/18 [00:02<00:00,  8.21it/s]\n"
     ]
    },
    {
     "name": "stdout",
     "output_type": "stream",
     "text": [
      "Weighted F1 Score: 0.24146941935034852\n",
      "Classification Report:\n",
      "                     precision    recall  f1-score   support\n",
      "\n",
      "    phosphorylation       0.00      0.00      0.00      1024\n",
      "         expression       0.04      0.06      0.05       722\n",
      "        no_relation       0.33      0.68      0.45      6143\n",
      "         activation       0.46      0.13      0.20      7342\n",
      "         inhibition       0.07      0.02      0.03      1745\n",
      "binding/association       0.04      0.06      0.05       458\n",
      "           compound       0.04      0.03      0.03       694\n",
      "\n",
      "           accuracy                           0.29     18128\n",
      "          macro avg       0.14      0.14      0.12     18128\n",
      "       weighted avg       0.31      0.29      0.24     18128\n",
      "\n",
      "Validation Cross-Entropy Loss: 1.8742610414822896\n",
      "Epoch 28, Train Loss: 2.2263, Val F1 Score: 0.2415\n"
     ]
    },
    {
     "name": "stderr",
     "output_type": "stream",
     "text": [
      "Training: 100%|██████████| 100/100 [01:09<00:00,  1.44it/s]\n",
      "Validating: 100%|██████████| 18/18 [00:02<00:00,  8.06it/s]\n"
     ]
    },
    {
     "name": "stdout",
     "output_type": "stream",
     "text": [
      "Weighted F1 Score: 0.24066766795781094\n",
      "Classification Report:\n",
      "                     precision    recall  f1-score   support\n",
      "\n",
      "    phosphorylation       0.00      0.00      0.00      1024\n",
      "         expression       0.04      0.06      0.05       722\n",
      "        no_relation       0.33      0.68      0.45      6143\n",
      "         activation       0.46      0.13      0.20      7342\n",
      "         inhibition       0.07      0.02      0.03      1745\n",
      "binding/association       0.04      0.06      0.05       458\n",
      "           compound       0.04      0.03      0.03       694\n",
      "\n",
      "           accuracy                           0.29     18128\n",
      "          macro avg       0.14      0.14      0.12     18128\n",
      "       weighted avg       0.31      0.29      0.24     18128\n",
      "\n",
      "Validation Cross-Entropy Loss: 1.8737456599871318\n",
      "Epoch 29, Train Loss: 2.2248, Val F1 Score: 0.2407\n"
     ]
    },
    {
     "name": "stderr",
     "output_type": "stream",
     "text": [
      "Training: 100%|██████████| 100/100 [01:09<00:00,  1.44it/s]\n",
      "Validating: 100%|██████████| 18/18 [00:02<00:00,  8.15it/s]\n"
     ]
    },
    {
     "name": "stdout",
     "output_type": "stream",
     "text": [
      "Weighted F1 Score: 0.24066462418536216\n",
      "Classification Report:\n",
      "                     precision    recall  f1-score   support\n",
      "\n",
      "    phosphorylation       0.00      0.00      0.00      1024\n",
      "         expression       0.04      0.06      0.05       722\n",
      "        no_relation       0.33      0.68      0.45      6143\n",
      "         activation       0.46      0.13      0.20      7342\n",
      "         inhibition       0.07      0.02      0.03      1745\n",
      "binding/association       0.04      0.06      0.05       458\n",
      "           compound       0.04      0.03      0.03       694\n",
      "\n",
      "           accuracy                           0.29     18128\n",
      "          macro avg       0.14      0.14      0.12     18128\n",
      "       weighted avg       0.31      0.29      0.24     18128\n",
      "\n",
      "Validation Cross-Entropy Loss: 1.8734834260410733\n",
      "Epoch 30, Train Loss: 2.1982, Val F1 Score: 0.2407\n"
     ]
    },
    {
     "name": "stderr",
     "output_type": "stream",
     "text": [
      "Training: 100%|██████████| 100/100 [01:09<00:00,  1.44it/s]\n",
      "Validating: 100%|██████████| 18/18 [00:02<00:00,  7.96it/s]\n"
     ]
    },
    {
     "name": "stdout",
     "output_type": "stream",
     "text": [
      "Weighted F1 Score: 0.24061757899212854\n",
      "Classification Report:\n",
      "                     precision    recall  f1-score   support\n",
      "\n",
      "    phosphorylation       0.00      0.00      0.00      1024\n",
      "         expression       0.04      0.06      0.05       722\n",
      "        no_relation       0.33      0.68      0.45      6143\n",
      "         activation       0.46      0.13      0.20      7342\n",
      "         inhibition       0.07      0.02      0.03      1745\n",
      "binding/association       0.03      0.06      0.04       458\n",
      "           compound       0.04      0.03      0.03       694\n",
      "\n",
      "           accuracy                           0.29     18128\n",
      "          macro avg       0.14      0.14      0.12     18128\n",
      "       weighted avg       0.31      0.29      0.24     18128\n",
      "\n",
      "Validation Cross-Entropy Loss: 1.8732110725508795\n",
      "Epoch 31, Train Loss: 2.2257, Val F1 Score: 0.2406\n"
     ]
    },
    {
     "name": "stderr",
     "output_type": "stream",
     "text": [
      "Training: 100%|██████████| 100/100 [01:09<00:00,  1.43it/s]\n",
      "Validating: 100%|██████████| 18/18 [00:02<00:00,  8.18it/s]\n"
     ]
    },
    {
     "name": "stdout",
     "output_type": "stream",
     "text": [
      "Weighted F1 Score: 0.24061757899212854\n",
      "Classification Report:\n",
      "                     precision    recall  f1-score   support\n",
      "\n",
      "    phosphorylation       0.00      0.00      0.00      1024\n",
      "         expression       0.04      0.06      0.05       722\n",
      "        no_relation       0.33      0.68      0.45      6143\n",
      "         activation       0.46      0.13      0.20      7342\n",
      "         inhibition       0.07      0.02      0.03      1745\n",
      "binding/association       0.03      0.06      0.04       458\n",
      "           compound       0.04      0.03      0.03       694\n",
      "\n",
      "           accuracy                           0.29     18128\n",
      "          macro avg       0.14      0.14      0.12     18128\n",
      "       weighted avg       0.31      0.29      0.24     18128\n",
      "\n",
      "Validation Cross-Entropy Loss: 1.8729535142580669\n",
      "Epoch 32, Train Loss: 2.2131, Val F1 Score: 0.2406\n"
     ]
    },
    {
     "name": "stderr",
     "output_type": "stream",
     "text": [
      "Training: 100%|██████████| 100/100 [01:09<00:00,  1.43it/s]\n",
      "Validating: 100%|██████████| 18/18 [00:02<00:00,  8.11it/s]\n"
     ]
    },
    {
     "name": "stdout",
     "output_type": "stream",
     "text": [
      "Weighted F1 Score: 0.2403373352069249\n",
      "Classification Report:\n",
      "                     precision    recall  f1-score   support\n",
      "\n",
      "    phosphorylation       0.00      0.00      0.00      1024\n",
      "         expression       0.04      0.06      0.05       722\n",
      "        no_relation       0.33      0.68      0.45      6143\n",
      "         activation       0.46      0.13      0.20      7342\n",
      "         inhibition       0.07      0.02      0.03      1745\n",
      "binding/association       0.03      0.06      0.04       458\n",
      "           compound       0.04      0.03      0.03       694\n",
      "\n",
      "           accuracy                           0.29     18128\n",
      "          macro avg       0.14      0.14      0.12     18128\n",
      "       weighted avg       0.31      0.29      0.24     18128\n",
      "\n",
      "Validation Cross-Entropy Loss: 1.8726920617951288\n",
      "Epoch 33, Train Loss: 2.2310, Val F1 Score: 0.2403\n"
     ]
    },
    {
     "name": "stderr",
     "output_type": "stream",
     "text": [
      "Training: 100%|██████████| 100/100 [01:09<00:00,  1.43it/s]\n",
      "Validating: 100%|██████████| 18/18 [00:02<00:00,  7.96it/s]\n"
     ]
    },
    {
     "name": "stdout",
     "output_type": "stream",
     "text": [
      "Weighted F1 Score: 0.2403373352069249\n",
      "Classification Report:\n",
      "                     precision    recall  f1-score   support\n",
      "\n",
      "    phosphorylation       0.00      0.00      0.00      1024\n",
      "         expression       0.04      0.06      0.05       722\n",
      "        no_relation       0.33      0.68      0.45      6143\n",
      "         activation       0.46      0.13      0.20      7342\n",
      "         inhibition       0.07      0.02      0.03      1745\n",
      "binding/association       0.03      0.06      0.04       458\n",
      "           compound       0.04      0.03      0.03       694\n",
      "\n",
      "           accuracy                           0.29     18128\n",
      "          macro avg       0.14      0.14      0.12     18128\n",
      "       weighted avg       0.31      0.29      0.24     18128\n",
      "\n",
      "Validation Cross-Entropy Loss: 1.8724223905139499\n",
      "Epoch 34, Train Loss: 2.2125, Val F1 Score: 0.2403\n"
     ]
    },
    {
     "name": "stderr",
     "output_type": "stream",
     "text": [
      "Training: 100%|██████████| 100/100 [01:09<00:00,  1.43it/s]\n",
      "Validating: 100%|██████████| 18/18 [00:02<00:00,  7.89it/s]"
     ]
    },
    {
     "name": "stdout",
     "output_type": "stream",
     "text": [
      "Weighted F1 Score: 0.24057289550344932\n",
      "Classification Report:\n",
      "                     precision    recall  f1-score   support\n",
      "\n",
      "    phosphorylation       0.00      0.00      0.00      1024\n",
      "         expression       0.04      0.06      0.05       722\n",
      "        no_relation       0.33      0.68      0.45      6143\n",
      "         activation       0.46      0.13      0.20      7342\n",
      "         inhibition       0.07      0.02      0.03      1745\n",
      "binding/association       0.03      0.06      0.04       458\n",
      "           compound       0.04      0.03      0.04       694\n",
      "\n",
      "           accuracy                           0.29     18128\n",
      "          macro avg       0.14      0.14      0.12     18128\n",
      "       weighted avg       0.31      0.29      0.24     18128\n",
      "\n",
      "Validation Cross-Entropy Loss: 1.87216364675098\n",
      "Epoch 35, Train Loss: 2.2092, Val F1 Score: 0.2406\n",
      "Early stopping triggered\n",
      "Best model saved.\n"
     ]
    },
    {
     "name": "stderr",
     "output_type": "stream",
     "text": [
      "\n"
     ]
    }
   ],
   "source": [
    "# Early stopping parameters\n",
    "patience = 30  # Number of epochs to wait for improvement before stopping\n",
    "best_val_loss = float('inf')\n",
    "epochs_no_improve = 0\n",
    "\n",
    "# Set up the learning rate scheduler\n",
    "scheduler = optim.lr_scheduler.ReduceLROnPlateau(optimizer, mode='max', factor=0.5, patience=5)\n",
    "\n",
    "best_f1_score = 0\n",
    "epochs_no_improve = 0\n",
    "best_model_state = None\n",
    "\n",
    "for epoch in range(1000):\n",
    "    train_loss = train()  # Your training function\n",
    "    val_f1_score = validate()  # Your validation function returning F1 score\n",
    "\n",
    "    print(f'Epoch {epoch+1}, Train Loss: {train_loss:.4f}, Val F1 Score: {val_f1_score:.4f}')\n",
    "\n",
    "    # Step the scheduler with the F1 score\n",
    "    scheduler.step(val_f1_score)\n",
    "\n",
    "    # Check for improvement\n",
    "    if val_f1_score > best_f1_score:\n",
    "        best_f1_score = val_f1_score\n",
    "        epochs_no_improve = 0\n",
    "        best_model_state = model.state_dict()  # Update the best model state\n",
    "    else:\n",
    "        epochs_no_improve += 1\n",
    "\n",
    "    if epochs_no_improve >= patience:\n",
    "        print(\"Early stopping triggered\")\n",
    "        break\n",
    "\n",
    "# Save the best model state (outside of the loop)\n",
    "if best_model_state is not None:\n",
    "    torch.save(best_model_state, 'new_GAT_32_32_4_best.pth')\n",
    "    print(\"Best model saved.\")\n",
    "else:\n",
    "    print(\"No model improvement was observed.\")"
   ]
  }
 ],
 "metadata": {
  "kernelspec": {
   "display_name": "pathway_siamese_network",
   "language": "python",
   "name": "python3"
  },
  "language_info": {
   "codemirror_mode": {
    "name": "ipython",
    "version": 3
   },
   "file_extension": ".py",
   "mimetype": "text/x-python",
   "name": "python",
   "nbconvert_exporter": "python",
   "pygments_lexer": "ipython3",
   "version": "3.11.5"
  }
 },
 "nbformat": 4,
 "nbformat_minor": 2
}
