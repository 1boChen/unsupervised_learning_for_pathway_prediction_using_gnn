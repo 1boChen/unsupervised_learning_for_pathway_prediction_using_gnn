{
 "cells": [
  {
   "cell_type": "code",
   "execution_count": 1,
   "metadata": {},
   "outputs": [
    {
     "name": "stdout",
     "output_type": "stream",
     "text": [
      "Number of nodes: 4816\n",
      "Number of edges: 101782\n"
     ]
    }
   ],
   "source": [
    "import networkx as nx\n",
    "import csv\n",
    "\n",
    "def build_multidigraph_from_csv(csv_file):\n",
    "    G = nx.MultiDiGraph()\n",
    "\n",
    "    with open(csv_file, 'r') as file:\n",
    "        reader = csv.DictReader(file)\n",
    "        for row in reader:\n",
    "            # Add nodes (if not already added)\n",
    "            G.add_node(row['starter_ID'], name=row['starter_ID'])\n",
    "            G.add_node(row['receiver_ID'], name=row['receiver_ID'])\n",
    "\n",
    "            # Add directed edges with additional attributes\n",
    "            # Each edge is unique and can represent a different type of interaction\n",
    "            G.add_edge(\n",
    "                row['starter_ID'], \n",
    "                row['receiver_ID'], \n",
    "                interaction_type=row['subtype_name'],\n",
    "                relation_type=row['relation_type'],\n",
    "                pathway_sources=row['pathway_source'],\n",
    "                credibility=row['credibility']\n",
    "            )\n",
    "\n",
    "    return G\n",
    "\n",
    "# Path to the CSV file\n",
    "csv_file_path = 'relations_train_final.csv'  # Update this to the path of your relations_train.csv file\n",
    "\n",
    "# Build the multidigraph\n",
    "MDG = build_multidigraph_from_csv(csv_file_path)\n",
    "\n",
    "# Print basic information about the multidigraph\n",
    "print(f\"Number of nodes: {MDG.number_of_nodes()}\")\n",
    "print(f\"Number of edges: {MDG.number_of_edges()}\")\n",
    "\n",
    "# The multidigraph `MDG` is now constructed with nodes and multiple types of directed edges from the relations_train.csv\n",
    "# You can now use `MDG` for further analysis or as input to clustering algorithms.\n",
    "\n"
   ]
  },
  {
   "cell_type": "code",
   "execution_count": 9,
   "metadata": {},
   "outputs": [],
   "source": [
    "import pandas as pd\n",
    "\n",
    "def read_cluster_assignments(csv_file):\n",
    "    df = pd.read_csv(csv_file)\n",
    "    gene_to_cluster = {row['Gene']: row['Cluster'] for _, row in df.iterrows()}\n",
    "    return gene_to_cluster\n",
    "\n",
    "# Use this function to read your CSV file\n",
    "gene_to_cluster = read_cluster_assignments('vgae_spectral_gene_cluster_assignments.csv')\n"
   ]
  },
  {
   "cell_type": "code",
   "execution_count": 2,
   "metadata": {},
   "outputs": [],
   "source": [
    "import torch\n",
    "import torch.nn.functional as F\n",
    "from torch_geometric.nn import TransformerConv, GATConv\n",
    "from torch_geometric.data import Data\n",
    "from torch_geometric.utils import from_networkx\n",
    "\n",
    "\n",
    "class GraphTransformer(torch.nn.Module):\n",
    "    def __init__(self, num_nodes, embedding_dim, num_classes, num_hidden_units=32, num_heads=5):\n",
    "        super(GraphTransformer, self).__init__()\n",
    "        self.node_emb = torch.nn.Embedding(num_nodes, embedding_dim)\n",
    "        \n",
    "        # First Graph Transformer layer\n",
    "        self.conv1 = TransformerConv(embedding_dim, num_hidden_units, heads=num_heads, dropout=0.6, edge_dim=None)\n",
    "        \n",
    "        # Output layer\n",
    "        self.conv2 = TransformerConv(num_hidden_units * num_heads, num_classes, heads=1, concat=True, dropout=0.6, edge_dim=None)\n",
    "\n",
    "    def forward(self, data):\n",
    "        x = self.node_emb(data.node_index)\n",
    "        edge_index = data.edge_index\n",
    "        edge_weight = None  # If you have edge weights, they should be used here\n",
    "\n",
    "        x = F.dropout(x, p=0.6, training=self.training)\n",
    "        x = F.elu(self.conv1(x, edge_index, edge_weight))\n",
    "        x = F.dropout(x, p=0.6, training=self.training)\n",
    "        x = self.conv2(x, edge_index, edge_weight)\n",
    "\n",
    "        return F.log_softmax(x, dim=1)\n",
    "\n",
    "\n",
    "# Assuming MDG is your MultiDiGraph\n",
    "train_data = from_networkx(MDG)\n",
    "\n",
    "num_nodes = train_data.num_nodes\n",
    "embedding_dim = 32  # Choose an appropriate embedding size\n",
    "num_classes = 7   # Set the number of classes based on your edge types\n"
   ]
  },
  {
   "cell_type": "code",
   "execution_count": 3,
   "metadata": {},
   "outputs": [],
   "source": [
    "# Collect all unique interaction types from MDG\n",
    "interaction_types = set()\n",
    "for _, _, edge_data in MDG.edges(data=True):\n",
    "    interaction_types.add(edge_data['interaction_type'])\n",
    "\n",
    "# Update the mapping to include 'no interaction' class\n",
    "interaction_type_to_label = {inter_type: i for i, inter_type in enumerate(interaction_types)}\n",
    "num_classes = len(interaction_type_to_label)\n",
    "\n",
    "def setup_edge_labels_with_no_interaction(MDG, interaction_type_to_label, data):\n",
    "    num_nodes = len(MDG.nodes())\n",
    "    edge_labels = torch.zeros((num_nodes, num_nodes), dtype=torch.long)\n",
    "\n",
    "    for u, v, edge_data in MDG.edges(data=True):\n",
    "        u_index = list(MDG.nodes()).index(u)\n",
    "        v_index = list(MDG.nodes()).index(v)\n",
    "        label = interaction_type_to_label[edge_data['interaction_type']]\n",
    "        edge_labels[u_index, v_index] = label\n",
    "\n",
    "    data.edge_label = edge_labels  # Directly modify the data object"
   ]
  },
  {
   "cell_type": "code",
   "execution_count": 4,
   "metadata": {},
   "outputs": [],
   "source": [
    "import torch.optim as optim\n",
    "\n",
    "# Process validation data\n",
    "val_MDG = build_multidigraph_from_csv('cleaned_relations_val_final.csv')\n",
    "\n",
    "# Create a global node to index mapping\n",
    "all_nodes = set(MDG.nodes()).union(set(val_MDG.nodes()))\n",
    "global_node_to_index = {node: idx for idx, node in enumerate(all_nodes)}\n",
    "\n",
    "# Function to map nodes in a graph to global indices\n",
    "def map_nodes_to_global_indices(G, global_node_to_index):\n",
    "    return [global_node_to_index[node] for node in G.nodes()]\n",
    "\n",
    "val_data = from_networkx(val_MDG)\n",
    "\n",
    "train_data.node_index = torch.tensor(map_nodes_to_global_indices(MDG, global_node_to_index), dtype=torch.long)\n",
    "val_data.node_index = torch.tensor(map_nodes_to_global_indices(val_MDG, global_node_to_index), dtype=torch.long)\n",
    "setup_edge_labels_with_no_interaction(val_MDG, interaction_type_to_label, val_data)\n",
    "setup_edge_labels_with_no_interaction(MDG, interaction_type_to_label, train_data)\n",
    "\n",
    "# Assuming the GCN class is defined\n",
    "model = GraphTransformer(num_nodes, embedding_dim, num_classes)"
   ]
  },
  {
   "cell_type": "code",
   "execution_count": null,
   "metadata": {},
   "outputs": [],
   "source": [
    "test_MDG = build_multidigraph_from_csv('cleaned_relations_test_final.csv')\n",
    "test_data = from_networkx(test_MDG)\n",
    "test_data.node_index = torch.arange(test_data.num_nodes)\n",
    "setup_edge_labels_with_no_interaction(test_MDG, interaction_type_to_label, test_data)"
   ]
  },
  {
   "cell_type": "code",
   "execution_count": 5,
   "metadata": {},
   "outputs": [],
   "source": [
    "import torch.optim as optim\n",
    "import torch.nn.functional as F\n",
    "from torch_geometric.loader import DataLoader\n",
    "from tqdm import tqdm\n",
    "\n",
    "# Create a dataset of edges and their labels\n",
    "edges = train_data.edge_index.t().tolist()  # List of [node_u, node_v]\n",
    "labels = [train_data.edge_label[edge[0], edge[1]].item() for edge in edges]\n",
    "\n",
    "edge_dataset = list(zip(edges, labels))\n",
    "edge_loader = DataLoader(edge_dataset, batch_size=1024, shuffle=True)  # Adjust batch_size as needed\n",
    "\n",
    "# Assuming val_data is structured similarly to train_data\n",
    "val_edges = val_data.edge_index.t().tolist()\n",
    "val_labels = [val_data.edge_label[edge[0], edge[1]].item() for edge in val_edges]\n",
    "\n",
    "val_edge_dataset = list(zip(val_edges, val_labels))\n",
    "val_edge_loader = DataLoader(val_edge_dataset, batch_size=1024, shuffle=False)  # You can adjust the batch size\n",
    "\n",
    "test_edges = test_data.edge_index.t().tolist()\n",
    "test_labels = [test_data.edge_label[edge[0], edge[1]].item() for edge in test_edges]\n",
    "\n",
    "test_edge_dataset = list(zip(test_edges, test_labels))\n",
    "test_edge_loader = DataLoader(test_edge_dataset, batch_size=1024, shuffle=False)  # You can adjust the batch size\n",
    "\n",
    "from sklearn.metrics import f1_score, classification_report\n",
    "\n",
    "inverse_interaction_type_to_label = {v: k for k, v in interaction_type_to_label.items()}\n",
    "\n",
    "def validate():\n",
    "    model.eval()\n",
    "    total_loss = 0\n",
    "    total_cross_entropy_loss = 0  # Initialize cross-entropy loss\n",
    "    all_predictions = []\n",
    "    all_true_labels = []\n",
    "\n",
    "    with torch.no_grad():\n",
    "        for batch in tqdm(val_edge_loader, desc='Validating'):\n",
    "            edge_tensors, label_batch = batch\n",
    "            node_u_list, node_v_list = edge_tensors[0].to(device), edge_tensors[1].to(device)\n",
    "            label_batch = label_batch.to(device)\n",
    "\n",
    "            output = model(val_data.to(device))\n",
    "            edge_predictions = output[node_u_list].argmax(dim=1)  # Predicted classes\n",
    "\n",
    "            # Calculate and accumulate cross-entropy loss\n",
    "            cross_entropy_loss = criterion(output[node_u_list], label_batch)\n",
    "            total_cross_entropy_loss += cross_entropy_loss.item()\n",
    "\n",
    "            # Store predictions and true labels\n",
    "            preds = edge_predictions.cpu().numpy()\n",
    "            true_labels = label_batch.cpu().numpy()\n",
    "            all_predictions.extend(preds)\n",
    "            all_true_labels.extend(true_labels)\n",
    "\n",
    "    # Calculate average cross-entropy loss over all batches\n",
    "    avg_cross_entropy_loss = total_cross_entropy_loss / len(val_edge_loader)\n",
    "\n",
    "    # Calculate F1 Score and classification report\n",
    "    weighted_f1 = f1_score(all_true_labels, all_predictions, average='weighted')\n",
    "    class_report = classification_report(all_true_labels, all_predictions, target_names=[inverse_interaction_type_to_label[i] for i in range(num_classes)], zero_division=0)\n",
    "\n",
    "    print(f\"Weighted F1 Score: {weighted_f1}\\nClassification Report:\\n{class_report}\")\n",
    "    print(f\"Validation Cross-Entropy Loss: {avg_cross_entropy_loss}\")\n",
    "\n",
    "    return weighted_f1\n"
   ]
  },
  {
   "cell_type": "code",
   "execution_count": 6,
   "metadata": {},
   "outputs": [
    {
     "name": "stdout",
     "output_type": "stream",
     "text": [
      "Using device: cuda\n"
     ]
    }
   ],
   "source": [
    "# Instantiate the model\n",
    "model = GraphTransformer(num_nodes, embedding_dim, num_classes)\n",
    "optimizer = optim.Adam(model.parameters(), lr=0.00001)  # Learning rate\n",
    "criterion = torch.nn.CrossEntropyLoss()  # Loss function\n",
    "# Check if CUDA (GPU support) is available\n",
    "device = torch.device('cuda' if torch.cuda.is_available() else 'cpu')\n",
    "print(f\"Using device: {device}\")\n",
    "\n",
    "# Move your model to the chosen device\n",
    "model = model.to(device)\n",
    "\n",
    "def train():\n",
    "    model.train()\n",
    "    total_loss = 0\n",
    "\n",
    "    for batch in tqdm(edge_loader, desc='Training'):\n",
    "        edge_tensors, label_batch = batch\n",
    "        \n",
    "        node_u_list, node_v_list = edge_tensors[0].to(device), edge_tensors[1].to(device)\n",
    "        label_batch = label_batch.to(device)\n",
    "\n",
    "        optimizer.zero_grad()\n",
    "        output = model(train_data.to(device))\n",
    "\n",
    "        edge_predictions = output[node_u_list]  # Corrected indexing\n",
    "        \n",
    "        loss = criterion(edge_predictions, label_batch)\n",
    "        loss.backward()\n",
    "        optimizer.step()\n",
    "\n",
    "        total_loss += loss.item()\n",
    "\n",
    "    return total_loss / len(edge_loader)"
   ]
  },
  {
   "cell_type": "code",
   "execution_count": 7,
   "metadata": {},
   "outputs": [
    {
     "name": "stderr",
     "output_type": "stream",
     "text": [
      "Training: 100%|██████████| 100/100 [01:08<00:00,  1.46it/s]\n",
      "Validating: 100%|██████████| 18/18 [00:02<00:00,  8.29it/s]\n"
     ]
    },
    {
     "name": "stdout",
     "output_type": "stream",
     "text": [
      "Weighted F1 Score: 0.19792351727879834\n",
      "Classification Report:\n",
      "                     precision    recall  f1-score   support\n",
      "\n",
      "         inhibition       0.03      0.03      0.03      1745\n",
      "    phosphorylation       0.07      0.21      0.10      1024\n",
      "         expression       0.08      0.30      0.13       722\n",
      "           compound       0.02      0.05      0.03       694\n",
      "binding/association       0.03      0.17      0.05       458\n",
      "        no_relation       0.35      0.11      0.16      6143\n",
      "         activation       0.43      0.25      0.31      7342\n",
      "\n",
      "           accuracy                           0.17     18128\n",
      "          macro avg       0.14      0.16      0.12     18128\n",
      "       weighted avg       0.30      0.17      0.20     18128\n",
      "\n",
      "Validation Cross-Entropy Loss: 1.9373733003934224\n",
      "Epoch 1, Train Loss: 2.1934, Val F1 Score: 0.1979\n"
     ]
    },
    {
     "name": "stderr",
     "output_type": "stream",
     "text": [
      "Training: 100%|██████████| 100/100 [01:09<00:00,  1.45it/s]\n",
      "Validating: 100%|██████████| 18/18 [00:02<00:00,  7.89it/s]\n"
     ]
    },
    {
     "name": "stdout",
     "output_type": "stream",
     "text": [
      "Weighted F1 Score: 0.22495647827022006\n",
      "Classification Report:\n",
      "                     precision    recall  f1-score   support\n",
      "\n",
      "         inhibition       0.04      0.02      0.03      1745\n",
      "    phosphorylation       0.07      0.20      0.10      1024\n",
      "         expression       0.08      0.24      0.12       722\n",
      "           compound       0.02      0.05      0.03       694\n",
      "binding/association       0.03      0.16      0.05       458\n",
      "        no_relation       0.35      0.14      0.20      6143\n",
      "         activation       0.44      0.30      0.35      7342\n",
      "\n",
      "           accuracy                           0.20     18128\n",
      "          macro avg       0.15      0.16      0.13     18128\n",
      "       weighted avg       0.31      0.20      0.22     18128\n",
      "\n",
      "Validation Cross-Entropy Loss: 1.9202970994843378\n",
      "Epoch 2, Train Loss: 2.1620, Val F1 Score: 0.2250\n"
     ]
    },
    {
     "name": "stderr",
     "output_type": "stream",
     "text": [
      "Training: 100%|██████████| 100/100 [01:08<00:00,  1.47it/s]\n",
      "Validating: 100%|██████████| 18/18 [00:02<00:00,  8.08it/s]\n"
     ]
    },
    {
     "name": "stdout",
     "output_type": "stream",
     "text": [
      "Weighted F1 Score: 0.2309945726793267\n",
      "Classification Report:\n",
      "                     precision    recall  f1-score   support\n",
      "\n",
      "         inhibition       0.04      0.02      0.03      1745\n",
      "    phosphorylation       0.08      0.20      0.11      1024\n",
      "         expression       0.07      0.22      0.11       722\n",
      "           compound       0.02      0.05      0.03       694\n",
      "binding/association       0.03      0.16      0.05       458\n",
      "        no_relation       0.35      0.16      0.22      6143\n",
      "         activation       0.42      0.30      0.35      7342\n",
      "\n",
      "           accuracy                           0.20     18128\n",
      "          macro avg       0.14      0.16      0.13     18128\n",
      "       weighted avg       0.30      0.20      0.23     18128\n",
      "\n",
      "Validation Cross-Entropy Loss: 1.9045185049374898\n",
      "Epoch 3, Train Loss: 2.1233, Val F1 Score: 0.2310\n"
     ]
    },
    {
     "name": "stderr",
     "output_type": "stream",
     "text": [
      "Training: 100%|██████████| 100/100 [01:08<00:00,  1.47it/s]\n",
      "Validating: 100%|██████████| 18/18 [00:02<00:00,  7.56it/s]\n"
     ]
    },
    {
     "name": "stdout",
     "output_type": "stream",
     "text": [
      "Weighted F1 Score: 0.2529248414610338\n",
      "Classification Report:\n",
      "                     precision    recall  f1-score   support\n",
      "\n",
      "         inhibition       0.03      0.01      0.02      1745\n",
      "    phosphorylation       0.10      0.19      0.13      1024\n",
      "         expression       0.08      0.19      0.11       722\n",
      "           compound       0.02      0.06      0.03       694\n",
      "binding/association       0.03      0.15      0.05       458\n",
      "        no_relation       0.35      0.20      0.25      6143\n",
      "         activation       0.42      0.34      0.37      7342\n",
      "\n",
      "           accuracy                           0.23     18128\n",
      "          macro avg       0.15      0.16      0.14     18128\n",
      "       weighted avg       0.30      0.23      0.25     18128\n",
      "\n",
      "Validation Cross-Entropy Loss: 1.8899981247054205\n",
      "Epoch 4, Train Loss: 2.0846, Val F1 Score: 0.2529\n"
     ]
    },
    {
     "name": "stderr",
     "output_type": "stream",
     "text": [
      "Training: 100%|██████████| 100/100 [01:08<00:00,  1.46it/s]\n",
      "Validating: 100%|██████████| 18/18 [00:02<00:00,  7.59it/s]\n"
     ]
    },
    {
     "name": "stdout",
     "output_type": "stream",
     "text": [
      "Weighted F1 Score: 0.26461468030129437\n",
      "Classification Report:\n",
      "                     precision    recall  f1-score   support\n",
      "\n",
      "         inhibition       0.03      0.01      0.02      1745\n",
      "    phosphorylation       0.11      0.18      0.14      1024\n",
      "         expression       0.08      0.19      0.12       722\n",
      "           compound       0.02      0.06      0.03       694\n",
      "binding/association       0.04      0.14      0.06       458\n",
      "        no_relation       0.35      0.21      0.27      6143\n",
      "         activation       0.42      0.36      0.39      7342\n",
      "\n",
      "           accuracy                           0.24     18128\n",
      "          macro avg       0.15      0.17      0.14     18128\n",
      "       weighted avg       0.30      0.24      0.26     18128\n",
      "\n",
      "Validation Cross-Entropy Loss: 1.8768539627393086\n",
      "Epoch 5, Train Loss: 2.0544, Val F1 Score: 0.2646\n"
     ]
    },
    {
     "name": "stderr",
     "output_type": "stream",
     "text": [
      "Training: 100%|██████████| 100/100 [01:09<00:00,  1.44it/s]\n",
      "Validating: 100%|██████████| 18/18 [00:02<00:00,  7.86it/s]\n"
     ]
    },
    {
     "name": "stdout",
     "output_type": "stream",
     "text": [
      "Weighted F1 Score: 0.2733204786932438\n",
      "Classification Report:\n",
      "                     precision    recall  f1-score   support\n",
      "\n",
      "         inhibition       0.02      0.01      0.01      1745\n",
      "    phosphorylation       0.12      0.18      0.14      1024\n",
      "         expression       0.07      0.14      0.10       722\n",
      "           compound       0.02      0.06      0.03       694\n",
      "binding/association       0.04      0.14      0.06       458\n",
      "        no_relation       0.34      0.25      0.29      6143\n",
      "         activation       0.43      0.37      0.40      7342\n",
      "\n",
      "           accuracy                           0.25     18128\n",
      "          macro avg       0.15      0.16      0.15     18128\n",
      "       weighted avg       0.30      0.25      0.27     18128\n",
      "\n",
      "Validation Cross-Entropy Loss: 1.8647661606470745\n",
      "Epoch 6, Train Loss: 2.0259, Val F1 Score: 0.2733\n"
     ]
    },
    {
     "name": "stderr",
     "output_type": "stream",
     "text": [
      "Training: 100%|██████████| 100/100 [01:08<00:00,  1.46it/s]\n",
      "Validating: 100%|██████████| 18/18 [00:02<00:00,  7.68it/s]\n"
     ]
    },
    {
     "name": "stdout",
     "output_type": "stream",
     "text": [
      "Weighted F1 Score: 0.27640842868084686\n",
      "Classification Report:\n",
      "                     precision    recall  f1-score   support\n",
      "\n",
      "         inhibition       0.02      0.01      0.01      1745\n",
      "    phosphorylation       0.14      0.17      0.16      1024\n",
      "         expression       0.02      0.03      0.02       722\n",
      "           compound       0.02      0.06      0.03       694\n",
      "binding/association       0.04      0.11      0.05       458\n",
      "        no_relation       0.34      0.26      0.29      6143\n",
      "         activation       0.42      0.39      0.40      7342\n",
      "\n",
      "           accuracy                           0.26     18128\n",
      "          macro avg       0.14      0.15      0.14     18128\n",
      "       weighted avg       0.30      0.26      0.28     18128\n",
      "\n",
      "Validation Cross-Entropy Loss: 1.8533964024649725\n",
      "Epoch 7, Train Loss: 2.0063, Val F1 Score: 0.2764\n"
     ]
    },
    {
     "name": "stderr",
     "output_type": "stream",
     "text": [
      "Training: 100%|██████████| 100/100 [01:07<00:00,  1.47it/s]\n",
      "Validating: 100%|██████████| 18/18 [00:02<00:00,  7.84it/s]\n"
     ]
    },
    {
     "name": "stdout",
     "output_type": "stream",
     "text": [
      "Weighted F1 Score: 0.28143488021369356\n",
      "Classification Report:\n",
      "                     precision    recall  f1-score   support\n",
      "\n",
      "         inhibition       0.03      0.01      0.01      1745\n",
      "    phosphorylation       0.15      0.12      0.14      1024\n",
      "         expression       0.02      0.02      0.02       722\n",
      "           compound       0.02      0.06      0.03       694\n",
      "binding/association       0.05      0.10      0.07       458\n",
      "        no_relation       0.34      0.30      0.32      6143\n",
      "         activation       0.41      0.39      0.40      7342\n",
      "\n",
      "           accuracy                           0.27     18128\n",
      "          macro avg       0.14      0.14      0.14     18128\n",
      "       weighted avg       0.30      0.27      0.28     18128\n",
      "\n",
      "Validation Cross-Entropy Loss: 1.843080719312032\n",
      "Epoch 8, Train Loss: 1.9810, Val F1 Score: 0.2814\n"
     ]
    },
    {
     "name": "stderr",
     "output_type": "stream",
     "text": [
      "Training: 100%|██████████| 100/100 [01:08<00:00,  1.46it/s]\n",
      "Validating: 100%|██████████| 18/18 [00:02<00:00,  8.04it/s]\n"
     ]
    },
    {
     "name": "stdout",
     "output_type": "stream",
     "text": [
      "Weighted F1 Score: 0.2851898327387102\n",
      "Classification Report:\n",
      "                     precision    recall  f1-score   support\n",
      "\n",
      "         inhibition       0.03      0.01      0.01      1745\n",
      "    phosphorylation       0.17      0.12      0.14      1024\n",
      "         expression       0.02      0.02      0.02       722\n",
      "           compound       0.02      0.06      0.03       694\n",
      "binding/association       0.05      0.10      0.06       458\n",
      "        no_relation       0.34      0.31      0.33      6143\n",
      "         activation       0.41      0.39      0.40      7342\n",
      "\n",
      "           accuracy                           0.28     18128\n",
      "          macro avg       0.15      0.14      0.14     18128\n",
      "       weighted avg       0.30      0.28      0.29     18128\n",
      "\n",
      "Validation Cross-Entropy Loss: 1.8335881763034396\n",
      "Epoch 9, Train Loss: 1.9663, Val F1 Score: 0.2852\n"
     ]
    },
    {
     "name": "stderr",
     "output_type": "stream",
     "text": [
      "Training: 100%|██████████| 100/100 [01:09<00:00,  1.45it/s]\n",
      "Validating: 100%|██████████| 18/18 [00:02<00:00,  7.85it/s]\n"
     ]
    },
    {
     "name": "stdout",
     "output_type": "stream",
     "text": [
      "Weighted F1 Score: 0.2867268718827331\n",
      "Classification Report:\n",
      "                     precision    recall  f1-score   support\n",
      "\n",
      "         inhibition       0.04      0.01      0.01      1745\n",
      "    phosphorylation       0.18      0.12      0.15      1024\n",
      "         expression       0.01      0.01      0.01       722\n",
      "           compound       0.02      0.06      0.03       694\n",
      "binding/association       0.04      0.09      0.06       458\n",
      "        no_relation       0.34      0.32      0.33      6143\n",
      "         activation       0.41      0.39      0.40      7342\n",
      "\n",
      "           accuracy                           0.28     18128\n",
      "          macro avg       0.15      0.14      0.14     18128\n",
      "       weighted avg       0.30      0.28      0.29     18128\n",
      "\n",
      "Validation Cross-Entropy Loss: 1.824998829099867\n",
      "Epoch 10, Train Loss: 1.9453, Val F1 Score: 0.2867\n"
     ]
    },
    {
     "name": "stderr",
     "output_type": "stream",
     "text": [
      "Training: 100%|██████████| 100/100 [01:09<00:00,  1.45it/s]\n",
      "Validating: 100%|██████████| 18/18 [00:02<00:00,  7.49it/s]\n"
     ]
    },
    {
     "name": "stdout",
     "output_type": "stream",
     "text": [
      "Weighted F1 Score: 0.2855534869916492\n",
      "Classification Report:\n",
      "                     precision    recall  f1-score   support\n",
      "\n",
      "         inhibition       0.05      0.01      0.01      1745\n",
      "    phosphorylation       0.15      0.07      0.09      1024\n",
      "         expression       0.00      0.00      0.00       722\n",
      "           compound       0.02      0.06      0.03       694\n",
      "binding/association       0.05      0.09      0.06       458\n",
      "        no_relation       0.34      0.34      0.34      6143\n",
      "         activation       0.41      0.39      0.40      7342\n",
      "\n",
      "           accuracy                           0.28     18128\n",
      "          macro avg       0.14      0.14      0.13     18128\n",
      "       weighted avg       0.29      0.28      0.29     18128\n",
      "\n",
      "Validation Cross-Entropy Loss: 1.817050364282396\n",
      "Epoch 11, Train Loss: 1.9306, Val F1 Score: 0.2856\n"
     ]
    },
    {
     "name": "stderr",
     "output_type": "stream",
     "text": [
      "Training: 100%|██████████| 100/100 [01:09<00:00,  1.44it/s]\n",
      "Validating: 100%|██████████| 18/18 [00:02<00:00,  8.33it/s]\n"
     ]
    },
    {
     "name": "stdout",
     "output_type": "stream",
     "text": [
      "Weighted F1 Score: 0.28626884774635886\n",
      "Classification Report:\n",
      "                     precision    recall  f1-score   support\n",
      "\n",
      "         inhibition       0.05      0.01      0.01      1745\n",
      "    phosphorylation       0.02      0.00      0.01      1024\n",
      "         expression       0.00      0.00      0.00       722\n",
      "           compound       0.02      0.06      0.02       694\n",
      "binding/association       0.05      0.09      0.06       458\n",
      "        no_relation       0.34      0.37      0.35      6143\n",
      "         activation       0.42      0.39      0.40      7342\n",
      "\n",
      "           accuracy                           0.29     18128\n",
      "          macro avg       0.13      0.13      0.12     18128\n",
      "       weighted avg       0.29      0.29      0.29     18128\n",
      "\n",
      "Validation Cross-Entropy Loss: 1.809695581595103\n",
      "Epoch 12, Train Loss: 1.9132, Val F1 Score: 0.2863\n"
     ]
    },
    {
     "name": "stderr",
     "output_type": "stream",
     "text": [
      "Training: 100%|██████████| 100/100 [01:09<00:00,  1.44it/s]\n",
      "Validating: 100%|██████████| 18/18 [00:02<00:00,  7.81it/s]\n"
     ]
    },
    {
     "name": "stdout",
     "output_type": "stream",
     "text": [
      "Weighted F1 Score: 0.29165951313352484\n",
      "Classification Report:\n",
      "                     precision    recall  f1-score   support\n",
      "\n",
      "         inhibition       0.07      0.01      0.02      1745\n",
      "    phosphorylation       0.02      0.00      0.00      1024\n",
      "         expression       0.00      0.00      0.00       722\n",
      "           compound       0.02      0.06      0.02       694\n",
      "binding/association       0.05      0.08      0.06       458\n",
      "        no_relation       0.34      0.39      0.36      6143\n",
      "         activation       0.42      0.39      0.40      7342\n",
      "\n",
      "           accuracy                           0.30     18128\n",
      "          macro avg       0.13      0.13      0.13     18128\n",
      "       weighted avg       0.30      0.30      0.29     18128\n",
      "\n",
      "Validation Cross-Entropy Loss: 1.8032102055019803\n",
      "Epoch 13, Train Loss: 1.8953, Val F1 Score: 0.2917\n"
     ]
    },
    {
     "name": "stderr",
     "output_type": "stream",
     "text": [
      "Training: 100%|██████████| 100/100 [01:08<00:00,  1.45it/s]\n",
      "Validating: 100%|██████████| 18/18 [00:02<00:00,  8.03it/s]\n"
     ]
    },
    {
     "name": "stdout",
     "output_type": "stream",
     "text": [
      "Weighted F1 Score: 0.296629060819605\n",
      "Classification Report:\n",
      "                     precision    recall  f1-score   support\n",
      "\n",
      "         inhibition       0.08      0.01      0.02      1745\n",
      "    phosphorylation       0.02      0.00      0.00      1024\n",
      "         expression       0.00      0.00      0.00       722\n",
      "           compound       0.02      0.06      0.02       694\n",
      "binding/association       0.05      0.07      0.06       458\n",
      "        no_relation       0.34      0.40      0.37      6143\n",
      "         activation       0.42      0.40      0.41      7342\n",
      "\n",
      "           accuracy                           0.30     18128\n",
      "          macro avg       0.13      0.14      0.13     18128\n",
      "       weighted avg       0.30      0.30      0.30     18128\n",
      "\n",
      "Validation Cross-Entropy Loss: 1.7970495621363323\n",
      "Epoch 14, Train Loss: 1.8888, Val F1 Score: 0.2966\n"
     ]
    },
    {
     "name": "stderr",
     "output_type": "stream",
     "text": [
      "Training: 100%|██████████| 100/100 [01:08<00:00,  1.45it/s]\n",
      "Validating: 100%|██████████| 18/18 [00:02<00:00,  8.32it/s]\n"
     ]
    },
    {
     "name": "stdout",
     "output_type": "stream",
     "text": [
      "Weighted F1 Score: 0.298130613417911\n",
      "Classification Report:\n",
      "                     precision    recall  f1-score   support\n",
      "\n",
      "         inhibition       0.08      0.01      0.02      1745\n",
      "    phosphorylation       0.02      0.00      0.00      1024\n",
      "         expression       0.00      0.00      0.00       722\n",
      "           compound       0.02      0.06      0.03       694\n",
      "binding/association       0.05      0.06      0.05       458\n",
      "        no_relation       0.34      0.42      0.38      6143\n",
      "         activation       0.43      0.40      0.41      7342\n",
      "\n",
      "           accuracy                           0.31     18128\n",
      "          macro avg       0.13      0.14      0.13     18128\n",
      "       weighted avg       0.30      0.31      0.30     18128\n",
      "\n",
      "Validation Cross-Entropy Loss: 1.7914144727918837\n",
      "Epoch 15, Train Loss: 1.8699, Val F1 Score: 0.2981\n"
     ]
    },
    {
     "name": "stderr",
     "output_type": "stream",
     "text": [
      "Training: 100%|██████████| 100/100 [01:08<00:00,  1.46it/s]\n",
      "Validating: 100%|██████████| 18/18 [00:02<00:00,  7.45it/s]\n"
     ]
    },
    {
     "name": "stdout",
     "output_type": "stream",
     "text": [
      "Weighted F1 Score: 0.2982650124421443\n",
      "Classification Report:\n",
      "                     precision    recall  f1-score   support\n",
      "\n",
      "         inhibition       0.09      0.01      0.01      1745\n",
      "    phosphorylation       0.00      0.00      0.00      1024\n",
      "         expression       0.00      0.00      0.00       722\n",
      "           compound       0.02      0.06      0.03       694\n",
      "binding/association       0.02      0.02      0.02       458\n",
      "        no_relation       0.34      0.43      0.38      6143\n",
      "         activation       0.43      0.40      0.41      7342\n",
      "\n",
      "           accuracy                           0.31     18128\n",
      "          macro avg       0.13      0.13      0.12     18128\n",
      "       weighted avg       0.30      0.31      0.30     18128\n",
      "\n",
      "Validation Cross-Entropy Loss: 1.786245498392317\n",
      "Epoch 16, Train Loss: 1.8594, Val F1 Score: 0.2983\n"
     ]
    },
    {
     "name": "stderr",
     "output_type": "stream",
     "text": [
      "Training: 100%|██████████| 100/100 [01:08<00:00,  1.46it/s]\n",
      "Validating: 100%|██████████| 18/18 [00:02<00:00,  8.33it/s]\n"
     ]
    },
    {
     "name": "stdout",
     "output_type": "stream",
     "text": [
      "Weighted F1 Score: 0.30005363852143657\n",
      "Classification Report:\n",
      "                     precision    recall  f1-score   support\n",
      "\n",
      "         inhibition       0.10      0.01      0.01      1745\n",
      "    phosphorylation       0.00      0.00      0.00      1024\n",
      "         expression       0.00      0.00      0.00       722\n",
      "           compound       0.02      0.06      0.03       694\n",
      "binding/association       0.02      0.02      0.02       458\n",
      "        no_relation       0.34      0.45      0.39      6143\n",
      "         activation       0.43      0.39      0.41      7342\n",
      "\n",
      "           accuracy                           0.31     18128\n",
      "          macro avg       0.13      0.13      0.12     18128\n",
      "       weighted avg       0.30      0.31      0.30     18128\n",
      "\n",
      "Validation Cross-Entropy Loss: 1.781338592370351\n",
      "Epoch 17, Train Loss: 1.8545, Val F1 Score: 0.3001\n"
     ]
    },
    {
     "name": "stderr",
     "output_type": "stream",
     "text": [
      "Training: 100%|██████████| 100/100 [01:10<00:00,  1.42it/s]\n",
      "Validating: 100%|██████████| 18/18 [00:02<00:00,  8.32it/s]\n"
     ]
    },
    {
     "name": "stdout",
     "output_type": "stream",
     "text": [
      "Weighted F1 Score: 0.30181120517771204\n",
      "Classification Report:\n",
      "                     precision    recall  f1-score   support\n",
      "\n",
      "         inhibition       0.13      0.01      0.01      1745\n",
      "    phosphorylation       0.00      0.00      0.00      1024\n",
      "         expression       0.00      0.00      0.00       722\n",
      "           compound       0.02      0.06      0.03       694\n",
      "binding/association       0.02      0.02      0.02       458\n",
      "        no_relation       0.34      0.45      0.39      6143\n",
      "         activation       0.43      0.40      0.41      7342\n",
      "\n",
      "           accuracy                           0.32     18128\n",
      "          macro avg       0.14      0.13      0.12     18128\n",
      "       weighted avg       0.30      0.32      0.30     18128\n",
      "\n",
      "Validation Cross-Entropy Loss: 1.7768932382265727\n",
      "Epoch 18, Train Loss: 1.8405, Val F1 Score: 0.3018\n"
     ]
    },
    {
     "name": "stderr",
     "output_type": "stream",
     "text": [
      "Training: 100%|██████████| 100/100 [01:09<00:00,  1.44it/s]\n",
      "Validating: 100%|██████████| 18/18 [00:02<00:00,  8.22it/s]\n"
     ]
    },
    {
     "name": "stdout",
     "output_type": "stream",
     "text": [
      "Weighted F1 Score: 0.2995061271843755\n",
      "Classification Report:\n",
      "                     precision    recall  f1-score   support\n",
      "\n",
      "         inhibition       0.09      0.00      0.01      1745\n",
      "    phosphorylation       0.00      0.00      0.00      1024\n",
      "         expression       0.00      0.00      0.00       722\n",
      "           compound       0.02      0.06      0.03       694\n",
      "binding/association       0.01      0.01      0.01       458\n",
      "        no_relation       0.34      0.45      0.39      6143\n",
      "         activation       0.43      0.40      0.41      7342\n",
      "\n",
      "           accuracy                           0.32     18128\n",
      "          macro avg       0.13      0.13      0.12     18128\n",
      "       weighted avg       0.30      0.32      0.30     18128\n",
      "\n",
      "Validation Cross-Entropy Loss: 1.7726533611615498\n",
      "Epoch 19, Train Loss: 1.8380, Val F1 Score: 0.2995\n"
     ]
    },
    {
     "name": "stderr",
     "output_type": "stream",
     "text": [
      "Training: 100%|██████████| 100/100 [01:12<00:00,  1.39it/s]\n",
      "Validating: 100%|██████████| 18/18 [00:02<00:00,  8.31it/s]\n"
     ]
    },
    {
     "name": "stdout",
     "output_type": "stream",
     "text": [
      "Weighted F1 Score: 0.30263879639900637\n",
      "Classification Report:\n",
      "                     precision    recall  f1-score   support\n",
      "\n",
      "         inhibition       0.09      0.00      0.01      1745\n",
      "    phosphorylation       0.00      0.00      0.00      1024\n",
      "         expression       0.00      0.00      0.00       722\n",
      "           compound       0.02      0.05      0.03       694\n",
      "binding/association       0.01      0.01      0.01       458\n",
      "        no_relation       0.34      0.46      0.39      6143\n",
      "         activation       0.43      0.40      0.42      7342\n",
      "\n",
      "           accuracy                           0.32     18128\n",
      "          macro avg       0.13      0.13      0.12     18128\n",
      "       weighted avg       0.30      0.32      0.30     18128\n",
      "\n",
      "Validation Cross-Entropy Loss: 1.7688371804025438\n",
      "Epoch 20, Train Loss: 1.8322, Val F1 Score: 0.3026\n"
     ]
    },
    {
     "name": "stderr",
     "output_type": "stream",
     "text": [
      "Training: 100%|██████████| 100/100 [01:13<00:00,  1.37it/s]\n",
      "Validating: 100%|██████████| 18/18 [00:02<00:00,  7.37it/s]\n"
     ]
    },
    {
     "name": "stdout",
     "output_type": "stream",
     "text": [
      "Weighted F1 Score: 0.30294105595874793\n",
      "Classification Report:\n",
      "                     precision    recall  f1-score   support\n",
      "\n",
      "         inhibition       0.09      0.00      0.01      1745\n",
      "    phosphorylation       0.00      0.00      0.00      1024\n",
      "         expression       0.00      0.00      0.00       722\n",
      "           compound       0.02      0.05      0.02       694\n",
      "binding/association       0.01      0.01      0.01       458\n",
      "        no_relation       0.34      0.46      0.39      6143\n",
      "         activation       0.43      0.40      0.42      7342\n",
      "\n",
      "           accuracy                           0.32     18128\n",
      "          macro avg       0.13      0.13      0.12     18128\n",
      "       weighted avg       0.30      0.32      0.30     18128\n",
      "\n",
      "Validation Cross-Entropy Loss: 1.7653952307171292\n",
      "Epoch 21, Train Loss: 1.8217, Val F1 Score: 0.3029\n"
     ]
    },
    {
     "name": "stderr",
     "output_type": "stream",
     "text": [
      "Training: 100%|██████████| 100/100 [01:12<00:00,  1.39it/s]\n",
      "Validating: 100%|██████████| 18/18 [00:02<00:00,  8.47it/s]\n"
     ]
    },
    {
     "name": "stdout",
     "output_type": "stream",
     "text": [
      "Weighted F1 Score: 0.3031920310569662\n",
      "Classification Report:\n",
      "                     precision    recall  f1-score   support\n",
      "\n",
      "         inhibition       0.04      0.00      0.00      1745\n",
      "    phosphorylation       0.00      0.00      0.00      1024\n",
      "         expression       0.00      0.00      0.00       722\n",
      "           compound       0.01      0.04      0.02       694\n",
      "binding/association       0.02      0.01      0.01       458\n",
      "        no_relation       0.34      0.47      0.39      6143\n",
      "         activation       0.43      0.40      0.42      7342\n",
      "\n",
      "           accuracy                           0.32     18128\n",
      "          macro avg       0.12      0.13      0.12     18128\n",
      "       weighted avg       0.29      0.32      0.30     18128\n",
      "\n",
      "Validation Cross-Entropy Loss: 1.7622855239444308\n",
      "Epoch 22, Train Loss: 1.8161, Val F1 Score: 0.3032\n"
     ]
    },
    {
     "name": "stderr",
     "output_type": "stream",
     "text": [
      "Training: 100%|██████████| 100/100 [01:12<00:00,  1.38it/s]\n",
      "Validating: 100%|██████████| 18/18 [00:02<00:00,  7.54it/s]\n"
     ]
    },
    {
     "name": "stdout",
     "output_type": "stream",
     "text": [
      "Weighted F1 Score: 0.3073711565767999\n",
      "Classification Report:\n",
      "                     precision    recall  f1-score   support\n",
      "\n",
      "         inhibition       0.04      0.00      0.00      1745\n",
      "    phosphorylation       0.00      0.00      0.00      1024\n",
      "         expression       0.01      0.00      0.00       722\n",
      "           compound       0.02      0.04      0.02       694\n",
      "binding/association       0.01      0.01      0.01       458\n",
      "        no_relation       0.34      0.48      0.39      6143\n",
      "         activation       0.44      0.41      0.42      7342\n",
      "\n",
      "           accuracy                           0.33     18128\n",
      "          macro avg       0.12      0.13      0.12     18128\n",
      "       weighted avg       0.30      0.33      0.31     18128\n",
      "\n",
      "Validation Cross-Entropy Loss: 1.759187360604604\n",
      "Epoch 23, Train Loss: 1.8079, Val F1 Score: 0.3074\n"
     ]
    },
    {
     "name": "stderr",
     "output_type": "stream",
     "text": [
      "Training: 100%|██████████| 100/100 [01:11<00:00,  1.40it/s]\n",
      "Validating: 100%|██████████| 18/18 [00:02<00:00,  8.16it/s]\n"
     ]
    },
    {
     "name": "stdout",
     "output_type": "stream",
     "text": [
      "Weighted F1 Score: 0.30613361946379386\n",
      "Classification Report:\n",
      "                     precision    recall  f1-score   support\n",
      "\n",
      "         inhibition       0.00      0.00      0.00      1745\n",
      "    phosphorylation       0.00      0.00      0.00      1024\n",
      "         expression       0.01      0.00      0.00       722\n",
      "           compound       0.02      0.04      0.02       694\n",
      "binding/association       0.01      0.01      0.01       458\n",
      "        no_relation       0.34      0.49      0.40      6143\n",
      "         activation       0.43      0.40      0.42      7342\n",
      "\n",
      "           accuracy                           0.33     18128\n",
      "          macro avg       0.12      0.14      0.12     18128\n",
      "       weighted avg       0.29      0.33      0.31     18128\n",
      "\n",
      "Validation Cross-Entropy Loss: 1.7564940651257832\n",
      "Epoch 24, Train Loss: 1.8039, Val F1 Score: 0.3061\n"
     ]
    },
    {
     "name": "stderr",
     "output_type": "stream",
     "text": [
      "Training: 100%|██████████| 100/100 [01:11<00:00,  1.39it/s]\n",
      "Validating: 100%|██████████| 18/18 [00:02<00:00,  7.11it/s]\n"
     ]
    },
    {
     "name": "stdout",
     "output_type": "stream",
     "text": [
      "Weighted F1 Score: 0.3075602614343718\n",
      "Classification Report:\n",
      "                     precision    recall  f1-score   support\n",
      "\n",
      "         inhibition       0.00      0.00      0.00      1745\n",
      "    phosphorylation       0.00      0.00      0.00      1024\n",
      "         expression       0.01      0.00      0.00       722\n",
      "           compound       0.02      0.04      0.02       694\n",
      "binding/association       0.01      0.01      0.01       458\n",
      "        no_relation       0.34      0.50      0.40      6143\n",
      "         activation       0.44      0.40      0.42      7342\n",
      "\n",
      "           accuracy                           0.33     18128\n",
      "          macro avg       0.12      0.14      0.12     18128\n",
      "       weighted avg       0.29      0.33      0.31     18128\n",
      "\n",
      "Validation Cross-Entropy Loss: 1.7539865109655592\n",
      "Epoch 25, Train Loss: 1.7993, Val F1 Score: 0.3076\n"
     ]
    },
    {
     "name": "stderr",
     "output_type": "stream",
     "text": [
      "Training: 100%|██████████| 100/100 [01:12<00:00,  1.39it/s]\n",
      "Validating: 100%|██████████| 18/18 [00:02<00:00,  7.14it/s]\n"
     ]
    },
    {
     "name": "stdout",
     "output_type": "stream",
     "text": [
      "Weighted F1 Score: 0.30864075661537627\n",
      "Classification Report:\n",
      "                     precision    recall  f1-score   support\n",
      "\n",
      "         inhibition       0.00      0.00      0.00      1745\n",
      "    phosphorylation       0.00      0.00      0.00      1024\n",
      "         expression       0.01      0.00      0.00       722\n",
      "           compound       0.02      0.04      0.02       694\n",
      "binding/association       0.01      0.01      0.01       458\n",
      "        no_relation       0.34      0.50      0.40      6143\n",
      "         activation       0.44      0.41      0.42      7342\n",
      "\n",
      "           accuracy                           0.34     18128\n",
      "          macro avg       0.12      0.14      0.12     18128\n",
      "       weighted avg       0.29      0.34      0.31     18128\n",
      "\n",
      "Validation Cross-Entropy Loss: 1.7514919771088495\n",
      "Epoch 26, Train Loss: 1.7913, Val F1 Score: 0.3086\n"
     ]
    },
    {
     "name": "stderr",
     "output_type": "stream",
     "text": [
      "Training: 100%|██████████| 100/100 [01:11<00:00,  1.40it/s]\n",
      "Validating: 100%|██████████| 18/18 [00:02<00:00,  7.52it/s]\n"
     ]
    },
    {
     "name": "stdout",
     "output_type": "stream",
     "text": [
      "Weighted F1 Score: 0.3074594703276392\n",
      "Classification Report:\n",
      "                     precision    recall  f1-score   support\n",
      "\n",
      "         inhibition       0.00      0.00      0.00      1745\n",
      "    phosphorylation       0.00      0.00      0.00      1024\n",
      "         expression       0.00      0.00      0.00       722\n",
      "           compound       0.02      0.05      0.02       694\n",
      "binding/association       0.01      0.01      0.01       458\n",
      "        no_relation       0.34      0.51      0.41      6143\n",
      "         activation       0.44      0.40      0.42      7342\n",
      "\n",
      "           accuracy                           0.33     18128\n",
      "          macro avg       0.12      0.14      0.12     18128\n",
      "       weighted avg       0.29      0.33      0.31     18128\n",
      "\n",
      "Validation Cross-Entropy Loss: 1.7491341564390395\n",
      "Epoch 27, Train Loss: 1.7883, Val F1 Score: 0.3075\n"
     ]
    },
    {
     "name": "stderr",
     "output_type": "stream",
     "text": [
      "Training: 100%|██████████| 100/100 [01:12<00:00,  1.39it/s]\n",
      "Validating: 100%|██████████| 18/18 [00:02<00:00,  7.94it/s]\n"
     ]
    },
    {
     "name": "stdout",
     "output_type": "stream",
     "text": [
      "Weighted F1 Score: 0.30983724453211803\n",
      "Classification Report:\n",
      "                     precision    recall  f1-score   support\n",
      "\n",
      "         inhibition       0.00      0.00      0.00      1745\n",
      "    phosphorylation       0.00      0.00      0.00      1024\n",
      "         expression       0.00      0.00      0.00       722\n",
      "           compound       0.02      0.05      0.03       694\n",
      "binding/association       0.01      0.00      0.01       458\n",
      "        no_relation       0.34      0.51      0.41      6143\n",
      "         activation       0.44      0.40      0.42      7342\n",
      "\n",
      "           accuracy                           0.34     18128\n",
      "          macro avg       0.12      0.14      0.12     18128\n",
      "       weighted avg       0.29      0.34      0.31     18128\n",
      "\n",
      "Validation Cross-Entropy Loss: 1.7470402518908184\n",
      "Epoch 28, Train Loss: 1.7832, Val F1 Score: 0.3098\n"
     ]
    },
    {
     "name": "stderr",
     "output_type": "stream",
     "text": [
      "Training: 100%|██████████| 100/100 [01:11<00:00,  1.39it/s]\n",
      "Validating: 100%|██████████| 18/18 [00:02<00:00,  7.92it/s]\n"
     ]
    },
    {
     "name": "stdout",
     "output_type": "stream",
     "text": [
      "Weighted F1 Score: 0.30789940627350204\n",
      "Classification Report:\n",
      "                     precision    recall  f1-score   support\n",
      "\n",
      "         inhibition       0.00      0.00      0.00      1745\n",
      "    phosphorylation       0.00      0.00      0.00      1024\n",
      "         expression       0.00      0.00      0.00       722\n",
      "           compound       0.02      0.04      0.03       694\n",
      "binding/association       0.01      0.00      0.01       458\n",
      "        no_relation       0.34      0.52      0.41      6143\n",
      "         activation       0.44      0.39      0.41      7342\n",
      "\n",
      "           accuracy                           0.34     18128\n",
      "          macro avg       0.11      0.14      0.12     18128\n",
      "       weighted avg       0.29      0.34      0.31     18128\n",
      "\n",
      "Validation Cross-Entropy Loss: 1.744891385237376\n",
      "Epoch 29, Train Loss: 1.7826, Val F1 Score: 0.3079\n"
     ]
    },
    {
     "name": "stderr",
     "output_type": "stream",
     "text": [
      "Training: 100%|██████████| 100/100 [01:12<00:00,  1.37it/s]\n",
      "Validating: 100%|██████████| 18/18 [00:02<00:00,  7.19it/s]\n"
     ]
    },
    {
     "name": "stdout",
     "output_type": "stream",
     "text": [
      "Weighted F1 Score: 0.3098326549818367\n",
      "Classification Report:\n",
      "                     precision    recall  f1-score   support\n",
      "\n",
      "         inhibition       0.00      0.00      0.00      1745\n",
      "    phosphorylation       0.00      0.00      0.00      1024\n",
      "         expression       0.00      0.00      0.00       722\n",
      "           compound       0.02      0.04      0.03       694\n",
      "binding/association       0.01      0.00      0.01       458\n",
      "        no_relation       0.34      0.54      0.41      6143\n",
      "         activation       0.44      0.39      0.42      7342\n",
      "\n",
      "           accuracy                           0.34     18128\n",
      "          macro avg       0.12      0.14      0.12     18128\n",
      "       weighted avg       0.29      0.34      0.31     18128\n",
      "\n",
      "Validation Cross-Entropy Loss: 1.7430716421869066\n",
      "Epoch 30, Train Loss: 1.7751, Val F1 Score: 0.3098\n"
     ]
    },
    {
     "name": "stderr",
     "output_type": "stream",
     "text": [
      "Training: 100%|██████████| 100/100 [01:12<00:00,  1.38it/s]\n",
      "Validating: 100%|██████████| 18/18 [00:02<00:00,  8.00it/s]\n"
     ]
    },
    {
     "name": "stdout",
     "output_type": "stream",
     "text": [
      "Weighted F1 Score: 0.31072318148382366\n",
      "Classification Report:\n",
      "                     precision    recall  f1-score   support\n",
      "\n",
      "         inhibition       0.00      0.00      0.00      1745\n",
      "    phosphorylation       0.00      0.00      0.00      1024\n",
      "         expression       0.00      0.00      0.00       722\n",
      "           compound       0.02      0.04      0.03       694\n",
      "binding/association       0.01      0.00      0.00       458\n",
      "        no_relation       0.34      0.55      0.42      6143\n",
      "         activation       0.45      0.39      0.42      7342\n",
      "\n",
      "           accuracy                           0.34     18128\n",
      "          macro avg       0.12      0.14      0.12     18128\n",
      "       weighted avg       0.30      0.34      0.31     18128\n",
      "\n",
      "Validation Cross-Entropy Loss: 1.7414408458603754\n",
      "Epoch 31, Train Loss: 1.7708, Val F1 Score: 0.3107\n"
     ]
    },
    {
     "name": "stderr",
     "output_type": "stream",
     "text": [
      "Training: 100%|██████████| 100/100 [01:12<00:00,  1.37it/s]\n",
      "Validating: 100%|██████████| 18/18 [00:02<00:00,  8.32it/s]\n"
     ]
    },
    {
     "name": "stdout",
     "output_type": "stream",
     "text": [
      "Weighted F1 Score: 0.3109489508037756\n",
      "Classification Report:\n",
      "                     precision    recall  f1-score   support\n",
      "\n",
      "         inhibition       0.00      0.00      0.00      1745\n",
      "    phosphorylation       0.00      0.00      0.00      1024\n",
      "         expression       0.00      0.00      0.00       722\n",
      "           compound       0.02      0.04      0.03       694\n",
      "binding/association       0.01      0.00      0.00       458\n",
      "        no_relation       0.34      0.56      0.42      6143\n",
      "         activation       0.45      0.39      0.41      7342\n",
      "\n",
      "           accuracy                           0.35     18128\n",
      "          macro avg       0.12      0.14      0.12     18128\n",
      "       weighted avg       0.30      0.35      0.31     18128\n",
      "\n",
      "Validation Cross-Entropy Loss: 1.7397616505622864\n",
      "Epoch 32, Train Loss: 1.7648, Val F1 Score: 0.3109\n"
     ]
    },
    {
     "name": "stderr",
     "output_type": "stream",
     "text": [
      "Training: 100%|██████████| 100/100 [01:10<00:00,  1.41it/s]\n",
      "Validating: 100%|██████████| 18/18 [00:02<00:00,  7.47it/s]\n"
     ]
    },
    {
     "name": "stdout",
     "output_type": "stream",
     "text": [
      "Weighted F1 Score: 0.310750694859291\n",
      "Classification Report:\n",
      "                     precision    recall  f1-score   support\n",
      "\n",
      "         inhibition       0.00      0.00      0.00      1745\n",
      "    phosphorylation       0.00      0.00      0.00      1024\n",
      "         expression       0.00      0.00      0.00       722\n",
      "           compound       0.03      0.04      0.03       694\n",
      "binding/association       0.01      0.00      0.00       458\n",
      "        no_relation       0.34      0.56      0.42      6143\n",
      "         activation       0.45      0.38      0.41      7342\n",
      "\n",
      "           accuracy                           0.35     18128\n",
      "          macro avg       0.12      0.14      0.12     18128\n",
      "       weighted avg       0.30      0.35      0.31     18128\n",
      "\n",
      "Validation Cross-Entropy Loss: 1.7381446427769132\n",
      "Epoch 33, Train Loss: 1.7613, Val F1 Score: 0.3108\n"
     ]
    },
    {
     "name": "stderr",
     "output_type": "stream",
     "text": [
      "Training: 100%|██████████| 100/100 [01:12<00:00,  1.39it/s]\n",
      "Validating: 100%|██████████| 18/18 [00:02<00:00,  7.40it/s]\n"
     ]
    },
    {
     "name": "stdout",
     "output_type": "stream",
     "text": [
      "Weighted F1 Score: 0.3107916124822178\n",
      "Classification Report:\n",
      "                     precision    recall  f1-score   support\n",
      "\n",
      "         inhibition       0.00      0.00      0.00      1745\n",
      "    phosphorylation       0.00      0.00      0.00      1024\n",
      "         expression       0.00      0.00      0.00       722\n",
      "           compound       0.03      0.04      0.03       694\n",
      "binding/association       0.01      0.00      0.00       458\n",
      "        no_relation       0.33      0.57      0.42      6143\n",
      "         activation       0.44      0.39      0.41      7342\n",
      "\n",
      "           accuracy                           0.35     18128\n",
      "          macro avg       0.12      0.14      0.12     18128\n",
      "       weighted avg       0.29      0.35      0.31     18128\n",
      "\n",
      "Validation Cross-Entropy Loss: 1.73662535349528\n",
      "Epoch 34, Train Loss: 1.7545, Val F1 Score: 0.3108\n"
     ]
    },
    {
     "name": "stderr",
     "output_type": "stream",
     "text": [
      "Training: 100%|██████████| 100/100 [01:11<00:00,  1.39it/s]\n",
      "Validating: 100%|██████████| 18/18 [00:02<00:00,  7.53it/s]\n"
     ]
    },
    {
     "name": "stdout",
     "output_type": "stream",
     "text": [
      "Weighted F1 Score: 0.3128301484635356\n",
      "Classification Report:\n",
      "                     precision    recall  f1-score   support\n",
      "\n",
      "         inhibition       0.00      0.00      0.00      1745\n",
      "    phosphorylation       0.00      0.00      0.00      1024\n",
      "         expression       0.00      0.00      0.00       722\n",
      "           compound       0.03      0.04      0.03       694\n",
      "binding/association       0.01      0.00      0.00       458\n",
      "        no_relation       0.33      0.57      0.42      6143\n",
      "         activation       0.45      0.39      0.42      7342\n",
      "\n",
      "           accuracy                           0.35     18128\n",
      "          macro avg       0.12      0.14      0.12     18128\n",
      "       weighted avg       0.29      0.35      0.31     18128\n",
      "\n",
      "Validation Cross-Entropy Loss: 1.7352871828609042\n",
      "Epoch 35, Train Loss: 1.7526, Val F1 Score: 0.3128\n"
     ]
    },
    {
     "name": "stderr",
     "output_type": "stream",
     "text": [
      "Training: 100%|██████████| 100/100 [01:10<00:00,  1.41it/s]\n",
      "Validating: 100%|██████████| 18/18 [00:02<00:00,  8.17it/s]\n"
     ]
    },
    {
     "name": "stdout",
     "output_type": "stream",
     "text": [
      "Weighted F1 Score: 0.313117338157946\n",
      "Classification Report:\n",
      "                     precision    recall  f1-score   support\n",
      "\n",
      "         inhibition       0.00      0.00      0.00      1745\n",
      "    phosphorylation       0.00      0.00      0.00      1024\n",
      "         expression       0.00      0.00      0.00       722\n",
      "           compound       0.03      0.04      0.03       694\n",
      "binding/association       0.01      0.00      0.00       458\n",
      "        no_relation       0.33      0.57      0.42      6143\n",
      "         activation       0.45      0.39      0.42      7342\n",
      "\n",
      "           accuracy                           0.35     18128\n",
      "          macro avg       0.12      0.14      0.13     18128\n",
      "       weighted avg       0.30      0.35      0.31     18128\n",
      "\n",
      "Validation Cross-Entropy Loss: 1.7339593238300748\n",
      "Epoch 36, Train Loss: 1.7529, Val F1 Score: 0.3131\n"
     ]
    },
    {
     "name": "stderr",
     "output_type": "stream",
     "text": [
      "Training: 100%|██████████| 100/100 [01:11<00:00,  1.40it/s]\n",
      "Validating: 100%|██████████| 18/18 [00:02<00:00,  7.25it/s]\n"
     ]
    },
    {
     "name": "stdout",
     "output_type": "stream",
     "text": [
      "Weighted F1 Score: 0.3135999386250977\n",
      "Classification Report:\n",
      "                     precision    recall  f1-score   support\n",
      "\n",
      "         inhibition       0.00      0.00      0.00      1745\n",
      "    phosphorylation       0.00      0.00      0.00      1024\n",
      "         expression       0.00      0.00      0.00       722\n",
      "           compound       0.03      0.04      0.03       694\n",
      "binding/association       0.01      0.00      0.00       458\n",
      "        no_relation       0.33      0.59      0.43      6143\n",
      "         activation       0.45      0.38      0.41      7342\n",
      "\n",
      "           accuracy                           0.36     18128\n",
      "          macro avg       0.12      0.14      0.12     18128\n",
      "       weighted avg       0.30      0.36      0.31     18128\n",
      "\n",
      "Validation Cross-Entropy Loss: 1.732549164030287\n",
      "Epoch 37, Train Loss: 1.7475, Val F1 Score: 0.3136\n"
     ]
    },
    {
     "name": "stderr",
     "output_type": "stream",
     "text": [
      "Training: 100%|██████████| 100/100 [01:53<00:00,  1.13s/it]\n",
      "Validating: 100%|██████████| 18/18 [00:05<00:00,  3.57it/s]\n"
     ]
    },
    {
     "name": "stdout",
     "output_type": "stream",
     "text": [
      "Weighted F1 Score: 0.3146505667684087\n",
      "Classification Report:\n",
      "                     precision    recall  f1-score   support\n",
      "\n",
      "         inhibition       0.00      0.00      0.00      1745\n",
      "    phosphorylation       0.00      0.00      0.00      1024\n",
      "         expression       0.00      0.00      0.00       722\n",
      "           compound       0.03      0.04      0.03       694\n",
      "binding/association       0.01      0.00      0.00       458\n",
      "        no_relation       0.33      0.60      0.43      6143\n",
      "         activation       0.46      0.38      0.42      7342\n",
      "\n",
      "           accuracy                           0.36     18128\n",
      "          macro avg       0.12      0.14      0.13     18128\n",
      "       weighted avg       0.30      0.36      0.31     18128\n",
      "\n",
      "Validation Cross-Entropy Loss: 1.731287572118971\n",
      "Epoch 38, Train Loss: 1.7465, Val F1 Score: 0.3147\n"
     ]
    },
    {
     "name": "stderr",
     "output_type": "stream",
     "text": [
      "Training: 100%|██████████| 100/100 [01:33<00:00,  1.07it/s]\n",
      "Validating: 100%|██████████| 18/18 [00:02<00:00,  8.27it/s]\n"
     ]
    },
    {
     "name": "stdout",
     "output_type": "stream",
     "text": [
      "Weighted F1 Score: 0.31629835651654026\n",
      "Classification Report:\n",
      "                     precision    recall  f1-score   support\n",
      "\n",
      "         inhibition       0.00      0.00      0.00      1745\n",
      "    phosphorylation       0.00      0.00      0.00      1024\n",
      "         expression       0.00      0.00      0.00       722\n",
      "           compound       0.03      0.04      0.03       694\n",
      "binding/association       0.02      0.00      0.00       458\n",
      "        no_relation       0.33      0.60      0.43      6143\n",
      "         activation       0.46      0.38      0.42      7342\n",
      "\n",
      "           accuracy                           0.36     18128\n",
      "          macro avg       0.12      0.15      0.13     18128\n",
      "       weighted avg       0.30      0.36      0.32     18128\n",
      "\n",
      "Validation Cross-Entropy Loss: 1.7300869557592604\n",
      "Epoch 39, Train Loss: 1.7413, Val F1 Score: 0.3163\n"
     ]
    },
    {
     "name": "stderr",
     "output_type": "stream",
     "text": [
      "Training: 100%|██████████| 100/100 [01:11<00:00,  1.39it/s]\n",
      "Validating: 100%|██████████| 18/18 [00:02<00:00,  7.21it/s]\n"
     ]
    },
    {
     "name": "stdout",
     "output_type": "stream",
     "text": [
      "Weighted F1 Score: 0.31975820367245267\n",
      "Classification Report:\n",
      "                     precision    recall  f1-score   support\n",
      "\n",
      "         inhibition       0.00      0.00      0.00      1745\n",
      "    phosphorylation       0.00      0.00      0.00      1024\n",
      "         expression       0.00      0.00      0.00       722\n",
      "           compound       0.03      0.04      0.03       694\n",
      "binding/association       0.02      0.00      0.00       458\n",
      "        no_relation       0.33      0.59      0.43      6143\n",
      "         activation       0.47      0.40      0.43      7342\n",
      "\n",
      "           accuracy                           0.36     18128\n",
      "          macro avg       0.12      0.15      0.13     18128\n",
      "       weighted avg       0.30      0.36      0.32     18128\n",
      "\n",
      "Validation Cross-Entropy Loss: 1.728975084092882\n",
      "Epoch 40, Train Loss: 1.7346, Val F1 Score: 0.3198\n"
     ]
    },
    {
     "name": "stderr",
     "output_type": "stream",
     "text": [
      "Training: 100%|██████████| 100/100 [6:37:03<00:00, 238.24s/it]    \n",
      "Validating: 100%|██████████| 18/18 [00:02<00:00,  7.71it/s]\n"
     ]
    },
    {
     "name": "stdout",
     "output_type": "stream",
     "text": [
      "Weighted F1 Score: 0.3195681689779058\n",
      "Classification Report:\n",
      "                     precision    recall  f1-score   support\n",
      "\n",
      "         inhibition       0.00      0.00      0.00      1745\n",
      "    phosphorylation       0.00      0.00      0.00      1024\n",
      "         expression       0.00      0.00      0.00       722\n",
      "           compound       0.03      0.04      0.03       694\n",
      "binding/association       0.02      0.00      0.00       458\n",
      "        no_relation       0.33      0.60      0.43      6143\n",
      "         activation       0.47      0.39      0.43      7342\n",
      "\n",
      "           accuracy                           0.36     18128\n",
      "          macro avg       0.12      0.15      0.13     18128\n",
      "       weighted avg       0.30      0.36      0.32     18128\n",
      "\n",
      "Validation Cross-Entropy Loss: 1.7280042635069952\n",
      "Epoch 41, Train Loss: 1.7360, Val F1 Score: 0.3196\n"
     ]
    },
    {
     "name": "stderr",
     "output_type": "stream",
     "text": [
      "Training: 100%|██████████| 100/100 [01:12<00:00,  1.38it/s]\n",
      "Validating: 100%|██████████| 18/18 [00:02<00:00,  7.55it/s]\n"
     ]
    },
    {
     "name": "stdout",
     "output_type": "stream",
     "text": [
      "Weighted F1 Score: 0.3183081896856885\n",
      "Classification Report:\n",
      "                     precision    recall  f1-score   support\n",
      "\n",
      "         inhibition       0.00      0.00      0.00      1745\n",
      "    phosphorylation       0.00      0.00      0.00      1024\n",
      "         expression       0.00      0.00      0.00       722\n",
      "           compound       0.03      0.04      0.03       694\n",
      "binding/association       0.00      0.00      0.00       458\n",
      "        no_relation       0.33      0.61      0.43      6143\n",
      "         activation       0.47      0.39      0.42      7342\n",
      "\n",
      "           accuracy                           0.36     18128\n",
      "          macro avg       0.12      0.15      0.13     18128\n",
      "       weighted avg       0.30      0.36      0.32     18128\n",
      "\n",
      "Validation Cross-Entropy Loss: 1.7268595496813457\n",
      "Epoch 42, Train Loss: 1.7326, Val F1 Score: 0.3183\n"
     ]
    },
    {
     "name": "stderr",
     "output_type": "stream",
     "text": [
      "Training: 100%|██████████| 100/100 [01:12<00:00,  1.38it/s]\n",
      "Validating: 100%|██████████| 18/18 [00:02<00:00,  7.61it/s]\n"
     ]
    },
    {
     "name": "stdout",
     "output_type": "stream",
     "text": [
      "Weighted F1 Score: 0.31838102122583195\n",
      "Classification Report:\n",
      "                     precision    recall  f1-score   support\n",
      "\n",
      "         inhibition       0.00      0.00      0.00      1745\n",
      "    phosphorylation       0.00      0.00      0.00      1024\n",
      "         expression       0.00      0.00      0.00       722\n",
      "           compound       0.03      0.04      0.03       694\n",
      "binding/association       0.00      0.00      0.00       458\n",
      "        no_relation       0.33      0.61      0.43      6143\n",
      "         activation       0.47      0.39      0.42      7342\n",
      "\n",
      "           accuracy                           0.36     18128\n",
      "          macro avg       0.12      0.15      0.13     18128\n",
      "       weighted avg       0.30      0.36      0.32     18128\n",
      "\n",
      "Validation Cross-Entropy Loss: 1.725783156024085\n",
      "Epoch 43, Train Loss: 1.7299, Val F1 Score: 0.3184\n"
     ]
    },
    {
     "name": "stderr",
     "output_type": "stream",
     "text": [
      "Training: 100%|██████████| 100/100 [01:11<00:00,  1.40it/s]\n",
      "Validating: 100%|██████████| 18/18 [00:02<00:00,  7.55it/s]\n"
     ]
    },
    {
     "name": "stdout",
     "output_type": "stream",
     "text": [
      "Weighted F1 Score: 0.31819096723675827\n",
      "Classification Report:\n",
      "                     precision    recall  f1-score   support\n",
      "\n",
      "         inhibition       0.00      0.00      0.00      1745\n",
      "    phosphorylation       0.00      0.00      0.00      1024\n",
      "         expression       0.00      0.00      0.00       722\n",
      "           compound       0.03      0.04      0.03       694\n",
      "binding/association       0.00      0.00      0.00       458\n",
      "        no_relation       0.33      0.61      0.43      6143\n",
      "         activation       0.47      0.39      0.42      7342\n",
      "\n",
      "           accuracy                           0.36     18128\n",
      "          macro avg       0.12      0.15      0.13     18128\n",
      "       weighted avg       0.30      0.36      0.32     18128\n",
      "\n",
      "Validation Cross-Entropy Loss: 1.7248502175013225\n",
      "Epoch 44, Train Loss: 1.7268, Val F1 Score: 0.3182\n"
     ]
    },
    {
     "name": "stderr",
     "output_type": "stream",
     "text": [
      "Training: 100%|██████████| 100/100 [01:11<00:00,  1.41it/s]\n",
      "Validating: 100%|██████████| 18/18 [00:02<00:00,  8.00it/s]"
     ]
    },
    {
     "name": "stdout",
     "output_type": "stream",
     "text": [
      "Weighted F1 Score: 0.31925595095778136\n",
      "Classification Report:\n",
      "                     precision    recall  f1-score   support\n",
      "\n",
      "         inhibition       0.00      0.00      0.00      1745\n",
      "    phosphorylation       0.00      0.00      0.00      1024\n",
      "         expression       0.00      0.00      0.00       722\n",
      "           compound       0.04      0.05      0.04       694\n",
      "binding/association       0.00      0.00      0.00       458\n",
      "        no_relation       0.33      0.61      0.43      6143\n",
      "         activation       0.47      0.38      0.42      7342\n",
      "\n",
      "           accuracy                           0.36     18128\n",
      "          macro avg       0.12      0.15      0.13     18128\n",
      "       weighted avg       0.30      0.36      0.32     18128\n",
      "\n",
      "Validation Cross-Entropy Loss: 1.724016355143653\n",
      "Epoch 45, Train Loss: 1.7261, Val F1 Score: 0.3193\n",
      "Early stopping triggered\n",
      "Best model saved.\n"
     ]
    },
    {
     "name": "stderr",
     "output_type": "stream",
     "text": [
      "\n"
     ]
    }
   ],
   "source": [
    "# Early stopping parameters\n",
    "patience = 5  # Number of epochs to wait for improvement before stopping\n",
    "best_val_loss = float('inf')\n",
    "epochs_no_improve = 0\n",
    "\n",
    "# Set up the learning rate scheduler\n",
    "scheduler = optim.lr_scheduler.ReduceLROnPlateau(optimizer, mode='max', factor=0.5, patience=5)\n",
    "\n",
    "best_f1_score = 0\n",
    "epochs_no_improve = 0\n",
    "best_model_state = None\n",
    "\n",
    "for epoch in range(1000):\n",
    "    train_loss = train()  # Your training function\n",
    "    val_f1_score = validate()  # Your validation function returning F1 score\n",
    "\n",
    "    print(f'Epoch {epoch+1}, Train Loss: {train_loss:.4f}, Val F1 Score: {val_f1_score:.4f}')\n",
    "\n",
    "    # Step the scheduler with the F1 score\n",
    "    scheduler.step(val_f1_score)\n",
    "\n",
    "    # Check for improvement\n",
    "    if val_f1_score > best_f1_score:\n",
    "        best_f1_score = val_f1_score\n",
    "        epochs_no_improve = 0\n",
    "        best_model_state = model.state_dict()  # Update the best model state\n",
    "    else:\n",
    "        epochs_no_improve += 1\n",
    "\n",
    "    if epochs_no_improve >= patience:\n",
    "        print(\"Early stopping triggered\")\n",
    "        break\n",
    "\n",
    "# Save the best model state (outside of the loop)\n",
    "if best_model_state is not None:\n",
    "    torch.save(best_model_state, 'new_GT_32_32_5_best.pth')\n",
    "    print(\"Best model saved.\")\n",
    "else:\n",
    "    print(\"No model improvement was observed.\")"
   ]
  }
 ],
 "metadata": {
  "kernelspec": {
   "display_name": "pathway_siamese_network",
   "language": "python",
   "name": "python3"
  },
  "language_info": {
   "codemirror_mode": {
    "name": "ipython",
    "version": 3
   },
   "file_extension": ".py",
   "mimetype": "text/x-python",
   "name": "python",
   "nbconvert_exporter": "python",
   "pygments_lexer": "ipython3",
   "version": "3.11.5"
  }
 },
 "nbformat": 4,
 "nbformat_minor": 2
}
